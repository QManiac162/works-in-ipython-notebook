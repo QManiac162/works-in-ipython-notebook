{
 "cells": [
  {
   "cell_type": "markdown",
   "id": "1f45fe26",
   "metadata": {},
   "source": [
    "#python libraries\n",
    "#libraries are basicallt collecion of modules\n",
    "#ex: numpy, pandas, matplotlib, opencv"
   ]
  },
  {
   "cell_type": "code",
   "execution_count": 1,
   "id": "8237ae32",
   "metadata": {},
   "outputs": [],
   "source": [
    "#numpy: (numerical python)\n",
    "#it is used instead of a list to store data\n",
    "#numpy is much faster and efficient whne compared to list\n",
    "#output of a numpy is always an array"
   ]
  },
  {
   "cell_type": "code",
   "execution_count": 2,
   "id": "dd6a9de4",
   "metadata": {},
   "outputs": [
    {
     "data": {
      "text/plain": [
       "array(1)"
      ]
     },
     "execution_count": 2,
     "metadata": {},
     "output_type": "execute_result"
    }
   ],
   "source": [
    "#np is the short form for the numpy library\n",
    "#array(1)=0 dimensional array=scalar\n",
    "import numpy as np\n",
    "a=np.array(1)\n",
    "a"
   ]
  },
  {
   "cell_type": "code",
   "execution_count": 3,
   "id": "a9b37028",
   "metadata": {},
   "outputs": [
    {
     "data": {
      "text/plain": [
       "numpy.ndarray"
      ]
     },
     "execution_count": 3,
     "metadata": {},
     "output_type": "execute_result"
    }
   ],
   "source": [
    "type(a)"
   ]
  },
  {
   "cell_type": "code",
   "execution_count": 4,
   "id": "32978b56",
   "metadata": {},
   "outputs": [
    {
     "data": {
      "text/plain": [
       "0"
      ]
     },
     "execution_count": 4,
     "metadata": {},
     "output_type": "execute_result"
    }
   ],
   "source": [
    "#to check the dimension of array a\n",
    "a.ndim"
   ]
  },
  {
   "cell_type": "code",
   "execution_count": 5,
   "id": "9369ddd4",
   "metadata": {},
   "outputs": [
    {
     "data": {
      "text/plain": [
       "()"
      ]
     },
     "execution_count": 5,
     "metadata": {},
     "output_type": "execute_result"
    }
   ],
   "source": [
    "#to check the no. of rows or columns i.e shape of array\n",
    "#since a is a 0 dim array, it is empty(=0)\n",
    "#default output: (row,column)\n",
    "a.shape"
   ]
  },
  {
   "cell_type": "code",
   "execution_count": 6,
   "id": "6248201c",
   "metadata": {},
   "outputs": [
    {
     "data": {
      "text/plain": [
       "1"
      ]
     },
     "execution_count": 6,
     "metadata": {},
     "output_type": "execute_result"
    }
   ],
   "source": [
    "#to check the total number of elements in the array\n",
    "a.size"
   ]
  },
  {
   "cell_type": "code",
   "execution_count": 7,
   "id": "f7d7aa74",
   "metadata": {},
   "outputs": [
    {
     "data": {
      "text/plain": [
       "array([1, 2, 3, 4, 5])"
      ]
     },
     "execution_count": 7,
     "metadata": {},
     "output_type": "execute_result"
    }
   ],
   "source": [
    "#declaring a 1 dimenional array=vector\n",
    "b=np.array([1,2,3,4,5])\n",
    "b"
   ]
  },
  {
   "cell_type": "code",
   "execution_count": 8,
   "id": "da359522",
   "metadata": {},
   "outputs": [
    {
     "data": {
      "text/plain": [
       "numpy.ndarray"
      ]
     },
     "execution_count": 8,
     "metadata": {},
     "output_type": "execute_result"
    }
   ],
   "source": [
    "type(b)"
   ]
  },
  {
   "cell_type": "code",
   "execution_count": 9,
   "id": "9f4672ba",
   "metadata": {},
   "outputs": [
    {
     "data": {
      "text/plain": [
       "1"
      ]
     },
     "execution_count": 9,
     "metadata": {},
     "output_type": "execute_result"
    }
   ],
   "source": [
    "b.ndim"
   ]
  },
  {
   "cell_type": "code",
   "execution_count": 10,
   "id": "57537286",
   "metadata": {},
   "outputs": [
    {
     "data": {
      "text/plain": [
       "(5,)"
      ]
     },
     "execution_count": 10,
     "metadata": {},
     "output_type": "execute_result"
    }
   ],
   "source": [
    "b.shape"
   ]
  },
  {
   "cell_type": "code",
   "execution_count": 11,
   "id": "a354aa9f",
   "metadata": {},
   "outputs": [
    {
     "data": {
      "text/plain": [
       "5"
      ]
     },
     "execution_count": 11,
     "metadata": {},
     "output_type": "execute_result"
    }
   ],
   "source": [
    "b.size"
   ]
  },
  {
   "cell_type": "code",
   "execution_count": 12,
   "id": "97c64b26",
   "metadata": {},
   "outputs": [
    {
     "data": {
      "text/plain": [
       "array([[1, 2, 3],\n",
       "       [4, 5, 6]])"
      ]
     },
     "execution_count": 12,
     "metadata": {},
     "output_type": "execute_result"
    }
   ],
   "source": [
    "#declaring a 2 dimensional array=matrix\n",
    "c = np.array([[1,2,3],[4,5,6]])\n",
    "c"
   ]
  },
  {
   "cell_type": "code",
   "execution_count": 13,
   "id": "2a02ed7d",
   "metadata": {},
   "outputs": [
    {
     "data": {
      "text/plain": [
       "2"
      ]
     },
     "execution_count": 13,
     "metadata": {},
     "output_type": "execute_result"
    }
   ],
   "source": [
    "c.ndim"
   ]
  },
  {
   "cell_type": "code",
   "execution_count": 14,
   "id": "6a202a7e",
   "metadata": {},
   "outputs": [
    {
     "data": {
      "text/plain": [
       "(2, 3)"
      ]
     },
     "execution_count": 14,
     "metadata": {},
     "output_type": "execute_result"
    }
   ],
   "source": [
    "c.shape"
   ]
  },
  {
   "cell_type": "code",
   "execution_count": 15,
   "id": "11193af7",
   "metadata": {},
   "outputs": [
    {
     "data": {
      "text/plain": [
       "6"
      ]
     },
     "execution_count": 15,
     "metadata": {},
     "output_type": "execute_result"
    }
   ],
   "source": [
    "c.size"
   ]
  },
  {
   "cell_type": "code",
   "execution_count": 16,
   "id": "4dd6fc6e",
   "metadata": {},
   "outputs": [
    {
     "data": {
      "text/plain": [
       "1"
      ]
     },
     "execution_count": 16,
     "metadata": {},
     "output_type": "execute_result"
    }
   ],
   "source": [
    "m=np.array([1,2,3])\n",
    "m.ndim"
   ]
  },
  {
   "cell_type": "code",
   "execution_count": 17,
   "id": "76ecff4f",
   "metadata": {},
   "outputs": [
    {
     "data": {
      "text/plain": [
       "1"
      ]
     },
     "execution_count": 17,
     "metadata": {},
     "output_type": "execute_result"
    }
   ],
   "source": [
    "n=np.array([1])\n",
    "n.ndim"
   ]
  },
  {
   "cell_type": "code",
   "execution_count": 18,
   "id": "56e56fa6",
   "metadata": {},
   "outputs": [],
   "source": [
    "#in m and n, both are 1D array and n is not a scalar as its declared in []\n",
    "#n is a vector having 1 element"
   ]
  },
  {
   "cell_type": "code",
   "execution_count": 19,
   "id": "6a53c8bc",
   "metadata": {},
   "outputs": [],
   "source": [
    "#np contains collection of libraries/ packages\n",
    "#ex: randint is under the package random in numpy\n",
    "#using np, i can access random package and the randint library"
   ]
  },
  {
   "cell_type": "code",
   "execution_count": 20,
   "id": "63706872",
   "metadata": {},
   "outputs": [
    {
     "data": {
      "text/plain": [
       "array([2, 2, 3, 0, 9])"
      ]
     },
     "execution_count": 20,
     "metadata": {},
     "output_type": "execute_result"
    }
   ],
   "source": [
    "#random-package \n",
    "#collection of libraries (large lib)\n",
    "#randint-library/small library\n",
    "#np tellds to supply 10 random integers in the range 0,10\n",
    "#running it each time will supply us with different set of 5 int\n",
    "d=np.random.randint(0,10,5)\n",
    "d"
   ]
  },
  {
   "cell_type": "code",
   "execution_count": 21,
   "id": "d2f6623d",
   "metadata": {},
   "outputs": [
    {
     "data": {
      "text/plain": [
       "array([44, 47,  0,  3,  3, 39,  9, 19, 21, 36])"
      ]
     },
     "execution_count": 21,
     "metadata": {},
     "output_type": "execute_result"
    }
   ],
   "source": [
    "#but using seed lib\n",
    "#here seed(any value) gives fixed set of int which are random\n",
    "#like for each set of any value inside seed(), im accessing a specific set of permutation\n",
    "#random.seed() is just a constant permutation\n",
    "np.random.seed(0)\n",
    "e=np.random.randint(0,50,10)\n",
    "e"
   ]
  },
  {
   "cell_type": "code",
   "execution_count": 22,
   "id": "c63eb371",
   "metadata": {},
   "outputs": [
    {
     "data": {
      "text/plain": [
       "array([435, 599,  71, 704, 251, 350, 348, 769, 445, 640, 857, 557, 552,\n",
       "       873, 348, 219, 292, 700, 493, 495, 298, 314, 937, 228, 660, 498,\n",
       "       286, 233, 344, 882, 414, 924, 414, 244, 205, 722, 668, 213, 733,\n",
       "       138, 926, 526, 829, 581, 716,  11, 948, 843, 416, 948])"
      ]
     },
     "execution_count": 22,
     "metadata": {},
     "output_type": "execute_result"
    }
   ],
   "source": [
    "#creating a variable with the name n and using randint \n",
    "#in the range of 0,1000, generate 50 random integers\n",
    "np.random.seed(1000)\n",
    "f=np.random.randint(0,1000,50)\n",
    "f"
   ]
  },
  {
   "cell_type": "code",
   "execution_count": 23,
   "id": "1393145e",
   "metadata": {},
   "outputs": [
    {
     "data": {
      "text/plain": [
       "1"
      ]
     },
     "execution_count": 23,
     "metadata": {},
     "output_type": "execute_result"
    }
   ],
   "source": [
    "f.ndim"
   ]
  },
  {
   "cell_type": "code",
   "execution_count": 24,
   "id": "7bcf2eda",
   "metadata": {},
   "outputs": [
    {
     "data": {
      "text/plain": [
       "(50,)"
      ]
     },
     "execution_count": 24,
     "metadata": {},
     "output_type": "execute_result"
    }
   ],
   "source": [
    "f.shape"
   ]
  },
  {
   "cell_type": "code",
   "execution_count": 25,
   "id": "b6c57951",
   "metadata": {},
   "outputs": [
    {
     "data": {
      "text/plain": [
       "50"
      ]
     },
     "execution_count": 25,
     "metadata": {},
     "output_type": "execute_result"
    }
   ],
   "source": [
    "f.size"
   ]
  },
  {
   "cell_type": "code",
   "execution_count": 26,
   "id": "1919cf12",
   "metadata": {},
   "outputs": [
    {
     "data": {
      "text/plain": [
       "array([[435, 599,  71, 704, 251, 350, 348, 769, 445, 640],\n",
       "       [857, 557, 552, 873, 348, 219, 292, 700, 493, 495],\n",
       "       [298, 314, 937, 228, 660, 498, 286, 233, 344, 882],\n",
       "       [414, 924, 414, 244, 205, 722, 668, 213, 733, 138],\n",
       "       [926, 526, 829, 581, 716,  11, 948, 843, 416, 948]])"
      ]
     },
     "execution_count": 26,
     "metadata": {},
     "output_type": "execute_result"
    }
   ],
   "source": [
    "#to change dimension of f\n",
    "#synatx is name.reshape(rows,column)\n",
    "#rows*column=f.size always\n",
    "#it doesnt change the value of original array until its overwritten\n",
    "f.reshape(5,10)"
   ]
  },
  {
   "cell_type": "code",
   "execution_count": 27,
   "id": "476fabaa",
   "metadata": {},
   "outputs": [
    {
     "data": {
      "text/plain": [
       "array([1., 1., 1., 1., 1., 1., 1., 1., 1., 1.])"
      ]
     },
     "execution_count": 27,
     "metadata": {},
     "output_type": "execute_result"
    }
   ],
   "source": [
    "#np.ones() will create a 1D array with only element '1'\n",
    "#here ones = HIGH STATE\n",
    "#value of HIGH STATE is 255\n",
    "#COLORS for ones is white\n",
    "x=np.ones(10)\n",
    "x"
   ]
  },
  {
   "cell_type": "code",
   "execution_count": 28,
   "id": "badfbb2e",
   "metadata": {
    "scrolled": true
   },
   "outputs": [
    {
     "data": {
      "text/plain": [
       "dtype('float64')"
      ]
     },
     "execution_count": 28,
     "metadata": {},
     "output_type": "execute_result"
    }
   ],
   "source": [
    "x.dtype\n",
    "#default datatype is float 64"
   ]
  },
  {
   "cell_type": "code",
   "execution_count": 29,
   "id": "3fedc2ec",
   "metadata": {},
   "outputs": [
    {
     "data": {
      "text/plain": [
       "array([0., 0., 0., 0., 0., 0., 0., 0., 0., 0.])"
      ]
     },
     "execution_count": 29,
     "metadata": {},
     "output_type": "execute_result"
    }
   ],
   "source": [
    "#np.zeroes will create a numpy array with all zeros\n",
    "#here zeroes = LOW STATE\n",
    "#value of LOW STATE is 0\n",
    "#COLORS for zeroes is black\n",
    "y=np.zeros(10)\n",
    "y"
   ]
  },
  {
   "cell_type": "code",
   "execution_count": 30,
   "id": "a11be3c4",
   "metadata": {},
   "outputs": [],
   "source": [
    "#in the digital world, only 2 states possible\n",
    "#they are high or low / true or false\n",
    "#in numpy, range is [0,255]\n",
    "#0=BLACK=LOW=OFF=False\n",
    "#1=WHITE=HIGH=ON=True\n",
    "#used in open cv\n",
    "#to create image, we use combination of np.ones and np.zeroes"
   ]
  },
  {
   "cell_type": "code",
   "execution_count": 31,
   "id": "2e0d34cd",
   "metadata": {},
   "outputs": [],
   "source": [
    "#in open cv, color format\n",
    "#BGR\n",
    "#(0,0,0)=BLACK\n",
    "#(255,255,255)=WHITE\n",
    "#(255,0,0)=BLUE\n",
    "#(0,255,0)=GREEN\n",
    "#(0,0,255)=RED\n",
    "#(0,255,255)=YELLOW\n",
    "#(255,255,0)=CYAN\n",
    "#(255,0,255)=PURPLE"
   ]
  },
  {
   "cell_type": "code",
   "execution_count": 32,
   "id": "4d917275",
   "metadata": {},
   "outputs": [
    {
     "data": {
      "text/plain": [
       "<matplotlib.image.AxesImage at 0x25b1f3f9340>"
      ]
     },
     "execution_count": 32,
     "metadata": {},
     "output_type": "execute_result"
    },
    {
     "data": {
      "image/png": "[encoded data removed]",
      "text/plain": [
       "<Figure size 432x288 with 1 Axes>"
      ]
     },
     "metadata": {
      "needs_background": "light"
     },
     "output_type": "display_data"
    }
   ],
   "source": [
    "#matplotlib: visualization library\n",
    "#makes uses of graphs, plots and other representation\n",
    "#in matplotlib order is RGB\n",
    "import matplotlib.pyplot as plt\n",
    "import numpy as np\n",
    "#here array is treated like a color block\n",
    "#i1 is a 1D array and has only 1 block\n",
    "i1=np.array([[[0,0,0]]])\n",
    "plt.imshow(i1)"
   ]
  },
  {
   "cell_type": "code",
   "execution_count": 33,
   "id": "6c736ed3",
   "metadata": {},
   "outputs": [
    {
     "data": {
      "text/plain": [
       "<matplotlib.image.AxesImage at 0x25b1f4e0400>"
      ]
     },
     "execution_count": 33,
     "metadata": {},
     "output_type": "execute_result"
    },
    {
     "data": {
      "image/png": "[encoded data removed]",
      "text/plain": [
       "<Figure size 432x288 with 1 Axes>"
      ]
     },
     "metadata": {
      "needs_background": "light"
     },
     "output_type": "display_data"
    }
   ],
   "source": [
    "#not considered as actual color\n",
    "i2=np.array([[0,0,0]])\n",
    "plt.imshow(i2)"
   ]
  },
  {
   "cell_type": "code",
   "execution_count": 34,
   "id": "fb9c6e64",
   "metadata": {},
   "outputs": [
    {
     "data": {
      "text/plain": [
       "<matplotlib.image.AxesImage at 0x25b1f54e2b0>"
      ]
     },
     "execution_count": 34,
     "metadata": {},
     "output_type": "execute_result"
    },
    {
     "data": {
      "image/png": "[encoded data removed]",
      "text/plain": [
       "<Figure size 432x288 with 1 Axes>"
      ]
     },
     "metadata": {
      "needs_background": "light"
     },
     "output_type": "display_data"
    }
   ],
   "source": [
    "i3=np.array([[[255,255,255]]])\n",
    "plt.imshow(i3)"
   ]
  },
  {
   "cell_type": "code",
   "execution_count": 35,
   "id": "21fee39a",
   "metadata": {},
   "outputs": [
    {
     "data": {
      "text/plain": [
       "<matplotlib.image.AxesImage at 0x25b1f5a7fd0>"
      ]
     },
     "execution_count": 35,
     "metadata": {},
     "output_type": "execute_result"
    },
    {
     "data": {
      "image/png": "[encoded data removed]",
      "text/plain": [
       "<Figure size 432x288 with 1 Axes>"
      ]
     },
     "metadata": {
      "needs_background": "light"
     },
     "output_type": "display_data"
    }
   ],
   "source": [
    "#in matplotlib, color mixing is allowed using numpy\n",
    "#defining 3 different colors\n",
    "#here we are creating a 2D array and has 1 row and 4 columns\n",
    "palette=np.array([[255,0,0],[0,255,0],[0,0,255],[100,100,100]])\n",
    "j=np.array([[0,1,2,3]])\n",
    "palette[j]\n",
    "plt.imshow(palette[j])"
   ]
  },
  {
   "cell_type": "code",
   "execution_count": 36,
   "id": "a9ab4709",
   "metadata": {},
   "outputs": [
    {
     "data": {
      "text/plain": [
       "array([[255,   0,   0],\n",
       "       [  0, 255,   0],\n",
       "       [  0,   0, 255],\n",
       "       [100, 100, 100]])"
      ]
     },
     "execution_count": 36,
     "metadata": {},
     "output_type": "execute_result"
    }
   ],
   "source": [
    "palette=np.array([[255,0,0],[0,255,0],[0,0,255],[100,100,100]])\n",
    "palette"
   ]
  },
  {
   "cell_type": "code",
   "execution_count": 37,
   "id": "ef6c9e11",
   "metadata": {},
   "outputs": [
    {
     "data": {
      "text/plain": [
       "<matplotlib.image.AxesImage at 0x25b1f6164f0>"
      ]
     },
     "execution_count": 37,
     "metadata": {},
     "output_type": "execute_result"
    },
    {
     "data": {
      "image/png": "[encoded data removed]",
      "text/plain": [
       "<Figure size 432x288 with 1 Axes>"
      ]
     },
     "metadata": {
      "needs_background": "light"
     },
     "output_type": "display_data"
    }
   ],
   "source": [
    "#defining a 3D color pixel\n",
    "pixel=np.array([[255,0,0],[0,255,0],[0,0,255],[0,255,255]])\n",
    "i=np.array([[0,1],[2,3]])\n",
    "pixel[i]\n",
    "plt.imshow(pixel[i])"
   ]
  },
  {
   "cell_type": "code",
   "execution_count": 38,
   "id": "285692b2",
   "metadata": {},
   "outputs": [
    {
     "data": {
      "text/plain": [
       "2"
      ]
     },
     "execution_count": 38,
     "metadata": {},
     "output_type": "execute_result"
    }
   ],
   "source": [
    "i.ndim"
   ]
  },
  {
   "cell_type": "code",
   "execution_count": 39,
   "id": "3e077623",
   "metadata": {},
   "outputs": [
    {
     "data": {
      "text/plain": [
       "2"
      ]
     },
     "execution_count": 39,
     "metadata": {},
     "output_type": "execute_result"
    }
   ],
   "source": [
    "pixel.ndim"
   ]
  },
  {
   "cell_type": "code",
   "execution_count": 40,
   "id": "5d450c17",
   "metadata": {},
   "outputs": [
    {
     "data": {
      "text/plain": [
       "[<matplotlib.lines.Line2D at 0x25b1f6842b0>]"
      ]
     },
     "execution_count": 40,
     "metadata": {},
     "output_type": "execute_result"
    },
    {
     "data": {
      "image/png": "[encoded data removed]",
      "text/plain": [
       "<Figure size 432x288 with 1 Axes>"
      ]
     },
     "metadata": {
      "needs_background": "light"
     },
     "output_type": "display_data"
    }
   ],
   "source": [
    "#line graph\n",
    "x=[1,2,3,4]\n",
    "y=[5,6,7,8]\n",
    "#plt.plot(x-axis data,y-axis data)\n",
    "plt.plot(x,y)"
   ]
  },
  {
   "cell_type": "code",
   "execution_count": 41,
   "id": "11bb924a",
   "metadata": {},
   "outputs": [
    {
     "data": {
      "text/plain": [
       "[<matplotlib.lines.Line2D at 0x25b1f6f40d0>]"
      ]
     },
     "execution_count": 41,
     "metadata": {},
     "output_type": "execute_result"
    },
    {
     "data": {
      "image/png": "[encoded data removed]",
      "text/plain": [
       "<Figure size 432x288 with 1 Axes>"
      ]
     },
     "metadata": {
      "needs_background": "light"
     },
     "output_type": "display_data"
    }
   ],
   "source": [
    "#to give title and other details to line graph\n",
    "plt.title('LINE GRAPH',fontsize=20)\n",
    "plt.xlabel('X-axis')\n",
    "plt.ylabel('Y-axis')\n",
    "plt.plot(x,y)"
   ]
  },
  {
   "cell_type": "code",
   "execution_count": 42,
   "id": "3e22f97a",
   "metadata": {},
   "outputs": [
    {
     "data": {
      "text/plain": [
       "[<matplotlib.lines.Line2D at 0x25b1f753f40>]"
      ]
     },
     "execution_count": 42,
     "metadata": {},
     "output_type": "execute_result"
    },
    {
     "data": {
      "image/png": "[encoded data removed]",
      "text/plain": [
       "<Figure size 432x288 with 1 Axes>"
      ]
     },
     "metadata": {
      "needs_background": "light"
     },
     "output_type": "display_data"
    }
   ],
   "source": [
    "#to give color to the line\n",
    "plt.title('LINE GRAPH',fontsize=20)\n",
    "plt.xlabel('X-axis')\n",
    "plt.ylabel('Y-axis')\n",
    "plt.plot(x,y,color='red')"
   ]
  },
  {
   "cell_type": "code",
   "execution_count": 43,
   "id": "e675e1d4",
   "metadata": {},
   "outputs": [
    {
     "data": {
      "text/plain": [
       "[<matplotlib.lines.Line2D at 0x25b1f7bed00>]"
      ]
     },
     "execution_count": 43,
     "metadata": {},
     "output_type": "execute_result"
    },
    {
     "data": {
      "image/png": "[encoded data removed]",
      "text/plain": [
       "<Figure size 432x288 with 1 Axes>"
      ]
     },
     "metadata": {
      "needs_background": "light"
     },
     "output_type": "display_data"
    }
   ],
   "source": [
    "#to access a point on line\n",
    "#marker='shape'\n",
    "#each shape has a particular coe, search on matplotlib website\n",
    "plt.title('LINE GRAPH',fontsize=20)\n",
    "plt.xlabel('X-axis')\n",
    "plt.ylabel('Y-axis')\n",
    "plt.plot(x,y,color='black',marker='*')"
   ]
  },
  {
   "cell_type": "code",
   "execution_count": 44,
   "id": "2717f208",
   "metadata": {},
   "outputs": [
    {
     "data": {
      "text/plain": [
       "([<matplotlib.axis.YTick at 0x25b207ddd60>,\n",
       "  <matplotlib.axis.YTick at 0x25b207dd5e0>,\n",
       "  <matplotlib.axis.YTick at 0x25b207d7520>,\n",
       "  <matplotlib.axis.YTick at 0x25b2080cf40>,\n",
       "  <matplotlib.axis.YTick at 0x25b20808b50>,\n",
       "  <matplotlib.axis.YTick at 0x25b20810490>,\n",
       "  <matplotlib.axis.YTick at 0x25b20810be0>,\n",
       "  <matplotlib.axis.YTick at 0x25b2081c370>,\n",
       "  <matplotlib.axis.YTick at 0x25b2081cac0>,\n",
       "  <matplotlib.axis.YTick at 0x25b20821250>],\n",
       " [Text(0, 0, ''),\n",
       "  Text(0, 0, ''),\n",
       "  Text(0, 0, ''),\n",
       "  Text(0, 0, ''),\n",
       "  Text(0, 0, ''),\n",
       "  Text(0, 0, ''),\n",
       "  Text(0, 0, ''),\n",
       "  Text(0, 0, ''),\n",
       "  Text(0, 0, ''),\n",
       "  Text(0, 0, '')])"
      ]
     },
     "execution_count": 44,
     "metadata": {},
     "output_type": "execute_result"
    },
    {
     "data": {
      "image/png": "[encoded data removed]",
      "text/plain": [
       "<Figure size 432x288 with 1 Axes>"
      ]
     },
     "metadata": {
      "needs_background": "light"
     },
     "output_type": "display_data"
    }
   ],
   "source": [
    "import numpy as np\n",
    "a = np.array([1,2,3,4])\n",
    "b = np.array([5,6,7,8])\n",
    "plt.plot(a,b,color ='gold',marker = '*')\n",
    "plt.title('LINE GRAPH')\n",
    "plt.xlabel('X-Axis')\n",
    "plt.ylabel('Y-Axis')\n",
    "#suppose we want the x-axes and y-axis to be bigger than \n",
    "#the original points to be plotted\n",
    "#plt.x/yticks(range(start,end,size diff)) helps to define \n",
    "#the size of the axis\n",
    "plt.xticks(range(0,10,2))\n",
    "plt.yticks(range(0,20,2))"
   ]
  },
  {
   "cell_type": "code",
   "execution_count": 45,
   "id": "47ebc5f9",
   "metadata": {},
   "outputs": [
    {
     "data": {
      "text/plain": [
       "[<matplotlib.lines.Line2D at 0x25b20864910>]"
      ]
     },
     "execution_count": 45,
     "metadata": {},
     "output_type": "execute_result"
    },
    {
     "data": {
      "image/png": "[encoded data removed]",
      "text/plain": [
       "<Figure size 432x288 with 1 Axes>"
      ]
     },
     "metadata": {
      "needs_background": "light"
     },
     "output_type": "display_data"
    }
   ],
   "source": [
    "#to make our line plot more easily visible\n",
    "#use linewidth=int: decides the thickness of the line\n",
    "#use linestyle='': decides the type of line drawn\n",
    "a=[1,2,3,4]\n",
    "b=[5,6,7,8]\n",
    "plt.plot(a,b,color='orange',marker='*',linewidth=1,linestyle='dashed')"
   ]
  },
  {
   "cell_type": "code",
   "execution_count": 46,
   "id": "a9b9c0e2",
   "metadata": {
    "scrolled": true
   },
   "outputs": [
    {
     "data": {
      "text/plain": [
       "<matplotlib.legend.Legend at 0x25b208ab3d0>"
      ]
     },
     "execution_count": 46,
     "metadata": {},
     "output_type": "execute_result"
    },
    {
     "data": {
      "image/png": "[encoded data removed]",
      "text/plain": [
       "<Figure size 432x288 with 1 Axes>"
      ]
     },
     "metadata": {
      "needs_background": "light"
     },
     "output_type": "display_data"
    }
   ],
   "source": [
    "#use label to distinguish 2 different line plots in same graph\n",
    "#label = 'TEAM1'\n",
    "#c is short form of color\n",
    "#b is short for blue, r is short for red\n",
    "#Create 2 line graph for team1 vs overs and team2 vs overs\n",
    "#plt.legend() is used to display labels if any declared\n",
    "overs=[0,4,8,12,16,20]\n",
    "team1=[0,30,67,98,123,145]\n",
    "team2=[0,27,75,103,110,135]\n",
    "plt.plot(overs,team1,c='r',label='TEAM1')\n",
    "plt.plot(overs,team2,c='b',label='TEAM2')\n",
    "plt.title('Analysis of a Cricket Match')\n",
    "plt.xlabel('OVERS')\n",
    "plt.ylabel('RUNS')\n",
    "plt.legend()"
   ]
  },
  {
   "cell_type": "code",
   "execution_count": 47,
   "id": "61c57a18",
   "metadata": {},
   "outputs": [
    {
     "data": {
      "image/png": "[encoded data removed]",
      "text/plain": [
       "<Figure size 432x288 with 1 Axes>"
      ]
     },
     "metadata": {
      "needs_background": "light"
     },
     "output_type": "display_data"
    }
   ],
   "source": [
    "#if we convert list to array\n",
    "#grid() is used to mark grids on the graph\n",
    "#SPORTS WATCH DATA\n",
    "x=np.array([60,70,80,90,100])\n",
    "y=np.array([250,270,260,280,300])\n",
    "plt.plot(x,y)\n",
    "plt.title('SPORTS WATCH DATA',fontsize = 20)\n",
    "plt.xlabel('Average Pulse')\n",
    "plt.ylabel('Calories Burnt')\n",
    "plt.grid()"
   ]
  },
  {
   "cell_type": "code",
   "execution_count": 48,
   "id": "b210aa59",
   "metadata": {},
   "outputs": [
    {
     "data": {
      "text/plain": [
       "[<matplotlib.lines.Line2D at 0x25b20a75160>]"
      ]
     },
     "execution_count": 48,
     "metadata": {},
     "output_type": "execute_result"
    },
    {
     "data": {
      "image/png": "[encoded data removed]",
      "text/plain": [
       "<Figure size 432x288 with 4 Axes>"
      ]
     },
     "metadata": {
      "needs_background": "light"
     },
     "output_type": "display_data"
    }
   ],
   "source": [
    "#Sub plot\n",
    "#to plot more than 1 graph in the same frame\n",
    "#package plt.figure() is used under matplotlib.pyplot\n",
    "fig=plt.figure()\n",
    "\n",
    "x1 = [1,2,3,4]\n",
    "x2 = [5,6,7,8]\n",
    "y1 = np.random.randint(0,10,4)\n",
    "y2 = np.random.randint(0,10,4)\n",
    "\n",
    "ax1 = fig.add_subplot(2,2,1)#top left\n",
    "ax2 = fig.add_subplot(2,2,2)#top right\n",
    "ax3 = fig.add_subplot(2,2,3)#bottom left\n",
    "ax4 = fig.add_subplot(2,2,4)#bottom right\n",
    "#subplot(m,n,i) breaks the figure window into an m-by-n matrix of \n",
    "#small subplots and selects the ithe subplot for the current plot. \n",
    "#The plots are numbered along the top row of the figure window, \n",
    "#then the second row, and so forth. ex:\n",
    "#2,2,1 means a 2x2 grid and 1st subplot\n",
    "#2,2,2 means a 2x2 grid and 2nd subplot\n",
    "\n",
    "ax1.plot(x1,y1)\n",
    "ax2.plot(x2,y2)\n",
    "ax3.plot(x2,x1)\n",
    "ax4.plot(y2,x1)"
   ]
  },
  {
   "cell_type": "code",
   "execution_count": 49,
   "id": "9263db98",
   "metadata": {},
   "outputs": [
    {
     "data": {
      "text/plain": [
       "Text(0, 0.5, 'Y-Axis')"
      ]
     },
     "execution_count": 49,
     "metadata": {},
     "output_type": "execute_result"
    },
    {
     "data": {
      "image/png": "[encoded data removed]",
      "text/plain": [
       "<Figure size 432x288 with 1 Axes>"
      ]
     },
     "metadata": {
      "needs_background": "light"
     },
     "output_type": "display_data"
    }
   ],
   "source": [
    "#SCATTER PLOT\n",
    "#instead of plt.plot(), use plt.scatter()\n",
    "#if coordinates are of the form y=x equation\n",
    "a = [1,2,3,4,5]\n",
    "b = [2,3,4,5,6]\n",
    "plt.scatter(a,b,color='Orange',marker='D')\n",
    "plt.title('SCATTER PLOT')\n",
    "plt.xlabel('X-Axis')\n",
    "plt.ylabel('Y-Axis')\n",
    "#plt.plot(a,b,c = 'lime')"
   ]
  },
  {
   "cell_type": "code",
   "execution_count": 50,
   "id": "20c26302",
   "metadata": {},
   "outputs": [
    {
     "data": {
      "text/plain": [
       "([<matplotlib.axis.YTick at 0x25b20b66820>,\n",
       "  <matplotlib.axis.YTick at 0x25b20b66040>,\n",
       "  <matplotlib.axis.YTick at 0x25b20b5f490>,\n",
       "  <matplotlib.axis.YTick at 0x25b20ba36d0>,\n",
       "  <matplotlib.axis.YTick at 0x25b20ba3e20>,\n",
       "  <matplotlib.axis.YTick at 0x25b20bac5b0>,\n",
       "  <matplotlib.axis.YTick at 0x25b20ba37c0>,\n",
       "  <matplotlib.axis.YTick at 0x25b20b912b0>,\n",
       "  <matplotlib.axis.YTick at 0x25b20bac0d0>,\n",
       "  <matplotlib.axis.YTick at 0x25b20bb5130>],\n",
       " [Text(0, 0, ''),\n",
       "  Text(0, 0, ''),\n",
       "  Text(0, 0, ''),\n",
       "  Text(0, 0, ''),\n",
       "  Text(0, 0, ''),\n",
       "  Text(0, 0, ''),\n",
       "  Text(0, 0, ''),\n",
       "  Text(0, 0, ''),\n",
       "  Text(0, 0, ''),\n",
       "  Text(0, 0, '')])"
      ]
     },
     "execution_count": 50,
     "metadata": {},
     "output_type": "execute_result"
    },
    {
     "data": {
      "image/png": "[encoded data removed]",
      "text/plain": [
       "<Figure size 432x288 with 1 Axes>"
      ]
     },
     "metadata": {
      "needs_background": "light"
     },
     "output_type": "display_data"
    }
   ],
   "source": [
    "a = [1,2,3,4,5,6,7,8,9]\n",
    "b = [5,4,6,2,3,1,7,5,8]\n",
    "plt.scatter(a,b,c='green')\n",
    "plt.xticks(range(1,11))\n",
    "plt.yticks(range(1,11))"
   ]
  },
  {
   "cell_type": "code",
   "execution_count": 51,
   "id": "b848180a",
   "metadata": {},
   "outputs": [
    {
     "data": {
      "text/plain": [
       "<BarContainer object of 5 artists>"
      ]
     },
     "execution_count": 51,
     "metadata": {},
     "output_type": "execute_result"
    },
    {
     "data": {
      "image/png": "[encoded data removed]",
      "text/plain": [
       "<Figure size 432x288 with 1 Axes>"
      ]
     },
     "metadata": {
      "needs_background": "light"
     },
     "output_type": "display_data"
    }
   ],
   "source": [
    "#BAR GRAPH\n",
    "#instead of plt.plot(), use plt.bar()\n",
    "name = ['Raj','Alex','Sam','Ema','Ross']\n",
    "num = [4,2,7,5,1]\n",
    "plt.title('Name vs Numbers',fontsize=20)\n",
    "plt.xlabel('Name',fontsize=15)\n",
    "plt.ylabel('Numbers',fontsize=15)\n",
    "plt.bar(name,num,color=['orange','blue','lime','red','black'])"
   ]
  },
  {
   "cell_type": "code",
   "execution_count": 52,
   "id": "bef30e49",
   "metadata": {},
   "outputs": [
    {
     "data": {
      "text/plain": [
       "<BarContainer object of 4 artists>"
      ]
     },
     "execution_count": 52,
     "metadata": {},
     "output_type": "execute_result"
    },
    {
     "data": {
      "image/png": "[encoded data removed]",
      "text/plain": [
       "<Figure size 432x288 with 1 Axes>"
      ]
     },
     "metadata": {
      "needs_background": "light"
     },
     "output_type": "display_data"
    }
   ],
   "source": [
    "#to specify the thickness of bars, use width()\n",
    "#value between 0 and 1 width makes it thin \n",
    "#value for 1 and above merges the bars\n",
    "x=np.array(['A','B','C','D'])\n",
    "y=np.array([3,8,1,10])\n",
    "plt.bar(x,y,color='cyan',width=0.9)"
   ]
  },
  {
   "cell_type": "code",
   "execution_count": 53,
   "id": "9e448dac",
   "metadata": {},
   "outputs": [
    {
     "data": {
      "text/plain": [
       "Text(0, 0.5, 'Name')"
      ]
     },
     "execution_count": 53,
     "metadata": {},
     "output_type": "execute_result"
    },
    {
     "data": {
      "image/png": "[encoded data removed]",
      "text/plain": [
       "<Figure size 432x288 with 1 Axes>"
      ]
     },
     "metadata": {
      "needs_background": "light"
     },
     "output_type": "display_data"
    }
   ],
   "source": [
    "#to plot bargraphs on the y axis, use plt.barh()\n",
    "name=['Raj','Thomas','Mac','Naresh']\n",
    "weight=[58,86,76,68]\n",
    "plt.barh(name,weight,color=['cyan','crimson','gold','purple'])\n",
    "plt.title('Name vs Weight',fontsize=20)\n",
    "plt.xlabel('Weight',fontsize=15)\n",
    "plt.ylabel('Name',fontsize=15)"
   ]
  },
  {
   "cell_type": "code",
   "execution_count": 54,
   "id": "e5f8345b",
   "metadata": {},
   "outputs": [
    {
     "data": {
      "text/plain": [
       "([<matplotlib.patches.Wedge at 0x25b20d259d0>,\n",
       "  <matplotlib.patches.Wedge at 0x25b20d25eb0>,\n",
       "  <matplotlib.patches.Wedge at 0x25b20d313d0>,\n",
       "  <matplotlib.patches.Wedge at 0x25b20d318b0>],\n",
       " [Text(0.2447730130080499, 1.0724207066739067, 'Maruti'),\n",
       "  Text(-0.9910657227744873, -0.47727217930807914, 'Ford'),\n",
       "  Text(0.24477316361895687, -1.072420672297941, 'Volvo'),\n",
       "  Text(0.991065834488076, -0.4772719473323923, 'Mahindra')])"
      ]
     },
     "execution_count": 54,
     "metadata": {},
     "output_type": "execute_result"
    },
    {
     "data": {
      "image/png": "[encoded data removed]",
      "text/plain": [
       "<Figure size 432x288 with 1 Axes>"
      ]
     },
     "metadata": {},
     "output_type": "display_data"
    }
   ],
   "source": [
    "#PIE CHART\n",
    "#use plt.pie(%,labels,colors) instead of plt.plot()\n",
    "#note: colors is present instead of color \n",
    "sales=[75,50,25,25]\n",
    "brands=['Maruti','Ford','Volvo','Mahindra']\n",
    "color=['green','red','gold','cyan']\n",
    "plt.pie(sales,labels=brands,colors=color)"
   ]
  },
  {
   "cell_type": "code",
   "execution_count": 55,
   "id": "fa710e82",
   "metadata": {},
   "outputs": [
    {
     "data": {
      "text/plain": [
       "([<matplotlib.patches.Wedge at 0x25b20d76790>,\n",
       "  <matplotlib.patches.Wedge at 0x25b20d76c70>,\n",
       "  <matplotlib.patches.Wedge at 0x25b20d83190>,\n",
       "  <matplotlib.patches.Wedge at 0x25b20d83670>,\n",
       "  <matplotlib.patches.Wedge at 0x25b20d83b50>],\n",
       " [Text(0.5499999702695115, 0.9526279613277875, 'C'),\n",
       "  Text(-1.075962385074915, 0.22870274572881866, 'Python'),\n",
       "  Text(-0.549999836482306, -0.9526280385698485, 'Ruby'),\n",
       "  Text(0.5500001932481627, -0.9526278325909777, 'C#'),\n",
       "  Text(1.565036235404768, -0.3326583560803367, 'Kotlin')])"
      ]
     },
     "execution_count": 55,
     "metadata": {},
     "output_type": "execute_result"
    },
    {
     "data": {
      "image/png": "[encoded data removed]",
      "text/plain": [
       "<Figure size 432x288 with 1 Axes>"
      ]
     },
     "metadata": {},
     "output_type": "display_data"
    }
   ],
   "source": [
    "#to highlight particular sector of pie plot\n",
    "#explode() spaces out the sector as per spacing\n",
    "lang=['C','Python','Ruby','C#','Kotlin']\n",
    "users=['50','40','20','30','10']\n",
    "color=['Blue','Red','Green','Purple','Yellow']\n",
    "plt.pie(users,labels=lang,colors=color,explode=[0,0,0,0,0.5])"
   ]
  },
  {
   "cell_type": "code",
   "execution_count": 56,
   "id": "afb2500f",
   "metadata": {},
   "outputs": [],
   "source": [
    "#pandas: \n",
    "#its not named after animal\n",
    "#its the python library which is used to create DATAFRAME and series\n",
    "#DATAFRAME: tabled data\n",
    "#SERIES: column"
   ]
  },
  {
   "cell_type": "code",
   "execution_count": 57,
   "id": "fceb48ce",
   "metadata": {},
   "outputs": [
    {
     "data": {
      "text/plain": [
       "{'cars': ['BMW', 'Volvo', 'Ford'], 'passings': [3, 7, 2]}"
      ]
     },
     "execution_count": 57,
     "metadata": {},
     "output_type": "execute_result"
    }
   ],
   "source": [
    "#declaring a dictionary\n",
    "mydataset={'cars':['BMW','Volvo','Ford'],'passings':[3,7,2]}\n",
    "mydataset"
   ]
  },
  {
   "cell_type": "code",
   "execution_count": 58,
   "id": "0596186b",
   "metadata": {},
   "outputs": [
    {
     "data": {
      "text/plain": [
       "dict"
      ]
     },
     "execution_count": 58,
     "metadata": {},
     "output_type": "execute_result"
    }
   ],
   "source": [
    "type(mydataset)"
   ]
  },
  {
   "cell_type": "code",
   "execution_count": 59,
   "id": "2767945b",
   "metadata": {},
   "outputs": [
    {
     "data": {
      "text/html": [
       "<div>\n",
       "<style scoped>\n",
       "    .dataframe tbody tr th:only-of-type {\n",
       "        vertical-align: middle;\n",
       "    }\n",
       "\n",
       "    .dataframe tbody tr th {\n",
       "        vertical-align: top;\n",
       "    }\n",
       "\n",
       "    .dataframe thead th {\n",
       "        text-align: right;\n",
       "    }\n",
       "</style>\n",
       "<table border=\"1\" class=\"dataframe\">\n",
       "  <thead>\n",
       "    <tr style=\"text-align: right;\">\n",
       "      <th></th>\n",
       "      <th>cars</th>\n",
       "      <th>passings</th>\n",
       "    </tr>\n",
       "  </thead>\n",
       "  <tbody>\n",
       "    <tr>\n",
       "      <th>0</th>\n",
       "      <td>BMW</td>\n",
       "      <td>3</td>\n",
       "    </tr>\n",
       "    <tr>\n",
       "      <th>1</th>\n",
       "      <td>Volvo</td>\n",
       "      <td>7</td>\n",
       "    </tr>\n",
       "    <tr>\n",
       "      <th>2</th>\n",
       "      <td>Ford</td>\n",
       "      <td>2</td>\n",
       "    </tr>\n",
       "  </tbody>\n",
       "</table>\n",
       "</div>"
      ],
      "text/plain": [
       "    cars  passings\n",
       "0    BMW         3\n",
       "1  Volvo         7\n",
       "2   Ford         2"
      ]
     },
     "execution_count": 59,
     "metadata": {},
     "output_type": "execute_result"
    }
   ],
   "source": [
    "#accessing the DataFrame() package from pandas library\n",
    "#DataFrame():\n",
    "import pandas as pd\n",
    "df=pd.DataFrame(mydataset)\n",
    "df"
   ]
  },
  {
   "cell_type": "code",
   "execution_count": 60,
   "id": "2619ed6d",
   "metadata": {},
   "outputs": [
    {
     "data": {
      "text/plain": [
       "pandas.core.frame.DataFrame"
      ]
     },
     "execution_count": 60,
     "metadata": {},
     "output_type": "execute_result"
    }
   ],
   "source": [
    "type(df)"
   ]
  },
  {
   "cell_type": "code",
   "execution_count": 61,
   "id": "5899bc05",
   "metadata": {},
   "outputs": [
    {
     "data": {
      "text/plain": [
       "0    1\n",
       "1    7\n",
       "2    2\n",
       "3    6\n",
       "dtype: int64"
      ]
     },
     "execution_count": 61,
     "metadata": {},
     "output_type": "execute_result"
    }
   ],
   "source": [
    "#Series():\n",
    "#1,7,2,6 is my Series and 0,1,2,3 is the index/ bullets by default\n",
    "a=[1,7,2,6]\n",
    "myvar=pd.Series(a)\n",
    "myvar"
   ]
  },
  {
   "cell_type": "code",
   "execution_count": 62,
   "id": "0f5d0a68",
   "metadata": {},
   "outputs": [
    {
     "data": {
      "text/plain": [
       "a    1\n",
       "b    7\n",
       "c    2\n",
       "d    6\n",
       "dtype: int64"
      ]
     },
     "execution_count": 62,
     "metadata": {},
     "output_type": "execute_result"
    }
   ],
   "source": [
    "#labelling the indexes\n",
    "a=[1,7,2,6]\n",
    "myvar1=pd.Series(a,index=['a','b','c','d'])\n",
    "myvar1"
   ]
  },
  {
   "cell_type": "code",
   "execution_count": 63,
   "id": "46dd323a",
   "metadata": {},
   "outputs": [
    {
     "data": {
      "text/plain": [
       "pandas.core.series.Series"
      ]
     },
     "execution_count": 63,
     "metadata": {},
     "output_type": "execute_result"
    }
   ],
   "source": [
    "type(myvar1)"
   ]
  },
  {
   "cell_type": "code",
   "execution_count": 64,
   "id": "723829a9",
   "metadata": {},
   "outputs": [
    {
     "data": {
      "text/plain": [
       "{'day1': 420, 'day2': 380, 'day3': 395}"
      ]
     },
     "execution_count": 64,
     "metadata": {},
     "output_type": "execute_result"
    }
   ],
   "source": [
    "#For dictionary, the keys become the index and the values become the series\n",
    "calories={'day1' : 420,'day2' : 380,'day3' : 395}\n",
    "calories"
   ]
  },
  {
   "cell_type": "code",
   "execution_count": 65,
   "id": "6ada92f8",
   "metadata": {},
   "outputs": [
    {
     "data": {
      "text/plain": [
       "day1    420\n",
       "day2    380\n",
       "day3    395\n",
       "dtype: int64"
      ]
     },
     "execution_count": 65,
     "metadata": {},
     "output_type": "execute_result"
    }
   ],
   "source": [
    "a1=pd.Series(calories)\n",
    "a1"
   ]
  },
  {
   "cell_type": "code",
   "execution_count": 66,
   "id": "c4631ba1",
   "metadata": {},
   "outputs": [
    {
     "data": {
      "text/plain": [
       "Cricket     1\n",
       "Football    2\n",
       "Hockey      3\n",
       "Golf        4\n",
       "dtype: int64"
      ]
     },
     "execution_count": 66,
     "metadata": {},
     "output_type": "execute_result"
    }
   ],
   "source": [
    "sports1=pd.Series([1,2,3,4],index=['Cricket','Football','Hockey','Golf'])\n",
    "sports1"
   ]
  },
  {
   "cell_type": "code",
   "execution_count": 67,
   "id": "914489a3",
   "metadata": {},
   "outputs": [
    {
     "data": {
      "text/plain": [
       "Cricket        1\n",
       "Basket Ball    2\n",
       "Base Ball      5\n",
       "Golf           4\n",
       "dtype: int64"
      ]
     },
     "execution_count": 67,
     "metadata": {},
     "output_type": "execute_result"
    }
   ],
   "source": [
    "#the indexes wrt to that series element is assigned \n",
    "#according to their correspondence\n",
    "sports2=pd.Series([1,2,5,4],index=['Cricket','Basket Ball','Base Ball','Golf'])\n",
    "sports2"
   ]
  },
  {
   "cell_type": "code",
   "execution_count": 68,
   "id": "96d0fcac",
   "metadata": {},
   "outputs": [
    {
     "data": {
      "text/plain": [
       "Base Ball      NaN\n",
       "Basket Ball    NaN\n",
       "Cricket        2.0\n",
       "Football       NaN\n",
       "Golf           8.0\n",
       "Hockey         NaN\n",
       "dtype: float64"
      ]
     },
     "execution_count": 68,
     "metadata": {},
     "output_type": "execute_result"
    }
   ],
   "source": [
    "#what if we add 2 series element\n",
    "s=sports1+sports2\n",
    "s\n",
    "##NaN: Not a Number(Null Value)\n",
    "#But in a few datasets, NaN is considered as missing/null value also"
   ]
  }
 ],
 "metadata": {
  "kernelspec": {
   "display_name": "Python 3 (ipykernel)",
   "language": "python",
   "name": "python3"
  },
  "language_info": {
   "codemirror_mode": {
    "name": "ipython",
    "version": 3
   },
   "file_extension": ".py",
   "mimetype": "text/x-python",
   "name": "python",
   "nbconvert_exporter": "python",
   "pygments_lexer": "ipython3",
   "version": "3.9.13"
  }
 },
 "nbformat": 4,
 "nbformat_minor": 5
}
