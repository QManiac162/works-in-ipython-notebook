{
 "cells": [
  {
   "cell_type": "code",
   "execution_count": 1,
   "id": "b7bd8857",
   "metadata": {},
   "outputs": [
    {
     "data": {
      "text/plain": [
       "'\\nWeb scrapping: Web scraping is the process of using bots to extract content and data from a website. \\nUnlike screen scraping, which only copies pixels displayed onscreen, web scraping extracts underlying \\nHTML code and, with it, data stored in a database. The scraper can then replicate entire website content \\nelsewhere.\\n'"
      ]
     },
     "execution_count": 1,
     "metadata": {},
     "output_type": "execute_result"
    }
   ],
   "source": [
    "'''\n",
    "Web scrapping: Web scraping is the process of using bots to extract content and data from a website. \n",
    "Unlike screen scraping, which only copies pixels displayed onscreen, web scraping extracts underlying \n",
    "HTML code and, with it, data stored in a database. The scraper can then replicate entire website content \n",
    "elsewhere.\n",
    "'''"
   ]
  },
  {
   "cell_type": "code",
   "execution_count": 2,
   "id": "bb398882",
   "metadata": {},
   "outputs": [
    {
     "data": {
      "text/plain": [
       "'\\nBeautiful Soup: is a Python library for pulling data out of HTML and XML files. It works with your favorite\\nparser to provide idiomatic ways of navigating, searching, and modifying the parse tree. It commonly saves \\nprogrammers hours or days of work.\\n'"
      ]
     },
     "execution_count": 2,
     "metadata": {},
     "output_type": "execute_result"
    }
   ],
   "source": [
    "'''\n",
    "Beautiful Soup: is a Python library for pulling data out of HTML and XML files. It works with your favorite\n",
    "parser to provide idiomatic ways of navigating, searching, and modifying the parse tree. It commonly saves \n",
    "programmers hours or days of work.\n",
    "'''"
   ]
  },
  {
   "cell_type": "code",
   "execution_count": 3,
   "id": "adbddb3c",
   "metadata": {},
   "outputs": [
    {
     "data": {
      "text/plain": [
       "<Response [503]>"
      ]
     },
     "execution_count": 3,
     "metadata": {},
     "output_type": "execute_result"
    }
   ],
   "source": [
    "#The requests module allows you to send HTTP requests using Python.\n",
    "#The HTTP request returns a Response Object with all the response data (content, encoding, status, etc).\n",
    "import requests\n",
    "from bs4 import BeautifulSoup as bs\n",
    "url='https://www.amazon.in/Apple-iPhone-Pro-Max-256GB/product-reviews/B09G91FCBT/ref=cm_cr_dp_d_show_all_btm?ie=UTF8&reviewerType=all_reviews'\n",
    "#extraxts the url and loads the data of the page\n",
    "page=requests.get(url)\n",
    "#response[200] is okay and response [503] is an error - try rerunning your cell atleast 10 times until \n",
    "#you get response 200\n",
    "page\n",
    "#or please check for correct url"
   ]
  },
  {
   "cell_type": "code",
   "execution_count": 4,
   "id": "d0361c4d",
   "metadata": {},
   "outputs": [
    {
     "data": {
      "text/plain": [
       "b'<html>\\n<head>\\n<title>503 - Service Unavailable Error</title>\\n</head>\\n<body bgcolor=\"#FFFFFF\" text=\"#000000\">\\n\\n<!--\\n        To discuss automated access to Amazon data please contact api-services-support@amazon.com.\\n        For information about migrating to our APIs refer to our Marketplace APIs at https://developer.amazonservices.in/ref=rm_5_sv, or our Product Advertising API at https://affiliate-program.amazon.in/gp/advertising/api/detail/main.html/ref=rm_5_ac for advertising use cases.\\n-->\\n\\n<center>\\n<a href=\"https://www.amazon.in/ref=cs_503_logo/\">\\n<img src=\"https://images-eu.ssl-images-amazon.com/images/G/31/x-locale/communities/people/logo.gif\" width=200 height=45 alt=\"Amazon.in\" border=0></a>\\n<p align=center>\\n<font face=\"Verdana,Arial,Helvetica\">\\n<font size=\"+2\" color=\"#CC6600\"><b>Oops!</b></font><br>\\n<b>It\\'s rush hour and traffic is piling up on that page. Please try again in a short while.<br>If you were trying to place an order, it will not have been processed at this time.</b><p>\\n\\n<img src=\"https://images-eu.ssl-images-amazon.com/images/G/02/x-locale/common/orange-arrow.gif\" width=10 height=9 border=0 alt=\"*\">\\n<b><a href=\"https://www.amazon.in/ref=cs_503_link/\">Go to the Amazon.in home page to continue shopping</a></b>\\n</font>\\n\\n</center>\\n</body>\\n</html>\\n'"
      ]
     },
     "execution_count": 4,
     "metadata": {},
     "output_type": "execute_result"
    }
   ],
   "source": [
    "#this code will display the page sorce code\n",
    "#But the source is not in readable format\n",
    "page.content"
   ]
  },
  {
   "cell_type": "code",
   "execution_count": 5,
   "id": "dc26fc2c",
   "metadata": {},
   "outputs": [
    {
     "data": {
      "text/plain": [
       "<html>\n",
       "<head>\n",
       "<title>503 - Service Unavailable Error</title>\n",
       "</head>\n",
       "<body bgcolor=\"#FFFFFF\" text=\"#000000\">\n",
       "<!--\n",
       "        To discuss automated access to Amazon data please contact api-services-support@amazon.com.\n",
       "        For information about migrating to our APIs refer to our Marketplace APIs at https://developer.amazonservices.in/ref=rm_5_sv, or our Product Advertising API at https://affiliate-program.amazon.in/gp/advertising/api/detail/main.html/ref=rm_5_ac for advertising use cases.\n",
       "-->\n",
       "<center>\n",
       "<a href=\"https://www.amazon.in/ref=cs_503_logo/\">\n",
       "<img alt=\"Amazon.in\" border=\"0\" height=\"45\" src=\"https://images-eu.ssl-images-amazon.com/images/G/31/x-locale/communities/people/logo.gif\" width=\"200\"/></a>\n",
       "<p align=\"center\">\n",
       "<font face=\"Verdana,Arial,Helvetica\">\n",
       "<font color=\"#CC6600\" size=\"+2\"><b>Oops!</b></font><br/>\n",
       "<b>It's rush hour and traffic is piling up on that page. Please try again in a short while.<br/>If you were trying to place an order, it will not have been processed at this time.</b><p>\n",
       "<img alt=\"*\" border=\"0\" height=\"9\" src=\"https://images-eu.ssl-images-amazon.com/images/G/02/x-locale/common/orange-arrow.gif\" width=\"10\"/>\n",
       "<b><a href=\"https://www.amazon.in/ref=cs_503_link/\">Go to the Amazon.in home page to continue shopping</a></b>\n",
       "</p></font>\n",
       "</p></center>\n",
       "</body>\n",
       "</html>"
      ]
     },
     "execution_count": 5,
     "metadata": {},
     "output_type": "execute_result"
    }
   ],
   "source": [
    "#html.parser converts my html code into better readable format\n",
    "soup=bs(page.content,'html.parser')\n",
    "soup"
   ]
  },
  {
   "cell_type": "code",
   "execution_count": 6,
   "id": "be3c422f",
   "metadata": {},
   "outputs": [
    {
     "data": {
      "text/plain": [
       "[]"
      ]
     },
     "execution_count": 6,
     "metadata": {},
     "output_type": "execute_result"
    }
   ],
   "source": [
    "#Never ever consider TOP POSITIVE and TOP CRITICAL review\n",
    "names=soup.find_all('span',class_ ='a-profile-name')[2:]\n",
    "names"
   ]
  },
  {
   "cell_type": "code",
   "execution_count": 7,
   "id": "01fedd69",
   "metadata": {},
   "outputs": [
    {
     "data": {
      "text/plain": [
       "list"
      ]
     },
     "execution_count": 7,
     "metadata": {},
     "output_type": "execute_result"
    }
   ],
   "source": [
    "type(names)"
   ]
  },
  {
   "cell_type": "code",
   "execution_count": 8,
   "id": "a0b4612d",
   "metadata": {},
   "outputs": [
    {
     "data": {
      "text/plain": [
       "0"
      ]
     },
     "execution_count": 8,
     "metadata": {},
     "output_type": "execute_result"
    }
   ],
   "source": [
    "len(names)"
   ]
  },
  {
   "cell_type": "code",
   "execution_count": 9,
   "id": "53c5193d",
   "metadata": {},
   "outputs": [
    {
     "data": {
      "text/html": [
       "<div>\n",
       "<style scoped>\n",
       "    .dataframe tbody tr th:only-of-type {\n",
       "        vertical-align: middle;\n",
       "    }\n",
       "\n",
       "    .dataframe tbody tr th {\n",
       "        vertical-align: top;\n",
       "    }\n",
       "\n",
       "    .dataframe thead th {\n",
       "        text-align: right;\n",
       "    }\n",
       "</style>\n",
       "<table border=\"1\" class=\"dataframe\">\n",
       "  <thead>\n",
       "    <tr style=\"text-align: right;\">\n",
       "      <th></th>\n",
       "      <th>Customer Name</th>\n",
       "    </tr>\n",
       "  </thead>\n",
       "  <tbody>\n",
       "  </tbody>\n",
       "</table>\n",
       "</div>"
      ],
      "text/plain": [
       "Empty DataFrame\n",
       "Columns: [Customer Name]\n",
       "Index: []"
      ]
     },
     "execution_count": 9,
     "metadata": {},
     "output_type": "execute_result"
    }
   ],
   "source": [
    "#Now let us create dataframe using the data from the names list\n",
    "#In a few cases if you have got more than 10 elements,then you have to drop down the duplicates \n",
    "import pandas as pd\n",
    "df=pd.DataFrame(names,columns = {'Customer Name'})\n",
    "df"
   ]
  },
  {
   "cell_type": "code",
   "execution_count": 10,
   "id": "3dc29add",
   "metadata": {},
   "outputs": [
    {
     "data": {
      "text/plain": [
       "[]"
      ]
     },
     "execution_count": 10,
     "metadata": {},
     "output_type": "execute_result"
    }
   ],
   "source": [
    "#Now the next thing is review title\n",
    "r_title=soup.find_all('a',class_='review-title')\n",
    "r_title"
   ]
  },
  {
   "cell_type": "code",
   "execution_count": 11,
   "id": "39cfccc5",
   "metadata": {},
   "outputs": [
    {
     "data": {
      "text/plain": [
       "0"
      ]
     },
     "execution_count": 11,
     "metadata": {},
     "output_type": "execute_result"
    }
   ],
   "source": [
    "len(r_title)"
   ]
  },
  {
   "cell_type": "code",
   "execution_count": 12,
   "id": "70899c51",
   "metadata": {},
   "outputs": [
    {
     "data": {
      "text/plain": [
       "[]"
      ]
     },
     "execution_count": 12,
     "metadata": {},
     "output_type": "execute_result"
    }
   ],
   "source": [
    "'''\n",
    "Data cleaning: is the process of fixing or removing incorrect, corrupted, incorrectly formatted, \n",
    "duplicate, or incomplete data within a dataset. When combining multiple data sources, there are many \n",
    "opportunities for data to be duplicated or mislabeled.\n",
    "'''\n",
    "#Here the reviews are not inthe required format, so we remove the html code part and get only the sentence\n",
    "#process involves creating an empty list first, then one by one traversing elements of the list r-title\n",
    "#new_list.append(ith_original_list_element.get_text()[1:-1]) means that in the empty list, we append/add\n",
    "#from the ith list element, the content words between the list items from the 2nd index from start and \n",
    "#last element from the end\n",
    "review_title=[]\n",
    "for i in range(0,len(r_title)):\n",
    "    review_title.append(r_title[i].get_text()[1:-1])\n",
    "review_title"
   ]
  },
  {
   "cell_type": "code",
   "execution_count": 13,
   "id": "f40b42e0",
   "metadata": {},
   "outputs": [
    {
     "data": {
      "text/plain": [
       "[]"
      ]
     },
     "execution_count": 13,
     "metadata": {},
     "output_type": "execute_result"
    }
   ],
   "source": [
    "#now to extract the review dates\n",
    "dates=soup.find_all('span',class_='review-date')[2:]\n",
    "dates"
   ]
  },
  {
   "cell_type": "code",
   "execution_count": 14,
   "id": "44bd9de4",
   "metadata": {},
   "outputs": [
    {
     "data": {
      "text/plain": [
       "0"
      ]
     },
     "execution_count": 14,
     "metadata": {},
     "output_type": "execute_result"
    }
   ],
   "source": [
    "len(dates)"
   ]
  },
  {
   "cell_type": "code",
   "execution_count": 15,
   "id": "0ad5e185",
   "metadata": {},
   "outputs": [
    {
     "data": {
      "text/plain": [
       "[]"
      ]
     },
     "execution_count": 15,
     "metadata": {},
     "output_type": "execute_result"
    }
   ],
   "source": [
    "#data cleaning of dates to get only the date\n",
    "review_date=[]\n",
    "for i in range(0,len(dates)):\n",
    "    review_date.append(dates[i].get_text().replace('Reviewed in India on ',''))\n",
    "review_date"
   ]
  },
  {
   "cell_type": "code",
   "execution_count": 16,
   "id": "2c53b65d",
   "metadata": {},
   "outputs": [
    {
     "data": {
      "text/plain": [
       "[]"
      ]
     },
     "execution_count": 16,
     "metadata": {},
     "output_type": "execute_result"
    }
   ],
   "source": [
    "#now to extract the review rating\n",
    "rating=soup.select('i.review-rating')[2:]\n",
    "rating"
   ]
  },
  {
   "cell_type": "code",
   "execution_count": 17,
   "id": "3b45a395",
   "metadata": {},
   "outputs": [
    {
     "data": {
      "text/plain": [
       "\"\\nusing soup.find_all() and soup.select() {.find_all() is 2 times faster than .select()}\\noption_1 = soup.find_all('div', class_='p')\\noption_2 = soup.select('div.p')\\nsoup.find_all(): The find_all method is used for finding out all tags with the specified tag name or id \\nand returning them as a list of type bs4. It has use in case of extracting specifics from the html code\\nsoup.select(): The select() method is used to run a CSS selector against a parsed document and return all \\nthe matching elements. Extraction works in general\\n\""
      ]
     },
     "execution_count": 17,
     "metadata": {},
     "output_type": "execute_result"
    }
   ],
   "source": [
    "'''\n",
    "using soup.find_all() and soup.select() {.find_all() is 2 times faster than .select()}\n",
    "option_1 = soup.find_all('div', class_='p')\n",
    "option_2 = soup.select('div.p')\n",
    "soup.find_all(): The find_all method is used for finding out all tags with the specified tag name or id \n",
    "and returning them as a list of type bs4. It has use in case of extracting specifics from the html code\n",
    "soup.select(): The select() method is used to run a CSS selector against a parsed document and return all \n",
    "the matching elements. Extraction works in general\n",
    "'''"
   ]
  },
  {
   "cell_type": "code",
   "execution_count": 18,
   "id": "291a0cfb",
   "metadata": {},
   "outputs": [
    {
     "data": {
      "text/plain": [
       "0"
      ]
     },
     "execution_count": 18,
     "metadata": {},
     "output_type": "execute_result"
    }
   ],
   "source": [
    "len(rating)"
   ]
  },
  {
   "cell_type": "code",
   "execution_count": 19,
   "id": "ec903057",
   "metadata": {},
   "outputs": [
    {
     "data": {
      "text/plain": [
       "[]"
      ]
     },
     "execution_count": 19,
     "metadata": {},
     "output_type": "execute_result"
    }
   ],
   "source": [
    "#data cleaning of rating\n",
    "review_rating=[]\n",
    "for i in range(0,len(rating)):\n",
    "    review_rating.append(rating[i].get_text())\n",
    "review_rating"
   ]
  },
  {
   "cell_type": "code",
   "execution_count": 20,
   "id": "70f6e455",
   "metadata": {},
   "outputs": [
    {
     "data": {
      "text/plain": [
       "[]"
      ]
     },
     "execution_count": 20,
     "metadata": {},
     "output_type": "execute_result"
    }
   ],
   "source": [
    "#now to extract review title content\n",
    "content=soup.select('span.review-text')\n",
    "content"
   ]
  },
  {
   "cell_type": "code",
   "execution_count": 21,
   "id": "f4cf1900",
   "metadata": {},
   "outputs": [
    {
     "data": {
      "text/plain": [
       "0"
      ]
     },
     "execution_count": 21,
     "metadata": {},
     "output_type": "execute_result"
    }
   ],
   "source": [
    "len(content)"
   ]
  },
  {
   "cell_type": "code",
   "execution_count": 22,
   "id": "019f862b",
   "metadata": {},
   "outputs": [
    {
     "data": {
      "text/plain": [
       "[]"
      ]
     },
     "execution_count": 22,
     "metadata": {},
     "output_type": "execute_result"
    }
   ],
   "source": [
    "#data cleaning\n",
    "review_content=[]\n",
    "for i in range(0,len(content)):\n",
    "    review_content.append(content[i].get_text().replace('\\n',''))\n",
    "review_content"
   ]
  },
  {
   "cell_type": "code",
   "execution_count": 23,
   "id": "351450c9",
   "metadata": {},
   "outputs": [
    {
     "ename": "IndexError",
     "evalue": "list index out of range",
     "output_type": "error",
     "traceback": [
      "\u001b[1;31m---------------------------------------------------------------------------\u001b[0m",
      "\u001b[1;31mIndexError\u001b[0m                                Traceback (most recent call last)",
      "Input \u001b[1;32mIn [23]\u001b[0m, in \u001b[0;36m<cell line: 1>\u001b[1;34m()\u001b[0m\n\u001b[1;32m----> 1\u001b[0m \u001b[43mreview_content\u001b[49m\u001b[43m[\u001b[49m\u001b[38;5;241;43m0\u001b[39;49m\u001b[43m]\u001b[49m\n",
      "\u001b[1;31mIndexError\u001b[0m: list index out of range"
     ]
    }
   ],
   "source": [
    "review_content[0]\n"
   ]
  },
  {
   "cell_type": "code",
   "execution_count": null,
   "id": "a9d23ac6",
   "metadata": {},
   "outputs": [],
   "source": [
    "#arranging our extracted data in a clean way\n",
    "df['Review Title']=review_title\n",
    "df['Review Date']=review_date\n",
    "df['Review Content']=review_content\n",
    "df['Review Rating']=review_rating\n",
    "df"
   ]
  }
 ],
 "metadata": {
  "kernelspec": {
   "display_name": "Python 3 (ipykernel)",
   "language": "python",
   "name": "python3"
  },
  "language_info": {
   "codemirror_mode": {
    "name": "ipython",
    "version": 3
   },
   "file_extension": ".py",
   "mimetype": "text/x-python",
   "name": "python",
   "nbconvert_exporter": "python",
   "pygments_lexer": "ipython3",
   "version": "3.9.13"
  }
 },
 "nbformat": 4,
 "nbformat_minor": 5
}
