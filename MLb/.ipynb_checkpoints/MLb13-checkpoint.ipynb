{
 "cells": [
  {
   "cell_type": "code",
   "execution_count": 1,
   "id": "93d917cd",
   "metadata": {},
   "outputs": [
    {
     "data": {
      "text/plain": [
       "'\\nVideo: A video is a sequence of frames and each frame is an image. It is displayed at a speed of frames per \\nsecond. For reading a video, there are two ways you can read a video either from a file or from a webcam. \\nOpenCV provides a VideoCapture object to perform this operation.\\n\\nsyntax: cv2.VideoCapture(filename)\\n\\ncv2.VideoCapture(): is an object used to capture a video. It accepts either the device index or the name of \\na video file. A number which is specifying to the camera is called device index. We can select the camera \\nby passing the O or 1 as an argument. After that we can capture the video frame-by-frame.\\n'"
      ]
     },
     "execution_count": 1,
     "metadata": {},
     "output_type": "execute_result"
    }
   ],
   "source": [
    "'''\n",
    "Video: A video is a sequence of frames and each frame is an image. It is displayed at a speed of frames per \n",
    "second. For reading a video, there are two ways you can read a video either from a file or from a webcam. \n",
    "OpenCV provides a VideoCapture object to perform this operation.\n",
    "\n",
    "syntax: cv2.VideoCapture(filename)\n",
    "\n",
    "cv2.VideoCapture(): is an object used to capture a video. It accepts either the device index or the name of \n",
    "a video file. A number which is specifying to the camera is called device index. We can select the camera \n",
    "by passing the O or 1 as an argument. After that we can capture the video frame-by-frame.\n",
    "'''"
   ]
  },
  {
   "cell_type": "code",
   "execution_count": 2,
   "id": "edd79f44",
   "metadata": {},
   "outputs": [],
   "source": [
    "#waitkey() function of Python OpenCV allows users to display a window for given milliseconds or until any \n",
    "#key is pressed. It takes time in milliseconds as a parameter and waits for the given time to destroy the \n",
    "#window, if 0 is passed in the argument it waits till any key is pressed. "
   ]
  },
  {
   "cell_type": "code",
   "execution_count": 3,
   "id": "fdf299c9",
   "metadata": {},
   "outputs": [
    {
     "data": {
      "text/plain": [
       "\"\\nif cv2.waitKey(0) & 0xFF == ord('q'):\\n    break\\nThe waitKey(0) function returns -1 when no input is made whatsoever. As soon the event occurs i.e. \\na Button is pressed it returns a 32-bit integer.\\nThe 0xFF in this scenario is representing binary 11111111 a 8 bit binary, since we only require 8 bits to \\nrepresent a character we AND waitKey(0) to 0xFF. As a result, an integer is obtained below 255.\\nord(char) returns the ASCII value of the character which would be again maximum 255.\\nHence by comparing the integer to the ord(char) value, we can check for a key pressed event and \\nbreak the loop.\\n\""
      ]
     },
     "execution_count": 3,
     "metadata": {},
     "output_type": "execute_result"
    }
   ],
   "source": [
    "'''\n",
    "if cv2.waitKey(0) & 0xFF == ord('q'):\n",
    "    break\n",
    "The waitKey(0) function returns -1 when no input is made whatsoever. As soon the event occurs i.e. \n",
    "a Button is pressed it returns a 32-bit integer.\n",
    "The 0xFF in this scenario is representing binary 11111111 a 8 bit binary, since we only require 8 bits to \n",
    "represent a character we AND waitKey(0) to 0xFF. As a result, an integer is obtained below 255.\n",
    "ord(char) returns the ASCII value of the character which would be again maximum 255.\n",
    "Hence by comparing the integer to the ord(char) value, we can check for a key pressed event and \n",
    "break the loop.\n",
    "'''"
   ]
  },
  {
   "cell_type": "code",
   "execution_count": 4,
   "id": "2bd8f6c5",
   "metadata": {},
   "outputs": [
    {
     "ename": "KeyboardInterrupt",
     "evalue": "",
     "output_type": "error",
     "traceback": [
      "\u001b[1;31m---------------------------------------------------------------------------\u001b[0m",
      "\u001b[1;31mKeyboardInterrupt\u001b[0m                         Traceback (most recent call last)",
      "Input \u001b[1;32mIn [4]\u001b[0m, in \u001b[0;36m<cell line: 6>\u001b[1;34m()\u001b[0m\n\u001b[0;32m      6\u001b[0m     ret,frame\u001b[38;5;241m=\u001b[39mcap\u001b[38;5;241m.\u001b[39mread()\n\u001b[0;32m      7\u001b[0m     cv2\u001b[38;5;241m.\u001b[39mimshow(\u001b[38;5;124m'\u001b[39m\u001b[38;5;124mMy Live Sketch\u001b[39m\u001b[38;5;124m'\u001b[39m,frame)\n\u001b[1;32m----> 8\u001b[0m     \u001b[38;5;28;01mif\u001b[39;00m \u001b[43mcv2\u001b[49m\u001b[38;5;241;43m.\u001b[39;49m\u001b[43mwaitKey\u001b[49m\u001b[43m(\u001b[49m\u001b[38;5;241;43m0\u001b[39;49m\u001b[43m)\u001b[49m\u001b[38;5;241m&\u001b[39m\u001b[38;5;241m0xFF\u001b[39m\u001b[38;5;241m==\u001b[39m\u001b[38;5;28mord\u001b[39m(\u001b[38;5;124m'\u001b[39m\u001b[38;5;124mq\u001b[39m\u001b[38;5;124m'\u001b[39m):\n\u001b[0;32m      9\u001b[0m         \u001b[38;5;28;01mbreak\u001b[39;00m\n\u001b[0;32m     10\u001b[0m cap\u001b[38;5;241m.\u001b[39mrelease()\n",
      "\u001b[1;31mKeyboardInterrupt\u001b[0m: "
     ]
    }
   ],
   "source": [
    "#10. Live sketch from webcam\n",
    "#m1: each button pressed captures the current video position\n",
    "import cv2\n",
    "cap=cv2.VideoCapture(0)\n",
    "while True:\n",
    "    ret,frame=cap.read()\n",
    "    cv2.imshow('My Live Sketch',frame)\n",
    "    if cv2.waitKey(0)&0xFF==ord('q'):\n",
    "        break\n",
    "cap.release()\n",
    "cv2.destroyAllWindows()"
   ]
  },
  {
   "cell_type": "code",
   "execution_count": 5,
   "id": "1cdf52b0",
   "metadata": {},
   "outputs": [
    {
     "ename": "KeyboardInterrupt",
     "evalue": "",
     "output_type": "error",
     "traceback": [
      "\u001b[1;31m---------------------------------------------------------------------------\u001b[0m",
      "\u001b[1;31mKeyboardInterrupt\u001b[0m                         Traceback (most recent call last)",
      "Input \u001b[1;32mIn [5]\u001b[0m, in \u001b[0;36m<cell line: 6>\u001b[1;34m()\u001b[0m\n\u001b[0;32m      6\u001b[0m     ret,frame\u001b[38;5;241m=\u001b[39mcap\u001b[38;5;241m.\u001b[39mread()\n\u001b[0;32m      7\u001b[0m     cv2\u001b[38;5;241m.\u001b[39mimshow(\u001b[38;5;124m'\u001b[39m\u001b[38;5;124mMy Live Sketch\u001b[39m\u001b[38;5;124m'\u001b[39m,frame)\n\u001b[1;32m----> 8\u001b[0m     \u001b[38;5;28;01mif\u001b[39;00m \u001b[43mcv2\u001b[49m\u001b[38;5;241;43m.\u001b[39;49m\u001b[43mwaitKey\u001b[49m\u001b[43m(\u001b[49m\u001b[38;5;241;43m0\u001b[39;49m\u001b[43m)\u001b[49m\u001b[38;5;241m&\u001b[39m\u001b[38;5;241m0xFF\u001b[39m\u001b[38;5;241m==\u001b[39m\u001b[38;5;28mord\u001b[39m(\u001b[38;5;124m'\u001b[39m\u001b[38;5;124mq\u001b[39m\u001b[38;5;124m'\u001b[39m):\n\u001b[0;32m      9\u001b[0m         \u001b[38;5;28;01mbreak\u001b[39;00m\n\u001b[0;32m     10\u001b[0m cap\u001b[38;5;241m.\u001b[39mrelease()\n",
      "\u001b[1;31mKeyboardInterrupt\u001b[0m: "
     ]
    }
   ],
   "source": [
    "#10. Live sketch from webcam\n",
    "#m1: each button pressed captures the current video position\n",
    "import cv2\n",
    "cap=cv2.VideoCapture(0)\n",
    "while True:\n",
    "    ret,frame=cap.read()\n",
    "    cv2.imshow('My Live Sketch',frame)\n",
    "    if cv2.waitKey(0)&0xFF==ord('q'):\n",
    "        break\n",
    "cap.release()\n",
    "cv2.destroyAllWindows()"
   ]
  },
  {
   "cell_type": "code",
   "execution_count": 2,
   "id": "cc80a983",
   "metadata": {},
   "outputs": [
    {
     "ename": "KeyboardInterrupt",
     "evalue": "",
     "output_type": "error",
     "traceback": [
      "\u001b[1;31m---------------------------------------------------------------------------\u001b[0m",
      "\u001b[1;31mKeyboardInterrupt\u001b[0m                         Traceback (most recent call last)",
      "Input \u001b[1;32mIn [2]\u001b[0m, in \u001b[0;36m<cell line: 5>\u001b[1;34m()\u001b[0m\n\u001b[0;32m      3\u001b[0m cap\u001b[38;5;241m=\u001b[39mcv2\u001b[38;5;241m.\u001b[39mVideoCapture(\u001b[38;5;241m0\u001b[39m)\n\u001b[0;32m      4\u001b[0m \u001b[38;5;28;01mwhile\u001b[39;00m \u001b[38;5;28;01mTrue\u001b[39;00m:\n\u001b[1;32m----> 5\u001b[0m     ret,frame\u001b[38;5;241m=\u001b[39m\u001b[43mcap\u001b[49m\u001b[38;5;241;43m.\u001b[39;49m\u001b[43mread\u001b[49m\u001b[43m(\u001b[49m\u001b[43m)\u001b[49m\n\u001b[0;32m      6\u001b[0m     canny\u001b[38;5;241m=\u001b[39mcv2\u001b[38;5;241m.\u001b[39mCanny(frame,\u001b[38;5;241m20\u001b[39m,\u001b[38;5;241m159\u001b[39m)\n\u001b[0;32m      7\u001b[0m     cv2\u001b[38;5;241m.\u001b[39mimshow(\u001b[38;5;124m'\u001b[39m\u001b[38;5;124mMy Live Sketch\u001b[39m\u001b[38;5;124m'\u001b[39m,canny)\n",
      "\u001b[1;31mKeyboardInterrupt\u001b[0m: "
     ]
    }
   ],
   "source": [
    "#11. My Canny Sketch (edge detection)\n",
    "import cv2\n",
    "cap=cv2.VideoCapture(0)\n",
    "while True:\n",
    "    ret,frame=cap.read()\n",
    "    canny=cv2.Canny(frame,20,159)\n",
    "    cv2.imshow('My Live Sketch',canny)\n",
    "    if cv2.waitKey(1)==ord('q'):\n",
    "        break\n",
    "cap.release()\n",
    "cv2.destroyAllWindows()"
   ]
  },
  {
   "cell_type": "code",
   "execution_count": 1,
   "id": "fa79046b",
   "metadata": {},
   "outputs": [],
   "source": [
    "#12. Face Detection in an image\n",
    "import cv2\n",
    "face_cascade=cv2.CascadeClassifier(r'C:/Users/DEEP/Machine Learning/images/openCV/haarcascade_frontalface_default.xml')\n",
    "img=cv2.imread(r'C:/Users/DEEP/Machine Learning/images/openCV/abc.jpg')\n",
    "gray=cv2.cvtColor(img,cv2.COLOR_BGR2GRAY)\n",
    "faces=face_cascade.detectMultiScale(gray,1.1,9)\n",
    "for x,y,w,h in faces:\n",
    "    img = cv2.rectangle(img,(x,y),(x+w,y+h),(255,0,0),5)\n",
    "cv2.imshow('Face Detection',img)\n",
    "cv2.waitKey(0)\n",
    "cv2.destroyAllWindows()"
   ]
  }
 ],
 "metadata": {
  "kernelspec": {
   "display_name": "Python 3 (ipykernel)",
   "language": "python",
   "name": "python3"
  },
  "language_info": {
   "codemirror_mode": {
    "name": "ipython",
    "version": 3
   },
   "file_extension": ".py",
   "mimetype": "text/x-python",
   "name": "python",
   "nbconvert_exporter": "python",
   "pygments_lexer": "ipython3",
   "version": "3.9.13"
  }
 },
 "nbformat": 4,
 "nbformat_minor": 5
}
