{
 "cells": [
  {
   "cell_type": "markdown",
   "id": "113f944e",
   "metadata": {},
   "source": [
    "UNSUPERVISED LEARNING: (UL)"
   ]
  },
  {
   "cell_type": "markdown",
   "id": "191ce206",
   "metadata": {},
   "source": [
    "It is the training of a machine using the information that is neither classified nor labelled and allowing the algorithm to act on that information without any guidance. Here the task of the machine is to group unsorted information according to similarities, patterns and differences without any prior training of data.\n",
    "Unlike supervised learning, no teacher is provided that means no training will be given to the machine.Therefore the machine is restricted to find the hidden structure in unlabelled itself.\n",
    "It allows the model to work on its own to discover patterns and information that was previously undetected. It mainly deals with unlabelled data."
   ]
  },
  {
   "cell_type": "markdown",
   "id": "b8c20880",
   "metadata": {},
   "source": [
    "UL is classified into 2 categories of algorithm:\n",
    "1. Clustering: a clustering problem is where you wan tto discover the inherent groupings in the data, such as grouping customers by purchasing behavior\n",
    "2. Association: An association rule learning problem is where you want to discover rules that describe large portions of your data, such as people that buy X also tend to buy Y."
   ]
  },
  {
   "cell_type": "code",
   "execution_count": null,
   "id": "a53cee4b",
   "metadata": {},
   "outputs": [],
   "source": []
  }
 ],
 "metadata": {
  "kernelspec": {
   "display_name": "Python 3 (ipykernel)",
   "language": "python",
   "name": "python3"
  },
  "language_info": {
   "codemirror_mode": {
    "name": "ipython",
    "version": 3
   },
   "file_extension": ".py",
   "mimetype": "text/x-python",
   "name": "python",
   "nbconvert_exporter": "python",
   "pygments_lexer": "ipython3",
   "version": "3.9.12"
  }
 },
 "nbformat": 4,
 "nbformat_minor": 5
}
