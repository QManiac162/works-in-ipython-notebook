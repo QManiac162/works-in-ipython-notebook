{
 "cells": [
  {
   "cell_type": "markdown",
   "id": "b45c89af",
   "metadata": {},
   "source": [
    "python for ML"
   ]
  },
  {
   "cell_type": "markdown",
   "id": "2c330130",
   "metadata": {},
   "source": [
    "comments(#): are not part of program and meant only for labelling\n",
    ".py=python file extension\n",
    "to execute cell: shift+enter/alt+enter/ctrl+enter"
   ]
  },
  {
   "cell_type": "markdown",
   "id": "b10b239d",
   "metadata": {},
   "source": [
    "1: python basics"
   ]
  },
  {
   "cell_type": "code",
   "execution_count": 1,
   "id": "3f6d3e92",
   "metadata": {},
   "outputs": [
    {
     "name": "stdout",
     "output_type": "stream",
     "text": [
      "Hello World\n"
     ]
    }
   ],
   "source": [
    "#printing a statement , use print('string')/print(\"string\")\n",
    "print('Hello World')"
   ]
  },
  {
   "cell_type": "code",
   "execution_count": 2,
   "id": "b5ee4913",
   "metadata": {},
   "outputs": [
    {
     "name": "stdout",
     "output_type": "stream",
     "text": [
      "25\n"
     ]
    }
   ],
   "source": [
    "#making use of variables to store value\n",
    "#here no need to specify the data type\n",
    "a=25\n",
    "print(a)"
   ]
  },
  {
   "cell_type": "code",
   "execution_count": 3,
   "id": "1259ec5a",
   "metadata": {},
   "outputs": [
    {
     "name": "stdout",
     "output_type": "stream",
     "text": [
      "25 2.0 Hello ML True\n"
     ]
    }
   ],
   "source": [
    "#to know the datatype of the variable say x, use type(x)\n",
    "a,b,c,d=25,2.0,\"Hello ML\",True\n",
    "print(a,b,c,d)"
   ]
  },
  {
   "cell_type": "code",
   "execution_count": 4,
   "id": "d3f4823a",
   "metadata": {},
   "outputs": [
    {
     "data": {
      "text/plain": [
       "int"
      ]
     },
     "execution_count": 4,
     "metadata": {},
     "output_type": "execute_result"
    }
   ],
   "source": [
    "type(a)"
   ]
  },
  {
   "cell_type": "code",
   "execution_count": 5,
   "id": "ba50947f",
   "metadata": {},
   "outputs": [
    {
     "data": {
      "text/plain": [
       "float"
      ]
     },
     "execution_count": 5,
     "metadata": {},
     "output_type": "execute_result"
    }
   ],
   "source": [
    "type(b)"
   ]
  },
  {
   "cell_type": "code",
   "execution_count": 6,
   "id": "9335b01e",
   "metadata": {},
   "outputs": [
    {
     "data": {
      "text/plain": [
       "str"
      ]
     },
     "execution_count": 6,
     "metadata": {},
     "output_type": "execute_result"
    }
   ],
   "source": [
    "type(c)"
   ]
  },
  {
   "cell_type": "code",
   "execution_count": 7,
   "id": "0bb92427",
   "metadata": {},
   "outputs": [
    {
     "data": {
      "text/plain": [
       "bool"
      ]
     },
     "execution_count": 7,
     "metadata": {},
     "output_type": "execute_result"
    }
   ],
   "source": [
    "type(d)"
   ]
  },
  {
   "cell_type": "code",
   "execution_count": 8,
   "id": "4814e64c",
   "metadata": {},
   "outputs": [
    {
     "name": "stdout",
     "output_type": "stream",
     "text": [
      "\"\"\n"
     ]
    }
   ],
   "source": [
    "#to print \"\"\n",
    "print('\"\"')"
   ]
  },
  {
   "cell_type": "code",
   "execution_count": 9,
   "id": "26d7cebd",
   "metadata": {},
   "outputs": [
    {
     "name": "stdout",
     "output_type": "stream",
     "text": [
      "''\n"
     ]
    }
   ],
   "source": [
    "#to print ''\n",
    "print(\"''\")"
   ]
  },
  {
   "cell_type": "code",
   "execution_count": 10,
   "id": "3e78e765",
   "metadata": {},
   "outputs": [],
   "source": [
    "#arithmatic operations can be done directly\n",
    "a,b=25,15"
   ]
  },
  {
   "cell_type": "code",
   "execution_count": 11,
   "id": "a21aeb56",
   "metadata": {},
   "outputs": [
    {
     "data": {
      "text/plain": [
       "40"
      ]
     },
     "execution_count": 11,
     "metadata": {},
     "output_type": "execute_result"
    }
   ],
   "source": [
    "a+b#addition"
   ]
  },
  {
   "cell_type": "code",
   "execution_count": 12,
   "id": "ae3e93a2",
   "metadata": {},
   "outputs": [
    {
     "data": {
      "text/plain": [
       "10"
      ]
     },
     "execution_count": 12,
     "metadata": {},
     "output_type": "execute_result"
    }
   ],
   "source": [
    "a-b#subtraction"
   ]
  },
  {
   "cell_type": "code",
   "execution_count": 13,
   "id": "5f3f9bc7",
   "metadata": {},
   "outputs": [
    {
     "data": {
      "text/plain": [
       "1.6666666666666667"
      ]
     },
     "execution_count": 13,
     "metadata": {},
     "output_type": "execute_result"
    }
   ],
   "source": [
    "a/b#division"
   ]
  },
  {
   "cell_type": "code",
   "execution_count": 14,
   "id": "9b57fabb",
   "metadata": {},
   "outputs": [
    {
     "data": {
      "text/plain": [
       "375"
      ]
     },
     "execution_count": 14,
     "metadata": {},
     "output_type": "execute_result"
    }
   ],
   "source": [
    "a*b#multiplication"
   ]
  },
  {
   "cell_type": "code",
   "execution_count": 15,
   "id": "f0d87d1e",
   "metadata": {},
   "outputs": [
    {
     "data": {
      "text/plain": [
       "10"
      ]
     },
     "execution_count": 15,
     "metadata": {},
     "output_type": "execute_result"
    }
   ],
   "source": [
    "a%b#modulo"
   ]
  },
  {
   "cell_type": "code",
   "execution_count": 16,
   "id": "4eb48b8d",
   "metadata": {},
   "outputs": [
    {
     "data": {
      "text/plain": [
       "'\\nMultiline comment\\na = 25\\nb = 40\\nc = True\\nd = \"Hello World\"\\n'"
      ]
     },
     "execution_count": 16,
     "metadata": {},
     "output_type": "execute_result"
    }
   ],
   "source": [
    "'''\n",
    "Multiline comment\n",
    "a = 25\n",
    "b = 40\n",
    "c = True\n",
    "d = \"Hello World\"\n",
    "'''"
   ]
  },
  {
   "cell_type": "code",
   "execution_count": 17,
   "id": "816a9622",
   "metadata": {},
   "outputs": [
    {
     "name": "stdout",
     "output_type": "stream",
     "text": [
      "Enter your Name: Deep Samanta\n"
     ]
    },
    {
     "data": {
      "text/plain": [
       "'Deep Samanta'"
      ]
     },
     "execution_count": 17,
     "metadata": {},
     "output_type": "execute_result"
    }
   ],
   "source": [
    "#Builtin functions - Predefined - print(),input(),len(),min(),max()\n",
    "#User Defined Funtions - Functions created the user(can be edited \n",
    "#or altered)\n",
    "#input() - It will always wait for the user the enter the input\n",
    "#The input taken from the input function is always a string\n",
    "a = input('Enter your Name: ')\n",
    "a"
   ]
  },
  {
   "cell_type": "code",
   "execution_count": 18,
   "id": "c1e862da",
   "metadata": {},
   "outputs": [
    {
     "name": "stdout",
     "output_type": "stream",
     "text": [
      "Enter the 1st number: 12\n",
      "Enter the second number: 13\n",
      "the sum of a and b is  1213\n"
     ]
    }
   ],
   "source": [
    "#Using input() , take 2 numbers as input and calculate their sum \n",
    "#and display it\n",
    "a = input('Enter the 1st number: ')\n",
    "b = input('Enter the second number: ')\n",
    "c = a + b\n",
    "print('the sum of a and b is ',c)\n",
    "#Here concatenation takes place\n",
    "#Concatenation - Joining of strings"
   ]
  },
  {
   "cell_type": "code",
   "execution_count": 19,
   "id": "30b18e8f",
   "metadata": {},
   "outputs": [
    {
     "name": "stdout",
     "output_type": "stream",
     "text": [
      "Enter the 1st number: 12\n",
      "Enter the second number: 13\n",
      "the sum of a and b is  25\n"
     ]
    }
   ],
   "source": [
    "#hence correct method\n",
    "a = int(input('Enter the 1st number: '))\n",
    "b = int(input('Enter the second number: '))\n",
    "c = a + b\n",
    "print('the sum of a and b is ',c)"
   ]
  },
  {
   "cell_type": "code",
   "execution_count": 20,
   "id": "73450a0d",
   "metadata": {},
   "outputs": [
    {
     "name": "stdout",
     "output_type": "stream",
     "text": [
      "Enter a number75\n",
      "The square of given number is: 5625\n",
      "The square of 75 number is: 5625\n"
     ]
    }
   ],
   "source": [
    "#wap to find square of a number using input\n",
    "a=int (input('Enter a number'))\n",
    "sq=a*a\n",
    "#printing as if a normal string\n",
    "print('The square of given number is:',sq)\n",
    "#printing as formatted string\n",
    "print(f'The square of {a} number is: {sq}')\n",
    "#the variables written inside {} changes as the value of vbariable changes"
   ]
  },
  {
   "cell_type": "code",
   "execution_count": 21,
   "id": "36cc163e",
   "metadata": {},
   "outputs": [
    {
     "name": "stdout",
     "output_type": "stream",
     "text": [
      "Enter a number: 64\n",
      "The cube of number is: 262144\n",
      "The cube of 64 is: 262144\n"
     ]
    }
   ],
   "source": [
    "#method 2...kinda using the carrot function i.e: ^ = **\n",
    "a=int(input('Enter a number: '))\n",
    "cube=a**3\n",
    "print('The cube of number is:',cube)\n",
    "print(f'The cube of {a} is: {cube}')"
   ]
  },
  {
   "cell_type": "code",
   "execution_count": 22,
   "id": "7e0cb540",
   "metadata": {},
   "outputs": [
    {
     "name": "stdout",
     "output_type": "stream",
     "text": [
      "Enter a number: 7\n",
      "The quad of number is: 2401\n",
      "The quad of 7 is: 2401\n"
     ]
    }
   ],
   "source": [
    "#method 3...using pow function\n",
    "a=int(input('Enter a number: '))\n",
    "quad=pow(a,4)\n",
    "print('The quad of number is:',quad)\n",
    "print(f'The quad of {a} is: {quad}')"
   ]
  },
  {
   "cell_type": "code",
   "execution_count": 23,
   "id": "8efba764",
   "metadata": {},
   "outputs": [],
   "source": [
    "#Strings\n"
   ]
  }
 ],
 "metadata": {
  "kernelspec": {
   "display_name": "Python 3 (ipykernel)",
   "language": "python",
   "name": "python3"
  },
  "language_info": {
   "codemirror_mode": {
    "name": "ipython",
    "version": 3
   },
   "file_extension": ".py",
   "mimetype": "text/x-python",
   "name": "python",
   "nbconvert_exporter": "python",
   "pygments_lexer": "ipython3",
   "version": "3.9.13"
  }
 },
 "nbformat": 4,
 "nbformat_minor": 5
}
