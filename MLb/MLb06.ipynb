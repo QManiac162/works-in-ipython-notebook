{
 "cells": [
  {
   "cell_type": "code",
   "execution_count": 1,
   "id": "ee0f6f29",
   "metadata": {},
   "outputs": [
    {
     "data": {
      "text/plain": [
       "'\\nIt is defined by its use of labeled datasets to train algorithms that to classify data or predict \\noutcomes accurately. As input data is fed into the model, it adjusts its weights until the model has \\nbeen fitted appropriately, which occurs as part of the cross validation process.\\n\\nSupervised learning uses a training set to teach models to yield the desired output. This training \\ndataset includes inputs and correct outputs, which allow the model to learn over time. The algorithm \\nmeasures its accuracy through the loss function, adjusting until the error has been sufficiently \\nminimized.\\n'"
      ]
     },
     "execution_count": 1,
     "metadata": {},
     "output_type": "execute_result"
    }
   ],
   "source": [
    "#SUPERVISED LEARNING\n",
    "'''\n",
    "It is defined by its use of labeled datasets to train algorithms that to classify data or predict \n",
    "outcomes accurately. As input data is fed into the model, it adjusts its weights until the model has \n",
    "been fitted appropriately, which occurs as part of the cross validation process.\n",
    "\n",
    "Supervised learning uses a training set to teach models to yield the desired output. This training \n",
    "dataset includes inputs and correct outputs, which allow the model to learn over time. The algorithm \n",
    "measures its accuracy through the loss function, adjusting until the error has been sufficiently \n",
    "minimized.\n",
    "'''"
   ]
  },
  {
   "cell_type": "code",
   "execution_count": 2,
   "id": "faee456a",
   "metadata": {},
   "outputs": [
    {
     "data": {
      "text/plain": [
       "'\\nClassification uses an algorithm to accurately assign test data into specific categories. \\nIt recognizes specific entities within the dataset and attempts to draw some conclusions on how those \\nentities should be labeled or defined. Common classification algorithms are linear classifiers, \\nsupport vector machines (SVM), decision trees, k-nearest neighbor, and random forest, which are \\ndescribed in more detail below.\\n\\nRegression is used to understand the relationship between dependent and independent variables. It is \\ncommonly used to make projections, such as for sales revenue for a given business. Linear \\nregression, logistical regression, and polynomial regression are popular regression algorithms.\\n'"
      ]
     },
     "execution_count": 2,
     "metadata": {},
     "output_type": "execute_result"
    }
   ],
   "source": [
    "#Supervised learning can be separated into two types of problems when data mining—classification \n",
    "#and regression:\n",
    "'''\n",
    "Classification uses an algorithm to accurately assign test data into specific categories. \n",
    "It recognizes specific entities within the dataset and attempts to draw some conclusions on how those \n",
    "entities should be labeled or defined. Common classification algorithms are linear classifiers, \n",
    "support vector machines (SVM), decision trees, k-nearest neighbor, and random forest, which are \n",
    "described in more detail below.\n",
    "\n",
    "Regression is used to understand the relationship between dependent and independent variables. It is \n",
    "commonly used to make projections, such as for sales revenue for a given business. Linear \n",
    "regression, logistical regression, and polynomial regression are popular regression algorithms.\n",
    "'''"
   ]
  },
  {
   "cell_type": "code",
   "execution_count": 3,
   "id": "94e1f177",
   "metadata": {},
   "outputs": [
    {
     "data": {
      "text/html": [
       "<div>\n",
       "<style scoped>\n",
       "    .dataframe tbody tr th:only-of-type {\n",
       "        vertical-align: middle;\n",
       "    }\n",
       "\n",
       "    .dataframe tbody tr th {\n",
       "        vertical-align: top;\n",
       "    }\n",
       "\n",
       "    .dataframe thead th {\n",
       "        text-align: right;\n",
       "    }\n",
       "</style>\n",
       "<table border=\"1\" class=\"dataframe\">\n",
       "  <thead>\n",
       "    <tr style=\"text-align: right;\">\n",
       "      <th></th>\n",
       "      <th>Area</th>\n",
       "      <th>Prices</th>\n",
       "    </tr>\n",
       "  </thead>\n",
       "  <tbody>\n",
       "    <tr>\n",
       "      <th>0</th>\n",
       "      <td>1000</td>\n",
       "      <td>550000</td>\n",
       "    </tr>\n",
       "    <tr>\n",
       "      <th>1</th>\n",
       "      <td>1500</td>\n",
       "      <td>800000</td>\n",
       "    </tr>\n",
       "    <tr>\n",
       "      <th>2</th>\n",
       "      <td>1800</td>\n",
       "      <td>1050000</td>\n",
       "    </tr>\n",
       "    <tr>\n",
       "      <th>3</th>\n",
       "      <td>2400</td>\n",
       "      <td>1240000</td>\n",
       "    </tr>\n",
       "    <tr>\n",
       "      <th>4</th>\n",
       "      <td>3000</td>\n",
       "      <td>1400000</td>\n",
       "    </tr>\n",
       "    <tr>\n",
       "      <th>5</th>\n",
       "      <td>3500</td>\n",
       "      <td>1650000</td>\n",
       "    </tr>\n",
       "  </tbody>\n",
       "</table>\n",
       "</div>"
      ],
      "text/plain": [
       "   Area   Prices\n",
       "0  1000   550000\n",
       "1  1500   800000\n",
       "2  1800  1050000\n",
       "3  2400  1240000\n",
       "4  3000  1400000\n",
       "5  3500  1650000"
      ]
     },
     "execution_count": 3,
     "metadata": {},
     "output_type": "execute_result"
    }
   ],
   "source": [
    "import numpy as np\n",
    "import pandas as pd\n",
    "import seaborn as sns\n",
    "import matplotlib.pyplot as plt\n",
    "df=pd.read_csv('C:/Users/DEEP/Machine Learning/data set/Area vs prices/AreaVsPrices.csv')\n",
    "df"
   ]
  },
  {
   "cell_type": "code",
   "execution_count": 4,
   "id": "e29a9206",
   "metadata": {},
   "outputs": [
    {
     "data": {
      "text/plain": [
       "<matplotlib.collections.PathCollection at 0x155895072e0>"
      ]
     },
     "execution_count": 4,
     "metadata": {},
     "output_type": "execute_result"
    },
    {
     "data": {
      "image/png": "[encoded data removed]",
      "text/plain": [
       "<Figure size 432x288 with 1 Axes>"
      ]
     },
     "metadata": {
      "needs_background": "light"
     },
     "output_type": "display_data"
    }
   ],
   "source": [
    "#visualization of the dataframe\n",
    "plt.scatter(df.Area,df.Prices)"
   ]
  },
  {
   "cell_type": "code",
   "execution_count": 5,
   "id": "8b9be3ab",
   "metadata": {},
   "outputs": [],
   "source": [
    "#so basically, our model has some previously collected data imported as df\n",
    "#so now our target is to train the model wiht these datasets and then when we input new area\n",
    "#it should be able to predict the price of it as accurately as possible\n",
    "#Here for training: input=Area and output=Prices\n",
    "#Divide the data into input(x) and output(y)\n",
    "#input: is always 2 dimensional\n",
    "#output: is always 1 dimensional\n",
    "#while using .iloc[], if column is blamk followed by :, then array is 2D\n",
    "#.values converts the column into array\n",
    "#only : in row's place will slect all rows and only : in col's place will slect all cols"
   ]
  },
  {
   "cell_type": "code",
   "execution_count": 6,
   "id": "966807f4",
   "metadata": {},
   "outputs": [
    {
     "data": {
      "text/plain": [
       "array([[1000],\n",
       "       [1500],\n",
       "       [1800],\n",
       "       [2400],\n",
       "       [3000],\n",
       "       [3500]], dtype=int64)"
      ]
     },
     "execution_count": 6,
     "metadata": {},
     "output_type": "execute_result"
    }
   ],
   "source": [
    "x=df.iloc[:,0:1].values\n",
    "x\n",
    "#even though 1 column is selected, we need to use as a 2D array\n",
    "#hence we use it with slicing"
   ]
  },
  {
   "cell_type": "code",
   "execution_count": 7,
   "id": "785f758e",
   "metadata": {},
   "outputs": [
    {
     "data": {
      "text/plain": [
       "array([ 550000,  800000, 1050000, 1240000, 1400000, 1650000], dtype=int64)"
      ]
     },
     "execution_count": 7,
     "metadata": {},
     "output_type": "execute_result"
    }
   ],
   "source": [
    "y=df.iloc[:,1].values\n",
    "y\n",
    "#no required of slicing...by default its 1D"
   ]
  },
  {
   "cell_type": "code",
   "execution_count": 8,
   "id": "b2c9abe5",
   "metadata": {},
   "outputs": [],
   "source": [
    "#APPLICATION OF A SUITABLE ALGORITHM\n",
    "#sklearn.linear_model: a package/ collection of lib"
   ]
  },
  {
   "cell_type": "markdown",
   "id": "870e466e",
   "metadata": {},
   "source": [
    "MODEL OR ALGORITHMS: "
   ]
  },
  {
   "cell_type": "markdown",
   "id": "e909f26c",
   "metadata": {},
   "source": [
    "LINEAR REGRESSION:\n",
    "It mostly used for few values containing dataset by finding the best possible line that satisfies it\n",
    "i.e. it finds an approx correct 'equation' that contains the inputted data\n",
    "once the equation is known, we can easily find the result upon certain input values"
   ]
  },
  {
   "cell_type": "code",
   "execution_count": 9,
   "id": "33919696",
   "metadata": {},
   "outputs": [
    {
     "data": {
      "text/plain": [
       "LinearRegression()"
      ]
     },
     "execution_count": 9,
     "metadata": {},
     "output_type": "execute_result"
    }
   ],
   "source": [
    "#MODEL-1\n",
    "from sklearn.linear_model import LinearRegression\n",
    "model=LinearRegression()\n",
    "model.fit(x,y)"
   ]
  },
  {
   "cell_type": "code",
   "execution_count": 10,
   "id": "8d8f2a37",
   "metadata": {},
   "outputs": [
    {
     "data": {
      "text/plain": [
       "array([ 611053.81165919,  821031.39013453,  947017.93721973,\n",
       "       1198991.03139013, 1450964.12556054, 1660941.70403587])"
      ]
     },
     "execution_count": 10,
     "metadata": {},
     "output_type": "execute_result"
    }
   ],
   "source": [
    "#How the model predicted the output/predictor variables\n",
    "#i.e. using the input values, we predict the output\n",
    "y_pred= model.predict(x)\n",
    "y_pred"
   ]
  },
  {
   "cell_type": "code",
   "execution_count": 11,
   "id": "22b5e8a8",
   "metadata": {},
   "outputs": [
    {
     "data": {
      "text/plain": [
       "array([ 550000,  800000, 1050000, 1240000, 1400000, 1650000], dtype=int64)"
      ]
     },
     "execution_count": 11,
     "metadata": {},
     "output_type": "execute_result"
    }
   ],
   "source": [
    "#comparing with the actual values\n",
    "y"
   ]
  },
  {
   "cell_type": "code",
   "execution_count": 12,
   "id": "bb9e3536",
   "metadata": {},
   "outputs": [
    {
     "data": {
      "text/plain": [
       "'\\nCONCLUSION:\\nWe have to compare y and y_pred.On Comparing we come to know that there is huge difference\\nThis huge difference does not mean that my model has predicted Wrong\\nThis only means that my model is NOT LINEAR\\nLINEARITY OF A MODEL DEPENDS ON NATURE OF THE DATA as well as the size of the data\\n'"
      ]
     },
     "execution_count": 12,
     "metadata": {},
     "output_type": "execute_result"
    }
   ],
   "source": [
    "'''\n",
    "CONCLUSION:\n",
    "We have to compare y and y_pred.On Comparing we come to know that there is huge difference\n",
    "This huge difference does not mean that my model has predicted Wrong\n",
    "This only means that my model is NOT LINEAR\n",
    "LINEARITY OF A MODEL DEPENDS ON NATURE OF THE DATA as well as the size of the data\n",
    "'''"
   ]
  },
  {
   "cell_type": "code",
   "execution_count": 13,
   "id": "4a685dc2",
   "metadata": {},
   "outputs": [
    {
     "data": {
      "text/plain": [
       "array([905022.42152466])"
      ]
     },
     "execution_count": 13,
     "metadata": {},
     "output_type": "execute_result"
    }
   ],
   "source": [
    "#INDIVIDUAL PREDICTION\n",
    "#Let us calculate the price for 1700 sqft\n",
    "model.predict([[1700]])"
   ]
  },
  {
   "cell_type": "code",
   "execution_count": 14,
   "id": "e26bfcee",
   "metadata": {},
   "outputs": [
    {
     "data": {
      "text/plain": [
       "'\\nCROSS VERIFICATION TECHNIQUE\\ny = mx + C is an Equation of a Straight line\\ny - Dependent variable\\nx - Independent Variable\\nm - slope\\nC - Constant /Y -intercept\\n'"
      ]
     },
     "execution_count": 14,
     "metadata": {},
     "output_type": "execute_result"
    }
   ],
   "source": [
    "'''\n",
    "CROSS VERIFICATION TECHNIQUE\n",
    "y = mx + C is an Equation of a Straight line\n",
    "y - Dependent variable\n",
    "x - Independent Variable\n",
    "m - slope\n",
    "C - Constant /Y -intercept\n",
    "'''"
   ]
  },
  {
   "cell_type": "code",
   "execution_count": 15,
   "id": "9cef17cd",
   "metadata": {},
   "outputs": [
    {
     "data": {
      "text/plain": [
       "array([419.95515695])"
      ]
     },
     "execution_count": 15,
     "metadata": {},
     "output_type": "execute_result"
    }
   ],
   "source": [
    "m = model.coef_ # slope of the equation the model generated\n",
    "m"
   ]
  },
  {
   "cell_type": "code",
   "execution_count": 16,
   "id": "9e82c7ad",
   "metadata": {},
   "outputs": [
    {
     "data": {
      "text/plain": [
       "numpy.ndarray"
      ]
     },
     "execution_count": 16,
     "metadata": {},
     "output_type": "execute_result"
    }
   ],
   "source": [
    "type(m)"
   ]
  },
  {
   "cell_type": "code",
   "execution_count": 17,
   "id": "c129f300",
   "metadata": {},
   "outputs": [
    {
     "data": {
      "text/plain": [
       "191098.65470852004"
      ]
     },
     "execution_count": 17,
     "metadata": {},
     "output_type": "execute_result"
    }
   ],
   "source": [
    "C = model.intercept_ # Y -intercept/constant the model generated\n",
    "C"
   ]
  },
  {
   "cell_type": "code",
   "execution_count": 18,
   "id": "3dae57fa",
   "metadata": {},
   "outputs": [
    {
     "data": {
      "text/plain": [
       "array([905022.42152466])"
      ]
     },
     "execution_count": 18,
     "metadata": {},
     "output_type": "execute_result"
    }
   ],
   "source": [
    "#hence output y according to\n",
    "#y = mx + C , for x = 1700\n",
    "m * 1700 + C"
   ]
  },
  {
   "cell_type": "code",
   "execution_count": 19,
   "id": "925d4db0",
   "metadata": {},
   "outputs": [
    {
     "data": {
      "text/plain": [
       "Text(0.5, 1.0, 'best fit line')"
      ]
     },
     "execution_count": 19,
     "metadata": {},
     "output_type": "execute_result"
    },
    {
     "data": {
      "image/png": "[encoded data removed]",
      "text/plain": [
       "<Figure size 432x288 with 1 Axes>"
      ]
     },
     "metadata": {
      "needs_background": "light"
     },
     "output_type": "display_data"
    }
   ],
   "source": [
    "#here we see that the answer is accurate\n",
    "#Visualize the best fit line\n",
    "plt.scatter(x,y)\n",
    "plt.plot(x,y_pred,c='r')\n",
    "plt.title('best fit line')"
   ]
  },
  {
   "cell_type": "code",
   "execution_count": 20,
   "id": "d3d16c3d",
   "metadata": {},
   "outputs": [
    {
     "name": "stdout",
     "output_type": "stream",
     "text": [
      "[ 1  2  3  4  5  6  7  8  9 10] [32472 39705 55560 61911 68161 76300 85502 91369 94935 99499]\n"
     ]
    }
   ],
   "source": [
    "#Model-2\n",
    "#creating our own datasaet\n",
    "exp=np.arange(1,11)\n",
    "np.random.seed(35)\n",
    "salary=np.random.randint(20000,100000,10)\n",
    "salary=np.sort(salary)\n",
    "print(exp,salary)"
   ]
  },
  {
   "cell_type": "code",
   "execution_count": 21,
   "id": "296b3042",
   "metadata": {},
   "outputs": [
    {
     "data": {
      "text/plain": [
       "numpy.ndarray"
      ]
     },
     "execution_count": 21,
     "metadata": {},
     "output_type": "execute_result"
    }
   ],
   "source": [
    "type(exp)"
   ]
  },
  {
   "cell_type": "code",
   "execution_count": 22,
   "id": "0f106f72",
   "metadata": {},
   "outputs": [
    {
     "data": {
      "text/plain": [
       "<matplotlib.collections.PathCollection at 0x1558a2271c0>"
      ]
     },
     "execution_count": 22,
     "metadata": {},
     "output_type": "execute_result"
    },
    {
     "data": {
      "image/png": "[encoded data removed]",
      "text/plain": [
       "<Figure size 432x288 with 1 Axes>"
      ]
     },
     "metadata": {
      "needs_background": "light"
     },
     "output_type": "display_data"
    }
   ],
   "source": [
    "plt.scatter(exp,salary)"
   ]
  },
  {
   "cell_type": "code",
   "execution_count": 23,
   "id": "1e29246c",
   "metadata": {},
   "outputs": [
    {
     "data": {
      "text/plain": [
       "array([[ 1],\n",
       "       [ 2],\n",
       "       [ 3],\n",
       "       [ 4],\n",
       "       [ 5],\n",
       "       [ 6],\n",
       "       [ 7],\n",
       "       [ 8],\n",
       "       [ 9],\n",
       "       [10]])"
      ]
     },
     "execution_count": 23,
     "metadata": {},
     "output_type": "execute_result"
    }
   ],
   "source": [
    "x1=exp.reshape(10,1)\n",
    "#can also write as: x=exp.reshape(-1,1)\n",
    "x1"
   ]
  },
  {
   "cell_type": "code",
   "execution_count": 24,
   "id": "c1e0f89b",
   "metadata": {},
   "outputs": [
    {
     "data": {
      "text/plain": [
       "2"
      ]
     },
     "execution_count": 24,
     "metadata": {},
     "output_type": "execute_result"
    }
   ],
   "source": [
    "x1.ndim"
   ]
  },
  {
   "cell_type": "code",
   "execution_count": 25,
   "id": "50e690dc",
   "metadata": {},
   "outputs": [
    {
     "data": {
      "text/plain": [
       "array([32472, 39705, 55560, 61911, 68161, 76300, 85502, 91369, 94935,\n",
       "       99499])"
      ]
     },
     "execution_count": 25,
     "metadata": {},
     "output_type": "execute_result"
    }
   ],
   "source": [
    "y1=salary\n",
    "y1"
   ]
  },
  {
   "cell_type": "code",
   "execution_count": 26,
   "id": "63882fd0",
   "metadata": {},
   "outputs": [
    {
     "data": {
      "text/plain": [
       "array([ 36510.21818182,  44072.7030303 ,  51635.18787879,  59197.67272727,\n",
       "        66760.15757576,  74322.64242424,  81885.12727273,  89447.61212121,\n",
       "        97010.0969697 , 104572.58181818])"
      ]
     },
     "execution_count": 26,
     "metadata": {},
     "output_type": "execute_result"
    }
   ],
   "source": [
    "model1=LinearRegression()\n",
    "model.fit(x1,y1)\n",
    "y_pred1=model.predict(x1)\n",
    "y_pred1"
   ]
  },
  {
   "cell_type": "code",
   "execution_count": 27,
   "id": "5a0cce30",
   "metadata": {},
   "outputs": [
    {
     "data": {
      "text/plain": [
       "array([32472, 39705, 55560, 61911, 68161, 76300, 85502, 91369, 94935,\n",
       "       99499])"
      ]
     },
     "execution_count": 27,
     "metadata": {},
     "output_type": "execute_result"
    }
   ],
   "source": [
    "y1"
   ]
  },
  {
   "cell_type": "code",
   "execution_count": 28,
   "id": "4684d347",
   "metadata": {},
   "outputs": [
    {
     "data": {
      "text/plain": [
       "array([47853.94545455])"
      ]
     },
     "execution_count": 28,
     "metadata": {},
     "output_type": "execute_result"
    }
   ],
   "source": [
    "model.predict([[2.5]])"
   ]
  },
  {
   "cell_type": "code",
   "execution_count": 29,
   "id": "8feeecf8",
   "metadata": {},
   "outputs": [
    {
     "name": "stdout",
     "output_type": "stream",
     "text": [
      "[7562.48484848] 28947.73333333333\n"
     ]
    }
   ],
   "source": [
    "#cross verification\n",
    "m1=model.coef_\n",
    "c1=model.intercept_\n",
    "print(m1,c1)"
   ]
  },
  {
   "cell_type": "code",
   "execution_count": 30,
   "id": "a1fedd6b",
   "metadata": {},
   "outputs": [
    {
     "data": {
      "text/plain": [
       "array([47853.94545455])"
      ]
     },
     "execution_count": 30,
     "metadata": {},
     "output_type": "execute_result"
    }
   ],
   "source": [
    "m1*2.5+c1"
   ]
  },
  {
   "cell_type": "code",
   "execution_count": 31,
   "id": "cfa3a42f",
   "metadata": {},
   "outputs": [
    {
     "data": {
      "text/plain": [
       "[<matplotlib.lines.Line2D at 0x1558a2951c0>]"
      ]
     },
     "execution_count": 31,
     "metadata": {},
     "output_type": "execute_result"
    },
    {
     "data": {
      "image/png": "[encoded data removed]",
      "text/plain": [
       "<Figure size 432x288 with 1 Axes>"
      ]
     },
     "metadata": {
      "needs_background": "light"
     },
     "output_type": "display_data"
    }
   ],
   "source": [
    "plt.scatter(x1,y1)\n",
    "plt.plot(x1,y_pred1,c='r')"
   ]
  },
  {
   "cell_type": "markdown",
   "id": "8176fbfb",
   "metadata": {},
   "source": [
    "NORMALIZATION: is a technique applied during data preparation so as to change the values of numeric\n",
    "columns in the dataset to use a common scale. This is especially done when the features your \n",
    "Machine Learning model uses have different ranges."
   ]
  },
  {
   "cell_type": "code",
   "execution_count": 32,
   "id": "04aab7ac",
   "metadata": {},
   "outputs": [
    {
     "data": {
      "text/plain": [
       "[<matplotlib.lines.Line2D at 0x1558a2fa2b0>]"
      ]
     },
     "execution_count": 32,
     "metadata": {},
     "output_type": "execute_result"
    },
    {
     "data": {
      "image/png": "[encoded data removed]",
      "text/plain": [
       "<Figure size 432x288 with 1 Axes>"
      ]
     },
     "metadata": {
      "needs_background": "light"
     },
     "output_type": "display_data"
    }
   ],
   "source": [
    "#1.BEFORE NORMALISATION\n",
    "np.random.seed(0)\n",
    "a = np.random.randint(1,50,30)\n",
    "a = np.sort(a)\n",
    "b = np.random.randint(10000,70000,30)\n",
    "plt.plot(a,b)"
   ]
  },
  {
   "cell_type": "code",
   "execution_count": 33,
   "id": "ba689977",
   "metadata": {},
   "outputs": [
    {
     "data": {
      "text/plain": [
       "[<matplotlib.lines.Line2D at 0x1558a35c670>]"
      ]
     },
     "execution_count": 33,
     "metadata": {},
     "output_type": "execute_result"
    },
    {
     "data": {
      "image/png": "[encoded data removed]",
      "text/plain": [
       "<Figure size 432x288 with 1 Axes>"
      ]
     },
     "metadata": {
      "needs_background": "light"
     },
     "output_type": "display_data"
    }
   ],
   "source": [
    "#These graphs are no where related to machine Learning\n",
    "#Here we are only understanding the concept of scaling ,using these graphs \n",
    "\n",
    "#2.AFTER NORMALISATION\n",
    "#Using min-max scaling\n",
    "amin,amax=min(a),max(a)\n",
    "bmin,bmax=min(b),max(b)\n",
    "anorm=(a-amin)/(amax-amin)\n",
    "bnorm=(b-bmin)/(bmax-bmin)\n",
    "plt.plot(anorm,bnorm)"
   ]
  }
 ],
 "metadata": {
  "kernelspec": {
   "display_name": "Python 3 (ipykernel)",
   "language": "python",
   "name": "python3"
  },
  "language_info": {
   "codemirror_mode": {
    "name": "ipython",
    "version": 3
   },
   "file_extension": ".py",
   "mimetype": "text/x-python",
   "name": "python",
   "nbconvert_exporter": "python",
   "pygments_lexer": "ipython3",
   "version": "3.9.13"
  }
 },
 "nbformat": 4,
 "nbformat_minor": 5
}
