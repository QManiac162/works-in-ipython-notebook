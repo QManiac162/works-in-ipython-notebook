{
 "cells": [
  {
   "cell_type": "code",
   "execution_count": 1,
   "id": "a13b96d6",
   "metadata": {},
   "outputs": [
    {
     "data": {
      "text/plain": [
       "'\\nOpenCV-Python is a library of Python bindings designed to solve computer vision problems. \\ncv2.imshow() method is used to display an image in a window. The window automatically fits to the \\nimage size.\\nSyntax: cv2.imshow(window_name, image)\\nParameters: \\nwindow_name: A string representing the name of the window in which image to be displayed. \\nimage: It is the image that is to be displayed.\\nReturn Value: It doesn’t returns anything.\\n'"
      ]
     },
     "execution_count": 1,
     "metadata": {},
     "output_type": "execute_result"
    }
   ],
   "source": [
    "'''\n",
    "OpenCV-Python is a library of Python bindings designed to solve computer vision problems. \n",
    "cv2.imshow() method is used to display an image in a window. The window automatically fits to the \n",
    "image size.\n",
    "Syntax: cv2.imshow(window_name, image)\n",
    "Parameters: \n",
    "window_name: A string representing the name of the window in which image to be displayed. \n",
    "image: It is the image that is to be displayed.\n",
    "Return Value: It doesn’t returns anything.\n",
    "'''"
   ]
  },
  {
   "cell_type": "code",
   "execution_count": 2,
   "id": "3c2f683a",
   "metadata": {},
   "outputs": [],
   "source": [
    "# Python program to explain cv2.imshow() method  \n",
    "# importing cv2 \n",
    "import cv2 \n",
    "# path \n",
    "path = r'C:/Users/DEEP/Downloads/download.png'\n",
    "# Reading an image in default mode\n",
    "image = cv2.imread(path)\n",
    "# Window name in which image is displayed\n",
    "window_name = 'image'\n",
    "# Using cv2.imshow() method \n",
    "# Displaying the image \n",
    "cv2.imshow(window_name, image)\n",
    "#waits for user to press any key \n",
    "#(this is necessary to avoid Python kernel form crashing)\n",
    "cv2.waitKey(0)\n",
    "#closing all open windows \n",
    "cv2.destroyAllWindows() "
   ]
  },
  {
   "cell_type": "code",
   "execution_count": 3,
   "id": "17541bc7",
   "metadata": {},
   "outputs": [
    {
     "data": {
      "text/plain": [
       "'\\nOptical Character Recognition (OCR)\\nOCR = Optical Character Recognition. In other words, OCR systems transform a two-dimensional image of \\ntext, that could contain machine printed or handwritten text from its image representation into \\nmachine-readable text. OCR as a process generally consists of several sub-processes to perform as \\naccurately as possible. The subprocesses are:\\n-Preprocessing of the Image\\n-Text Localization\\n-Character Segmentation\\n-Character Recognition\\n-Post Processing\\n\\nPython-tesseract is an optical character recognition (OCR) tool for python. That is, it will recognize and “read” the text embedded in images.\\n\\nPython-tesseract is a wrapper for Google’s Tesseract-OCR Engine. It is also useful as a stand-alone \\ninvocation script to tesseract, as it can read all image types supported by the Pillow and Leptonica \\nimaging libraries, including jpeg, png, gif, bmp, tiff, and others. Additionally, if used as a script, \\nPython-tesseract will print the recognized text instead of writing it to a file.\\n'"
      ]
     },
     "execution_count": 3,
     "metadata": {},
     "output_type": "execute_result"
    }
   ],
   "source": [
    "'''\n",
    "Optical Character Recognition (OCR)\n",
    "OCR = Optical Character Recognition. In other words, OCR systems transform a two-dimensional image of \n",
    "text, that could contain machine printed or handwritten text from its image representation into \n",
    "machine-readable text. OCR as a process generally consists of several sub-processes to perform as \n",
    "accurately as possible. The subprocesses are:\n",
    "-Preprocessing of the Image\n",
    "-Text Localization\n",
    "-Character Segmentation\n",
    "-Character Recognition\n",
    "-Post Processing\n",
    "\n",
    "Python-tesseract is an optical character recognition (OCR) tool for python. That is, it will recognize and “read” the text embedded in images.\n",
    "\n",
    "Python-tesseract is a wrapper for Google’s Tesseract-OCR Engine. It is also useful as a stand-alone \n",
    "invocation script to tesseract, as it can read all image types supported by the Pillow and Leptonica \n",
    "imaging libraries, including jpeg, png, gif, bmp, tiff, and others. Additionally, if used as a script, \n",
    "Python-tesseract will print the recognized text instead of writing it to a file.\n",
    "'''"
   ]
  },
  {
   "cell_type": "code",
   "execution_count": 4,
   "id": "52e125aa",
   "metadata": {},
   "outputs": [
    {
     "name": "stdout",
     "output_type": "stream",
     "text": [
      "“LIFE IS A BLANK CANVAS\n",
      "AND WE ARE THE\n",
      "\n",
      ",\n",
      "\n",
      "NEEDING TO CREATE SOMETHING\n",
      "\n",
      "OF worth axo beauky\n",
      "\n",
      "THAT MARKS OUR JOURNEY.\n",
      "YOU HOLD YOUR BRUSH,\n",
      "CHOOSE YOUR PALETTE AND BEGIN\n",
      "TO FILLYOUR BLANK CANVAS,\n",
      "REALIZING THAT\n",
      "\n",
      "you are the artist\n",
      "\n",
      "OF YOUR OWN DESTINY.\n",
      "\n"
     ]
    }
   ],
   "source": [
    "#OCR part\n",
    "#IMAGE PROCESSING using PyTesseract(OCR) - only works for white background\n",
    "import pytesseract as pt\n",
    "op=pt.image_to_string(image)\n",
    "print(op)"
   ]
  },
  {
   "cell_type": "code",
   "execution_count": 5,
   "id": "1d90ace8",
   "metadata": {},
   "outputs": [
    {
     "data": {
      "text/html": [
       "<div>\n",
       "<style scoped>\n",
       "    .dataframe tbody tr th:only-of-type {\n",
       "        vertical-align: middle;\n",
       "    }\n",
       "\n",
       "    .dataframe tbody tr th {\n",
       "        vertical-align: top;\n",
       "    }\n",
       "\n",
       "    .dataframe thead th {\n",
       "        text-align: right;\n",
       "    }\n",
       "</style>\n",
       "<table border=\"1\" class=\"dataframe\">\n",
       "  <thead>\n",
       "    <tr style=\"text-align: right;\">\n",
       "      <th></th>\n",
       "      <th>Date</th>\n",
       "      <th>Market</th>\n",
       "      <th>Arrival(q)</th>\n",
       "      <th>Price Minimum (Rs/q)</th>\n",
       "      <th>Price Maximum (Rs/q)</th>\n",
       "      <th>Modal Price (Rs/q)</th>\n",
       "    </tr>\n",
       "  </thead>\n",
       "  <tbody>\n",
       "    <tr>\n",
       "      <th>0</th>\n",
       "      <td>02/Jan/2004</td>\n",
       "      <td>KURNOOL(AP)</td>\n",
       "      <td>142</td>\n",
       "      <td>550</td>\n",
       "      <td>835</td>\n",
       "      <td>650</td>\n",
       "    </tr>\n",
       "    <tr>\n",
       "      <th>1</th>\n",
       "      <td>05/Jan/2004</td>\n",
       "      <td>KURNOOL(AP)</td>\n",
       "      <td>160</td>\n",
       "      <td>695</td>\n",
       "      <td>835</td>\n",
       "      <td>745</td>\n",
       "    </tr>\n",
       "    <tr>\n",
       "      <th>2</th>\n",
       "      <td>06/Jan/2004</td>\n",
       "      <td>KURNOOL(AP)</td>\n",
       "      <td>308</td>\n",
       "      <td>650</td>\n",
       "      <td>865</td>\n",
       "      <td>760</td>\n",
       "    </tr>\n",
       "    <tr>\n",
       "      <th>3</th>\n",
       "      <td>19/Jan/2004</td>\n",
       "      <td>KURNOOL(AP)</td>\n",
       "      <td>190</td>\n",
       "      <td>680</td>\n",
       "      <td>980</td>\n",
       "      <td>830</td>\n",
       "    </tr>\n",
       "    <tr>\n",
       "      <th>4</th>\n",
       "      <td>24/Jan/2004</td>\n",
       "      <td>KURNOOL(AP)</td>\n",
       "      <td>112</td>\n",
       "      <td>600</td>\n",
       "      <td>820</td>\n",
       "      <td>730</td>\n",
       "    </tr>\n",
       "    <tr>\n",
       "      <th>...</th>\n",
       "      <td>...</td>\n",
       "      <td>...</td>\n",
       "      <td>...</td>\n",
       "      <td>...</td>\n",
       "      <td>...</td>\n",
       "      <td>...</td>\n",
       "    </tr>\n",
       "    <tr>\n",
       "      <th>3198</th>\n",
       "      <td>31/Jul/2021</td>\n",
       "      <td>KURNOOL(AP)</td>\n",
       "      <td>1686</td>\n",
       "      <td>610</td>\n",
       "      <td>1840</td>\n",
       "      <td>1450</td>\n",
       "    </tr>\n",
       "    <tr>\n",
       "      <th>3199</th>\n",
       "      <td>27/Aug/2021</td>\n",
       "      <td>KURNOOL(AP)</td>\n",
       "      <td>1489</td>\n",
       "      <td>500</td>\n",
       "      <td>1751</td>\n",
       "      <td>1150</td>\n",
       "    </tr>\n",
       "    <tr>\n",
       "      <th>3200</th>\n",
       "      <td>31/Aug/2021</td>\n",
       "      <td>KURNOOL(AP)</td>\n",
       "      <td>3795</td>\n",
       "      <td>507</td>\n",
       "      <td>1651</td>\n",
       "      <td>1050</td>\n",
       "    </tr>\n",
       "    <tr>\n",
       "      <th>3201</th>\n",
       "      <td>13/Sep/2021</td>\n",
       "      <td>KURNOOL(AP)</td>\n",
       "      <td>6854</td>\n",
       "      <td>445</td>\n",
       "      <td>1761</td>\n",
       "      <td>1100</td>\n",
       "    </tr>\n",
       "    <tr>\n",
       "      <th>3202</th>\n",
       "      <td>NaN</td>\n",
       "      <td>Total</td>\n",
       "      <td>6481606</td>\n",
       "      <td>670(Avg)</td>\n",
       "      <td>1351(Avg)</td>\n",
       "      <td>1057(Avg)</td>\n",
       "    </tr>\n",
       "  </tbody>\n",
       "</table>\n",
       "<p>3203 rows × 6 columns</p>\n",
       "</div>"
      ],
      "text/plain": [
       "             Date       Market  Arrival(q) Price Minimum (Rs/q)  \\\n",
       "0     02/Jan/2004  KURNOOL(AP)         142                  550   \n",
       "1     05/Jan/2004  KURNOOL(AP)         160                  695   \n",
       "2     06/Jan/2004  KURNOOL(AP)         308                  650   \n",
       "3     19/Jan/2004  KURNOOL(AP)         190                  680   \n",
       "4     24/Jan/2004  KURNOOL(AP)         112                  600   \n",
       "...           ...          ...         ...                  ...   \n",
       "3198  31/Jul/2021  KURNOOL(AP)        1686                  610   \n",
       "3199  27/Aug/2021  KURNOOL(AP)        1489                  500   \n",
       "3200  31/Aug/2021  KURNOOL(AP)        3795                  507   \n",
       "3201  13/Sep/2021  KURNOOL(AP)        6854                  445   \n",
       "3202          NaN        Total     6481606             670(Avg)   \n",
       "\n",
       "     Price Maximum (Rs/q) Modal Price (Rs/q)  \n",
       "0                     835                650  \n",
       "1                     835                745  \n",
       "2                     865                760  \n",
       "3                     980                830  \n",
       "4                     820                730  \n",
       "...                   ...                ...  \n",
       "3198                 1840               1450  \n",
       "3199                 1751               1150  \n",
       "3200                 1651               1050  \n",
       "3201                 1761               1100  \n",
       "3202            1351(Avg)          1057(Avg)  \n",
       "\n",
       "[3203 rows x 6 columns]"
      ]
     },
     "execution_count": 5,
     "metadata": {},
     "output_type": "execute_result"
    }
   ],
   "source": [
    "#Regression - Predicting something w.r.t a parameter/entity.(area vs prices,years vs salary)\n",
    "#Forecasting - Predicting something w.r.t time.\n",
    "#In our case , we will be forecasting the vegetable prices.\n",
    "#dataset - \n",
    "#1 quintal - 100kgs , 1 ton - 1000 kgs\n",
    "#LIbrary used - FBPROPHET - Forecasting Library\n",
    "#Take the data and create dataframe\n",
    "import pandas as pd\n",
    "df = pd.read_html('C:/Users/DEEP/Machine Learning/data set/DailyWiseMarketArrivals/DailyWiseMarketArrivals.html')[-1]\n",
    "df"
   ]
  },
  {
   "cell_type": "code",
   "execution_count": 6,
   "id": "883e0626",
   "metadata": {},
   "outputs": [
    {
     "data": {
      "text/plain": [
       "pandas.core.frame.DataFrame"
      ]
     },
     "execution_count": 6,
     "metadata": {},
     "output_type": "execute_result"
    }
   ],
   "source": [
    "type(df)"
   ]
  },
  {
   "cell_type": "code",
   "execution_count": 7,
   "id": "ee12d0d7",
   "metadata": {},
   "outputs": [
    {
     "name": "stdout",
     "output_type": "stream",
     "text": [
      "<class 'pandas.core.frame.DataFrame'>\n",
      "RangeIndex: 3203 entries, 0 to 3202\n",
      "Data columns (total 6 columns):\n",
      " #   Column                Non-Null Count  Dtype \n",
      "---  ------                --------------  ----- \n",
      " 0   Date                  3202 non-null   object\n",
      " 1   Market                3203 non-null   object\n",
      " 2   Arrival(q)            3203 non-null   int64 \n",
      " 3   Price Minimum (Rs/q)  3203 non-null   object\n",
      " 4   Price Maximum (Rs/q)  3203 non-null   object\n",
      " 5   Modal Price (Rs/q)    3203 non-null   object\n",
      "dtypes: int64(1), object(5)\n",
      "memory usage: 150.3+ KB\n"
     ]
    }
   ],
   "source": [
    "df.info()"
   ]
  },
  {
   "cell_type": "code",
   "execution_count": 8,
   "id": "33490e65",
   "metadata": {},
   "outputs": [
    {
     "data": {
      "text/plain": [
       "(3203, 6)"
      ]
     },
     "execution_count": 8,
     "metadata": {},
     "output_type": "execute_result"
    }
   ],
   "source": [
    "df.shape"
   ]
  },
  {
   "cell_type": "code",
   "execution_count": 9,
   "id": "79b06529",
   "metadata": {},
   "outputs": [
    {
     "data": {
      "text/plain": [
       "19218"
      ]
     },
     "execution_count": 9,
     "metadata": {},
     "output_type": "execute_result"
    }
   ],
   "source": [
    "df.size"
   ]
  },
  {
   "cell_type": "code",
   "execution_count": 10,
   "id": "84324000",
   "metadata": {},
   "outputs": [
    {
     "data": {
      "text/plain": [
       "Date                    1\n",
       "Market                  0\n",
       "Arrival(q)              0\n",
       "Price Minimum (Rs/q)    0\n",
       "Price Maximum (Rs/q)    0\n",
       "Modal Price (Rs/q)      0\n",
       "dtype: int64"
      ]
     },
     "execution_count": 10,
     "metadata": {},
     "output_type": "execute_result"
    }
   ],
   "source": [
    "#to check the null values\n",
    "df.isnull().sum()"
   ]
  },
  {
   "cell_type": "code",
   "execution_count": 11,
   "id": "60dff44a",
   "metadata": {},
   "outputs": [
    {
     "name": "stdout",
     "output_type": "stream",
     "text": [
      "<class 'pandas.core.frame.DataFrame'>\n",
      "Int64Index: 3202 entries, 0 to 3201\n",
      "Data columns (total 6 columns):\n",
      " #   Column                Non-Null Count  Dtype \n",
      "---  ------                --------------  ----- \n",
      " 0   Date                  3202 non-null   object\n",
      " 1   Market                3202 non-null   object\n",
      " 2   Arrival(q)            3202 non-null   int64 \n",
      " 3   Price Minimum (Rs/q)  3202 non-null   object\n",
      " 4   Price Maximum (Rs/q)  3202 non-null   object\n",
      " 5   Modal Price (Rs/q)    3202 non-null   object\n",
      "dtypes: int64(1), object(5)\n",
      "memory usage: 175.1+ KB\n"
     ]
    }
   ],
   "source": [
    "#drop the null values data only\n",
    "df=df.dropna()\n",
    "df.info()"
   ]
  },
  {
   "cell_type": "code",
   "execution_count": 12,
   "id": "47de453a",
   "metadata": {},
   "outputs": [
    {
     "data": {
      "text/html": [
       "<div>\n",
       "<style scoped>\n",
       "    .dataframe tbody tr th:only-of-type {\n",
       "        vertical-align: middle;\n",
       "    }\n",
       "\n",
       "    .dataframe tbody tr th {\n",
       "        vertical-align: top;\n",
       "    }\n",
       "\n",
       "    .dataframe thead th {\n",
       "        text-align: right;\n",
       "    }\n",
       "</style>\n",
       "<table border=\"1\" class=\"dataframe\">\n",
       "  <thead>\n",
       "    <tr style=\"text-align: right;\">\n",
       "      <th></th>\n",
       "      <th>ds</th>\n",
       "      <th>Market</th>\n",
       "      <th>Arrival(q)</th>\n",
       "      <th>Price Minimum (Rs/q)</th>\n",
       "      <th>Price Maximum (Rs/q)</th>\n",
       "      <th>y</th>\n",
       "    </tr>\n",
       "  </thead>\n",
       "  <tbody>\n",
       "    <tr>\n",
       "      <th>0</th>\n",
       "      <td>02/Jan/2004</td>\n",
       "      <td>KURNOOL(AP)</td>\n",
       "      <td>142</td>\n",
       "      <td>550</td>\n",
       "      <td>835</td>\n",
       "      <td>650</td>\n",
       "    </tr>\n",
       "    <tr>\n",
       "      <th>1</th>\n",
       "      <td>05/Jan/2004</td>\n",
       "      <td>KURNOOL(AP)</td>\n",
       "      <td>160</td>\n",
       "      <td>695</td>\n",
       "      <td>835</td>\n",
       "      <td>745</td>\n",
       "    </tr>\n",
       "    <tr>\n",
       "      <th>2</th>\n",
       "      <td>06/Jan/2004</td>\n",
       "      <td>KURNOOL(AP)</td>\n",
       "      <td>308</td>\n",
       "      <td>650</td>\n",
       "      <td>865</td>\n",
       "      <td>760</td>\n",
       "    </tr>\n",
       "    <tr>\n",
       "      <th>3</th>\n",
       "      <td>19/Jan/2004</td>\n",
       "      <td>KURNOOL(AP)</td>\n",
       "      <td>190</td>\n",
       "      <td>680</td>\n",
       "      <td>980</td>\n",
       "      <td>830</td>\n",
       "    </tr>\n",
       "    <tr>\n",
       "      <th>4</th>\n",
       "      <td>24/Jan/2004</td>\n",
       "      <td>KURNOOL(AP)</td>\n",
       "      <td>112</td>\n",
       "      <td>600</td>\n",
       "      <td>820</td>\n",
       "      <td>730</td>\n",
       "    </tr>\n",
       "    <tr>\n",
       "      <th>...</th>\n",
       "      <td>...</td>\n",
       "      <td>...</td>\n",
       "      <td>...</td>\n",
       "      <td>...</td>\n",
       "      <td>...</td>\n",
       "      <td>...</td>\n",
       "    </tr>\n",
       "    <tr>\n",
       "      <th>3197</th>\n",
       "      <td>29/Jul/2021</td>\n",
       "      <td>KURNOOL(AP)</td>\n",
       "      <td>1784</td>\n",
       "      <td>650</td>\n",
       "      <td>1860</td>\n",
       "      <td>1290</td>\n",
       "    </tr>\n",
       "    <tr>\n",
       "      <th>3198</th>\n",
       "      <td>31/Jul/2021</td>\n",
       "      <td>KURNOOL(AP)</td>\n",
       "      <td>1686</td>\n",
       "      <td>610</td>\n",
       "      <td>1840</td>\n",
       "      <td>1450</td>\n",
       "    </tr>\n",
       "    <tr>\n",
       "      <th>3199</th>\n",
       "      <td>27/Aug/2021</td>\n",
       "      <td>KURNOOL(AP)</td>\n",
       "      <td>1489</td>\n",
       "      <td>500</td>\n",
       "      <td>1751</td>\n",
       "      <td>1150</td>\n",
       "    </tr>\n",
       "    <tr>\n",
       "      <th>3200</th>\n",
       "      <td>31/Aug/2021</td>\n",
       "      <td>KURNOOL(AP)</td>\n",
       "      <td>3795</td>\n",
       "      <td>507</td>\n",
       "      <td>1651</td>\n",
       "      <td>1050</td>\n",
       "    </tr>\n",
       "    <tr>\n",
       "      <th>3201</th>\n",
       "      <td>13/Sep/2021</td>\n",
       "      <td>KURNOOL(AP)</td>\n",
       "      <td>6854</td>\n",
       "      <td>445</td>\n",
       "      <td>1761</td>\n",
       "      <td>1100</td>\n",
       "    </tr>\n",
       "  </tbody>\n",
       "</table>\n",
       "<p>3202 rows × 6 columns</p>\n",
       "</div>"
      ],
      "text/plain": [
       "               ds       Market  Arrival(q) Price Minimum (Rs/q)  \\\n",
       "0     02/Jan/2004  KURNOOL(AP)         142                  550   \n",
       "1     05/Jan/2004  KURNOOL(AP)         160                  695   \n",
       "2     06/Jan/2004  KURNOOL(AP)         308                  650   \n",
       "3     19/Jan/2004  KURNOOL(AP)         190                  680   \n",
       "4     24/Jan/2004  KURNOOL(AP)         112                  600   \n",
       "...           ...          ...         ...                  ...   \n",
       "3197  29/Jul/2021  KURNOOL(AP)        1784                  650   \n",
       "3198  31/Jul/2021  KURNOOL(AP)        1686                  610   \n",
       "3199  27/Aug/2021  KURNOOL(AP)        1489                  500   \n",
       "3200  31/Aug/2021  KURNOOL(AP)        3795                  507   \n",
       "3201  13/Sep/2021  KURNOOL(AP)        6854                  445   \n",
       "\n",
       "     Price Maximum (Rs/q)     y  \n",
       "0                     835   650  \n",
       "1                     835   745  \n",
       "2                     865   760  \n",
       "3                     980   830  \n",
       "4                     820   730  \n",
       "...                   ...   ...  \n",
       "3197                 1860  1290  \n",
       "3198                 1840  1450  \n",
       "3199                 1751  1150  \n",
       "3200                 1651  1050  \n",
       "3201                 1761  1100  \n",
       "\n",
       "[3202 rows x 6 columns]"
      ]
     },
     "execution_count": 12,
     "metadata": {},
     "output_type": "execute_result"
    }
   ],
   "source": [
    "'''\n",
    "The Prophet library is an open-source library designed for making forecasts for univariate time series \n",
    "datasets. It is easy to use and designed to automatically find a good set of hyperparameters for the \n",
    "model in an effort to make skillful forecasts for data with trends and seasonal structure by default.\n",
    "'''\n",
    "#Before applying FB PROPHET ALGORITHM , we have to follow some set of rules and protocols\n",
    "#We can only have 2 columns into consideration - ds and y\n",
    "#So we select the date(ds) column and modal price(y) column\n",
    "#Hence we have to rename the date column as ds and modal price column as y\n",
    "df=df.rename(columns={'Modal Price (Rs/q)':'y','Date':'ds'})\n",
    "df"
   ]
  },
  {
   "cell_type": "code",
   "execution_count": 13,
   "id": "3410182d",
   "metadata": {},
   "outputs": [
    {
     "data": {
      "text/html": [
       "<div>\n",
       "<style scoped>\n",
       "    .dataframe tbody tr th:only-of-type {\n",
       "        vertical-align: middle;\n",
       "    }\n",
       "\n",
       "    .dataframe tbody tr th {\n",
       "        vertical-align: top;\n",
       "    }\n",
       "\n",
       "    .dataframe thead th {\n",
       "        text-align: right;\n",
       "    }\n",
       "</style>\n",
       "<table border=\"1\" class=\"dataframe\">\n",
       "  <thead>\n",
       "    <tr style=\"text-align: right;\">\n",
       "      <th></th>\n",
       "      <th>ds</th>\n",
       "      <th>y</th>\n",
       "    </tr>\n",
       "  </thead>\n",
       "  <tbody>\n",
       "    <tr>\n",
       "      <th>0</th>\n",
       "      <td>02/Jan/2004</td>\n",
       "      <td>650</td>\n",
       "    </tr>\n",
       "    <tr>\n",
       "      <th>1</th>\n",
       "      <td>05/Jan/2004</td>\n",
       "      <td>745</td>\n",
       "    </tr>\n",
       "    <tr>\n",
       "      <th>2</th>\n",
       "      <td>06/Jan/2004</td>\n",
       "      <td>760</td>\n",
       "    </tr>\n",
       "    <tr>\n",
       "      <th>3</th>\n",
       "      <td>19/Jan/2004</td>\n",
       "      <td>830</td>\n",
       "    </tr>\n",
       "    <tr>\n",
       "      <th>4</th>\n",
       "      <td>24/Jan/2004</td>\n",
       "      <td>730</td>\n",
       "    </tr>\n",
       "    <tr>\n",
       "      <th>...</th>\n",
       "      <td>...</td>\n",
       "      <td>...</td>\n",
       "    </tr>\n",
       "    <tr>\n",
       "      <th>3197</th>\n",
       "      <td>29/Jul/2021</td>\n",
       "      <td>1290</td>\n",
       "    </tr>\n",
       "    <tr>\n",
       "      <th>3198</th>\n",
       "      <td>31/Jul/2021</td>\n",
       "      <td>1450</td>\n",
       "    </tr>\n",
       "    <tr>\n",
       "      <th>3199</th>\n",
       "      <td>27/Aug/2021</td>\n",
       "      <td>1150</td>\n",
       "    </tr>\n",
       "    <tr>\n",
       "      <th>3200</th>\n",
       "      <td>31/Aug/2021</td>\n",
       "      <td>1050</td>\n",
       "    </tr>\n",
       "    <tr>\n",
       "      <th>3201</th>\n",
       "      <td>13/Sep/2021</td>\n",
       "      <td>1100</td>\n",
       "    </tr>\n",
       "  </tbody>\n",
       "</table>\n",
       "<p>3202 rows × 2 columns</p>\n",
       "</div>"
      ],
      "text/plain": [
       "               ds     y\n",
       "0     02/Jan/2004   650\n",
       "1     05/Jan/2004   745\n",
       "2     06/Jan/2004   760\n",
       "3     19/Jan/2004   830\n",
       "4     24/Jan/2004   730\n",
       "...           ...   ...\n",
       "3197  29/Jul/2021  1290\n",
       "3198  31/Jul/2021  1450\n",
       "3199  27/Aug/2021  1150\n",
       "3200  31/Aug/2021  1050\n",
       "3201  13/Sep/2021  1100\n",
       "\n",
       "[3202 rows x 2 columns]"
      ]
     },
     "execution_count": 13,
     "metadata": {},
     "output_type": "execute_result"
    }
   ],
   "source": [
    "#Let us create a new dataframe with only ds and y columns\n",
    "df_new=df[['ds','y']]\n",
    "df_new"
   ]
  },
  {
   "cell_type": "code",
   "execution_count": 14,
   "id": "babfde1e",
   "metadata": {},
   "outputs": [
    {
     "name": "stdout",
     "output_type": "stream",
     "text": [
      "<class 'pandas.core.frame.DataFrame'>\n",
      "Int64Index: 3202 entries, 0 to 3201\n",
      "Data columns (total 2 columns):\n",
      " #   Column  Non-Null Count  Dtype \n",
      "---  ------  --------------  ----- \n",
      " 0   ds      3202 non-null   object\n",
      " 1   y       3202 non-null   object\n",
      "dtypes: object(2)\n",
      "memory usage: 75.0+ KB\n"
     ]
    }
   ],
   "source": [
    "df_new.info()"
   ]
  },
  {
   "cell_type": "code",
   "execution_count": 15,
   "id": "552da6a6",
   "metadata": {},
   "outputs": [
    {
     "name": "stderr",
     "output_type": "stream",
     "text": [
      "C:\\Users\\DEEP\\AppData\\Local\\Temp\\ipykernel_21628\\2961830199.py:4: SettingWithCopyWarning: \n",
      "A value is trying to be set on a copy of a slice from a DataFrame.\n",
      "Try using .loc[row_indexer,col_indexer] = value instead\n",
      "\n",
      "See the caveats in the documentation: https://pandas.pydata.org/pandas-docs/stable/user_guide/indexing.html#returning-a-view-versus-a-copy\n",
      "  df_new['ds'] = pd.to_datetime(df_new['ds'])\n",
      "C:\\Users\\DEEP\\AppData\\Local\\Temp\\ipykernel_21628\\2961830199.py:5: SettingWithCopyWarning: \n",
      "A value is trying to be set on a copy of a slice from a DataFrame.\n",
      "Try using .loc[row_indexer,col_indexer] = value instead\n",
      "\n",
      "See the caveats in the documentation: https://pandas.pydata.org/pandas-docs/stable/user_guide/indexing.html#returning-a-view-versus-a-copy\n",
      "  df_new['y'] = df_new['y'].astype(int)\n"
     ]
    }
   ],
   "source": [
    "#The ds and y column's datatype is not in proper format\n",
    "#Hence we change the datatype of ds column from object to datetime format\n",
    "#and we change the datatype of y column into integer format\n",
    "df_new['ds'] = pd.to_datetime(df_new['ds'])\n",
    "df_new['y'] = df_new['y'].astype(int)"
   ]
  },
  {
   "cell_type": "code",
   "execution_count": 16,
   "id": "35d6ee07",
   "metadata": {},
   "outputs": [
    {
     "name": "stdout",
     "output_type": "stream",
     "text": [
      "<class 'pandas.core.frame.DataFrame'>\n",
      "Int64Index: 3202 entries, 0 to 3201\n",
      "Data columns (total 2 columns):\n",
      " #   Column  Non-Null Count  Dtype         \n",
      "---  ------  --------------  -----         \n",
      " 0   ds      3202 non-null   datetime64[ns]\n",
      " 1   y       3202 non-null   int32         \n",
      "dtypes: datetime64[ns](1), int32(1)\n",
      "memory usage: 62.5 KB\n"
     ]
    }
   ],
   "source": [
    "df_new.info()"
   ]
  },
  {
   "cell_type": "code",
   "execution_count": 17,
   "id": "0cd96f09",
   "metadata": {},
   "outputs": [
    {
     "data": {
      "text/plain": [
       "<matplotlib.collections.PathCollection at 0x1e6ebb86070>"
      ]
     },
     "execution_count": 17,
     "metadata": {},
     "output_type": "execute_result"
    },
    {
     "data": {
      "image/png": "[encoded data removed]",
      "text/plain": [
       "<Figure size 1800x360 with 1 Axes>"
      ]
     },
     "metadata": {
      "needs_background": "light"
     },
     "output_type": "display_data"
    }
   ],
   "source": [
    "#Visualizing\n",
    "import matplotlib.pyplot as plt\n",
    "plt.figure(figsize=(25,5))\n",
    "plt.scatter(df_new['ds'],df_new['y'])"
   ]
  },
  {
   "cell_type": "code",
   "execution_count": 37,
   "id": "5a9cb265",
   "metadata": {},
   "outputs": [
    {
     "ename": "ModuleNotFoundError",
     "evalue": "No module named 'fbprophet'",
     "output_type": "error",
     "traceback": [
      "\u001b[1;31m---------------------------------------------------------------------------\u001b[0m",
      "\u001b[1;31mModuleNotFoundError\u001b[0m                       Traceback (most recent call last)",
      "Input \u001b[1;32mIn [37]\u001b[0m, in \u001b[0;36m<cell line: 2>\u001b[1;34m()\u001b[0m\n\u001b[0;32m      1\u001b[0m \u001b[38;5;66;03m#PROPHET PART(ALGORITHM)\u001b[39;00m\n\u001b[1;32m----> 2\u001b[0m \u001b[38;5;28;01mfrom\u001b[39;00m \u001b[38;5;21;01mfbprophet\u001b[39;00m \u001b[38;5;28;01mimport\u001b[39;00m Prophet\n\u001b[0;32m      3\u001b[0m op\u001b[38;5;241m=\u001b[39mprophet\u001b[38;5;241m.\u001b[39mProphet()\n\u001b[0;32m      4\u001b[0m op\u001b[38;5;241m.\u001b[39mfit(df_new)\n",
      "\u001b[1;31mModuleNotFoundError\u001b[0m: No module named 'fbprophet'"
     ]
    }
   ],
   "source": [
    "#PROPHET PART(ALGORITHM)\n",
    "from fbprophet import Prophet\n",
    "op=prophet.Prophet()\n",
    "op.fit(df_new)"
   ]
  },
  {
   "cell_type": "code",
   "execution_count": null,
   "id": "2d1567b0",
   "metadata": {},
   "outputs": [],
   "source": [
    "forecast=op.make_future_dataframe(periods=36,freq='M')\n",
    "forecast=op.predict(forecast)"
   ]
  },
  {
   "cell_type": "code",
   "execution_count": null,
   "id": "73cf34d0",
   "metadata": {},
   "outputs": [],
   "source": [
    "op.plot(forecast,xlabel = 'Date',ylabel = 'Potato Prices/q')\n",
    "\n",
    "#black dots - are the actual prices of potatoes from dataframe\n",
    "#Light blue shade - the minimum and maximum value as pridicted by our model\n",
    "#Dark blue line - best fit line"
   ]
  }
 ],
 "metadata": {
  "kernelspec": {
   "display_name": "Python 3 (ipykernel)",
   "language": "python",
   "name": "python3"
  },
  "language_info": {
   "codemirror_mode": {
    "name": "ipython",
    "version": 3
   },
   "file_extension": ".py",
   "mimetype": "text/x-python",
   "name": "python",
   "nbconvert_exporter": "python",
   "pygments_lexer": "ipython3",
   "version": "3.9.13"
  }
 },
 "nbformat": 4,
 "nbformat_minor": 5
}
