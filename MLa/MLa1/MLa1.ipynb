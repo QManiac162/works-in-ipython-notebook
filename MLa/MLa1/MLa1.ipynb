{
 "cells": [
  {
   "cell_type": "markdown",
   "id": "85cf3c2d",
   "metadata": {},
   "source": [
    "NATURAL LANGUAGE PROCESSING: its a subfield of AI in which its depth involves the interactions between computers and humans. Humans communicate in words or in sentences and not in tables or spreadsheets as the computers do. Information human speak or write is unstructered and difficult for computer to interpret. In NLP, the goal is to make computers understand the unstructred text and retrieve meaningful pieces of information of information from it."
   ]
  },
  {
   "cell_type": "code",
   "execution_count": 1,
   "id": "d6c71afd",
   "metadata": {
    "code_folding": [
     0
    ]
   },
   "outputs": [
    {
     "data": {
      "text/plain": [
       "'\\nhumans perform NLP well but even we are not perfect as we often hear sentences with double m,eaning which \\nalways doesnt make sense in the current situation unless and untill we actually dwelve into the situation\\nor intake it in a different way.\\n\\nex1. I saw a man on a hill with a telescope.\\ninterpretations possible:\\nThere is a man on the hill, and I watched him with my telescope.\\nThere is a man on the hill, and he has a telescope.\\nI’m on a hill, and I saw a man using my telescope.\\nI’m on a hill, and I saw a man who has a telescope.\\nThere is a man on a hill, and I saw him something with my telescope.\\n\\nex2. Can you help me with the can?\\nIn the sentence above, we can see that there are two “can” words, but both of them have different meanings. \\nHere the first “can” word is used for question formation. The second “can” word at the end of the sentence \\nis used to represent a container that holds food or liquid.\\n\\n'"
      ]
     },
     "execution_count": 1,
     "metadata": {},
     "output_type": "execute_result"
    }
   ],
   "source": [
    "#understandfing NLP:\n",
    "#Understanding is the intersection of the process of information revealed by someone and\n",
    "#listening by someone else\n",
    "'''\n",
    "humans perform NLP well but even we are not perfect as we often hear sentences with double m,eaning which \n",
    "always doesnt make sense in the current situation unless and untill we actually dwelve into the situation\n",
    "or intake it in a different way.\n",
    "\n",
    "ex1. I saw a man on a hill with a telescope.\n",
    "interpretations possible:\n",
    "There is a man on the hill, and I watched him with my telescope.\n",
    "There is a man on the hill, and he has a telescope.\n",
    "I’m on a hill, and I saw a man using my telescope.\n",
    "I’m on a hill, and I saw a man who has a telescope.\n",
    "There is a man on a hill, and I saw him something with my telescope.\n",
    "\n",
    "ex2. Can you help me with the can?\n",
    "In the sentence above, we can see that there are two “can” words, but both of them have different meanings. \n",
    "Here the first “can” word is used for question formation. The second “can” word at the end of the sentence \n",
    "is used to represent a container that holds food or liquid.\n",
    "\n",
    "'''\n",
    "#from examples we see that that language processing is not \"deterministic\" (i.e. the same language has \n",
    "#different interpretations) and something suitable to one person might not be suitable to another.\n",
    "#NLP has a non-deterministic approach, i.e. it can be used to create a new intelligent system that can \n",
    "#understand and interpret language in different situations."
   ]
  },
  {
   "cell_type": "code",
   "execution_count": 2,
   "id": "bf65a3fa",
   "metadata": {},
   "outputs": [
    {
     "data": {
      "text/plain": [
       "'\\nNatural Language Processing is separated in two different approaches:\\n\\nRule-based Natural Language Processing:\\nIt uses common sense reasoning for processing tasks. For instance, the freezing temperature can lead to \\ndeath, or hot coffee can burn people’s skin, along with other common sense reasoning tasks. However, this \\nprocess can take much time, and it requires manual effort.\\n\\nStatistical Natural Language Processing:\\nIt uses large amounts of data and tries to derive conclusions from it. Statistical NLP uses machine \\nlearning algorithms to train NLP models. After successful training on large amounts of data, the trained \\nmodel will have positive outcomes with deduction.\\n'"
      ]
     },
     "execution_count": 2,
     "metadata": {},
     "output_type": "execute_result"
    }
   ],
   "source": [
    "'''\n",
    "Natural Language Processing is separated in two different approaches:\n",
    "\n",
    "Rule-based Natural Language Processing:\n",
    "It uses common sense reasoning for processing tasks. For instance, the freezing temperature can lead to \n",
    "death, or hot coffee can burn people’s skin, along with other common sense reasoning tasks. However, this \n",
    "process can take much time, and it requires manual effort.\n",
    "\n",
    "Statistical Natural Language Processing:\n",
    "It uses large amounts of data and tries to derive conclusions from it. Statistical NLP uses machine \n",
    "learning algorithms to train NLP models. After successful training on large amounts of data, the trained \n",
    "model will have positive outcomes with deduction.\n",
    "'''"
   ]
  },
  {
   "cell_type": "code",
   "execution_count": 3,
   "id": "9f27bf18",
   "metadata": {},
   "outputs": [
    {
     "data": {
      "text/plain": [
       "'\\nComponents of Natural Language Processing (NLP):\\n\\na. Lexical Analysis:\\nWith lexical analysis, we divide a whole chunk of text into paragraphs, sentences, and words. It involves \\nidentifying and analyzing words’ structure.\\n\\nb. Syntactic Analysis:\\nSyntactic analysis involves the analysis of words in a sentence for grammar and arranging words in a \\nmanner that shows the relationship among the words. For instance, the sentence “The shop goes to the house”\\ndoes not pass.\\n\\nc. Semantic Analysis:\\nSemantic analysis draws the exact meaning for the words, and it analyzes the text meaningfulness. \\nSentences such as “hot ice-cream” do not pass.\\n\\nd. Disclosure Integration:\\nDisclosure integration takes into account the context of the text. It considers the meaning of the sentence\\nbefore it ends. For example: “He works at Google.” In this sentence, “he” must be referenced in the \\nsentence before it.\\n\\ne. Pragmatic Analysis:\\nPragmatic analysis deals with overall communication and interpretation of language. It deals with deriving \\nmeaningful use of language in various situations.\\n'"
      ]
     },
     "execution_count": 3,
     "metadata": {},
     "output_type": "execute_result"
    }
   ],
   "source": [
    "'''\n",
    "Components of Natural Language Processing (NLP):\n",
    "\n",
    "a. Lexical Analysis:\n",
    "With lexical analysis, we divide a whole chunk of text into paragraphs, sentences, and words. It involves \n",
    "identifying and analyzing words’ structure.\n",
    "\n",
    "b. Syntactic Analysis:\n",
    "Syntactic analysis involves the analysis of words in a sentence for grammar and arranging words in a \n",
    "manner that shows the relationship among the words. For instance, the sentence “The shop goes to the house”\n",
    "does not pass.\n",
    "\n",
    "c. Semantic Analysis:\n",
    "Semantic analysis draws the exact meaning for the words, and it analyzes the text meaningfulness. \n",
    "Sentences such as “hot ice-cream” do not pass.\n",
    "\n",
    "d. Disclosure Integration:\n",
    "Disclosure integration takes into account the context of the text. It considers the meaning of the sentence\n",
    "before it ends. For example: “He works at Google.” In this sentence, “he” must be referenced in the \n",
    "sentence before it.\n",
    "\n",
    "e. Pragmatic Analysis:\n",
    "Pragmatic analysis deals with overall communication and interpretation of language. It deals with deriving \n",
    "meaningful use of language in various situations.\n",
    "'''"
   ]
  },
  {
   "cell_type": "markdown",
   "id": "ada8ab64",
   "metadata": {},
   "source": [
    "# NLP libraries\n",
    "<font color=red>a. The NLTK Python framework is generally used as an education and research tool. It’s not usually used on  production applications. However, it can be used to build exciting programs due to its ease of use.</font><br>\n",
    "Features:\n",
    " - Tokenization.\n",
    " - Part Of Speech tagging (POS).\n",
    " - Named Entity Recognition (NER).\n",
    " - Classification.\n",
    " - Sentiment analysis.\n",
    " - Packages of chatbots.<br>\n",
    "\n",
    "Use-cases:\n",
    " - Recommendation systems.\n",
    " - Sentiment analysis.\n",
    " - Building chatbots.<br>\n",
    "\n",
    "<font color=red>b. spaCy:\n",
    "spaCy is an open-source natural language processing Python library designed to be fast and production-ready.spaCy focuses on providing software for production usage.</font><br>\n",
    "Features:\n",
    " - Tokenization.\n",
    " - Part Of Speech tagging (POS).\n",
    " - Named Entity Recognition (NER).\n",
    " - Classification.\n",
    " - Sentiment analysis.\n",
    " - Dependency parsing.\n",
    " - Word vectors.<br>\n",
    "\n",
    "Use-cases:\n",
    "<br>\n",
    " - Autocomplete and autocorrect.\n",
    " - Analyzing reviews.\n",
    " - Summarization.<br>\n",
    " \n",
    "<font color=red>c. Gensim:\n",
    "Gensim is an NLP Python framework generally used in topic modeling and similarity detection. It is not a general-purpose NLP library, but it handles tasks assigned to it very well.</font><br>\n",
    "\n",
    "Features:\n",
    " - Latent semantic analysis.\n",
    " - Non-negative matrix factorization.\n",
    " - TF-IDF.<br>\n",
    "\n",
    "Use-cases:\n",
    " - Converting documents to vectors.\n",
    " - Finding text similarity.\n",
    " - Text summarization.<br>\n",
    "\n",
    "<font color=red>d. Pattern:\n",
    "Pattern is an NLP Python framework with straightforward syntax. It’s a powerful tool for scientific and \n",
    "non-scientific tasks. It is highly valuable to students.</font><br>\n",
    "\n",
    "Features:\n",
    " - Tokenization.\n",
    " - Part of Speech tagging.\n",
    " - Named entity recognition.\n",
    " - Parsing.\n",
    " - Sentiment analysis.<br>\n",
    "\n",
    "Use-cases:\n",
    " - Spelling correction.\n",
    " - Search engine optimization.\n",
    " - Sentiment analysis.<br>\n",
    "\n",
    "<font color=red>e. TextBlob:\n",
    "TextBlob is a Python library designed for processing textual data.</font><br>\n",
    "\n",
    "Features:\n",
    " - Part-of-Speech tagging.\n",
    " - Noun phrase extraction.\n",
    " - Sentiment analysis.\n",
    " - Classification.\n",
    " - Language translation.\n",
    " - Parsing.\n",
    " - Wordnet integration.<br>\n",
    "\n",
    "Use-cases:\n",
    " - Sentiment Analysis.\n",
    " - Spelling Correction.\n",
    " - Translation and Language Detection.<br>\n",
    " "
   ]
  },
  {
   "cell_type": "code",
   "execution_count": 4,
   "id": "2019b2ae",
   "metadata": {
    "code_folding": []
   },
   "outputs": [
    {
     "name": "stdout",
     "output_type": "stream",
     "text": [
      "Overwriting basic.txt\n"
     ]
    }
   ],
   "source": [
    "%%writefile basic.txt\n",
    "Once upon a time there was an old mother pig who had three little pigs and not enough food to feed them. So when they were old enough, she sent them out into the world to seek their fortunes.\n",
    "\n",
    "The first little pig was very lazy. He didn't want to work at all and he built his house out of straw. The second little pig worked a little bit harder but he was somewhat lazy too and he built his house out of sticks. Then, they sang and danced and play ed together the rest of the day.\n",
    "\n",
    "The third little pig worked hard all day and built his house with bricks. It was a sturdy house complete with a fine fireplace and chimney. It looked like it could withstand the strongest winds.\n"
   ]
  },
  {
   "cell_type": "code",
   "execution_count": 5,
   "id": "7e69edf1",
   "metadata": {
    "code_folding": []
   },
   "outputs": [
    {
     "name": "stdout",
     "output_type": "stream",
     "text": [
      "<class 'str'> \n",
      " Once upon a time there was an old mother pig who had three little pigs and not enough food to feed them. So when they were old enough, she sent them out into the world to seek their fortunes.\n",
      "\n",
      "The first little pig was very lazy. He didn't want to work at all and he built his house out of straw. The second little pig worked a little bit harder but he was somewhat lazy too and he built his house out of sticks. Then, they sang and danced and played together the rest of the day.\n",
      "\n",
      "The third little pig worked hard all day and built his house with bricks. It was a sturdy house complete with a fine fireplace and chimney. It looked like it could withstand the strongest winds.\n",
      " \n",
      " 676\n"
     ]
    }
   ],
   "source": [
    "#importing the sentences\n",
    "import pandas as pd\n",
    "text_file=open(\"story.txt\")\n",
    "text=text_file.read()\n",
    "print(type(text),\"\\n\",text,\"\\n\",len(text))"
   ]
  },
  {
   "cell_type": "code",
   "execution_count": 6,
   "id": "6ffd5370",
   "metadata": {
    "code_folding": []
   },
   "outputs": [
    {
     "name": "stdout",
     "output_type": "stream",
     "text": [
      "9 \n",
      " ['Once upon a time there was an old mother pig who had three little pigs and not enough food to feed them.', 'So when they were old enough, she sent them out into the world to seek their fortunes.', 'The first little pig was very lazy.', \"He didn't want to work at all and he built his house out of straw.\", 'The second little pig worked a little bit harder but he was somewhat lazy too and he built his house out of sticks.', 'Then, they sang and danced and played together the rest of the day.', 'The third little pig worked hard all day and built his house with bricks.', 'It was a sturdy house complete with a fine fireplace and chimney.', 'It looked like it could withstand the strongest winds.']\n"
     ]
    },
    {
     "name": "stderr",
     "output_type": "stream",
     "text": [
      "[nltk_data] Downloading package punkt to\n",
      "[nltk_data]     C:\\Users\\DEEP\\AppData\\Roaming\\nltk_data...\n",
      "[nltk_data]   Package punkt is already up-to-date!\n"
     ]
    }
   ],
   "source": [
    "#importing the lib\n",
    "import nltk\n",
    "nltk.download('punkt')\n",
    "from nltk import sent_tokenize\n",
    "from nltk import word_tokenize\n",
    "\n",
    "#sentence tokenizing: by tokenizing text with sent_tokenize(), we can get text as sentences\n",
    "sentences=sent_tokenize(text)\n",
    "print(len(sentences),\"\\n\",sentences)"
   ]
  },
  {
   "cell_type": "code",
   "execution_count": 7,
   "id": "12f01f6a",
   "metadata": {
    "code_folding": []
   },
   "outputs": [
    {
     "name": "stdout",
     "output_type": "stream",
     "text": [
      "144 \n",
      " ['Once', 'upon', 'a', 'time', 'there', 'was', 'an', 'old', 'mother', 'pig', 'who', 'had', 'three', 'little', 'pigs', 'and', 'not', 'enough', 'food', 'to', 'feed', 'them', '.', 'So', 'when', 'they', 'were', 'old', 'enough', ',', 'she', 'sent', 'them', 'out', 'into', 'the', 'world', 'to', 'seek', 'their', 'fortunes', '.', 'The', 'first', 'little', 'pig', 'was', 'very', 'lazy', '.', 'He', 'did', \"n't\", 'want', 'to', 'work', 'at', 'all', 'and', 'he', 'built', 'his', 'house', 'out', 'of', 'straw', '.', 'The', 'second', 'little', 'pig', 'worked', 'a', 'little', 'bit', 'harder', 'but', 'he', 'was', 'somewhat', 'lazy', 'too', 'and', 'he', 'built', 'his', 'house', 'out', 'of', 'sticks', '.', 'Then', ',', 'they', 'sang', 'and', 'danced', 'and', 'played', 'together', 'the', 'rest', 'of', 'the', 'day', '.', 'The', 'third', 'little', 'pig', 'worked', 'hard', 'all', 'day', 'and', 'built', 'his', 'house', 'with', 'bricks', '.', 'It', 'was', 'a', 'sturdy', 'house', 'complete', 'with', 'a', 'fine', 'fireplace', 'and', 'chimney', '.', 'It', 'looked', 'like', 'it', 'could', 'withstand', 'the', 'strongest', 'winds', '.']\n"
     ]
    }
   ],
   "source": [
    "#word tokenizing: by tokenizing text with word_tokenize(), we can get text as words\n",
    "words=word_tokenize(text)\n",
    "print(len(words),\"\\n\",words)"
   ]
  },
  {
   "cell_type": "code",
   "execution_count": 8,
   "id": "968f4dac",
   "metadata": {
    "code_folding": []
   },
   "outputs": [
    {
     "data": {
      "text/plain": [
       "[('.', 9),\n",
       " ('and', 7),\n",
       " ('little', 5),\n",
       " ('a', 4),\n",
       " ('was', 4),\n",
       " ('pig', 4),\n",
       " ('the', 4),\n",
       " ('house', 4),\n",
       " ('to', 3),\n",
       " ('out', 3)]"
      ]
     },
     "execution_count": 8,
     "metadata": {},
     "output_type": "execute_result"
    }
   ],
   "source": [
    "#find the frequency of distribution:\n",
    "from nltk.probability import FreqDist\n",
    "fdist=FreqDist(words)\n",
    "#to print say 10 most common words in the story\n",
    "fdist.most_common(10)\n",
    "#HEre it will also include the punctuation marks as well, and these are hardly required in the when we are\n",
    "#analogies of speech, and the punctuation marks only help in conveying the tone of the message, we often\n",
    "#need to seperate the punctuation from the real text"
   ]
  },
  {
   "cell_type": "code",
   "execution_count": 9,
   "id": "b0d7bf93",
   "metadata": {
    "code_folding": []
   },
   "outputs": [
    {
     "data": {
      "image/png": "[encoded data removed]",
      "text/plain": [
       "<Figure size 640x480 with 1 Axes>"
      ]
     },
     "metadata": {},
     "output_type": "display_data"
    },
    {
     "data": {
      "text/plain": [
       "<AxesSubplot: xlabel='Samples', ylabel='Counts'>"
      ]
     },
     "execution_count": 9,
     "metadata": {},
     "output_type": "execute_result"
    }
   ],
   "source": [
    "#plotting the frequency of the 1st 20 frequwnt words\n",
    "from matplotlib import pyplot as plt\n",
    "fdist.plot(20)"
   ]
  },
  {
   "cell_type": "code",
   "execution_count": 10,
   "id": "e51ae9fb",
   "metadata": {
    "code_folding": []
   },
   "outputs": [
    {
     "name": "stdout",
     "output_type": "stream",
     "text": [
      "['once', 'upon', 'a', 'time', 'there', 'was', 'an', 'old', 'mother', 'pig', 'who', 'had', 'three', 'little', 'pigs', 'and', 'not', 'enough', 'food', 'to', 'feed', 'them', 'so', 'when', 'they', 'were', 'old', 'enough', 'she', 'sent', 'them', 'out', 'into', 'the', 'world', 'to', 'seek', 'their', 'fortunes', 'the', 'first', 'little', 'pig', 'was', 'very', 'lazy', 'he', 'did', 'want', 'to', 'work', 'at', 'all', 'and', 'he', 'built', 'his', 'house', 'out', 'of', 'straw', 'the', 'second', 'little', 'pig', 'worked', 'a', 'little', 'bit', 'harder', 'but', 'he', 'was', 'somewhat', 'lazy', 'too', 'and', 'he', 'built', 'his', 'house', 'out', 'of', 'sticks', 'then', 'they', 'sang', 'and', 'danced', 'and', 'played', 'together', 'the', 'rest', 'of', 'the', 'day', 'the', 'third', 'little', 'pig', 'worked', 'hard', 'all', 'day', 'and', 'built', 'his', 'house', 'with', 'bricks', 'it', 'was', 'a', 'sturdy', 'house', 'complete', 'with', 'a', 'fine', 'fireplace', 'and', 'chimney', 'it', 'looked', 'like', 'it', 'could', 'withstand', 'the', 'strongest', 'winds'] \n",
      " 132\n"
     ]
    }
   ],
   "source": [
    "#removing the punctuation marks:\n",
    "#create an empty list to store the words\n",
    "words_no_punc=[]\n",
    "#removing punctuation marks using isalpha() and store the words in lowercase for easy accesss\n",
    "for w in words:\n",
    "    if w.isalpha():\n",
    "        words_no_punc.append(w.lower())\n",
    "print(words_no_punc,\"\\n\",len(words_no_punc))"
   ]
  },
  {
   "cell_type": "code",
   "execution_count": 11,
   "id": "d22709ad",
   "metadata": {},
   "outputs": [
    {
     "data": {
      "text/plain": [
       "[('and', 7),\n",
       " ('the', 7),\n",
       " ('little', 5),\n",
       " ('a', 4),\n",
       " ('was', 4),\n",
       " ('pig', 4),\n",
       " ('he', 4),\n",
       " ('house', 4),\n",
       " ('to', 3),\n",
       " ('out', 3)]"
      ]
     },
     "execution_count": 11,
     "metadata": {},
     "output_type": "execute_result"
    }
   ],
   "source": [
    "newfdist=FreqDist(words_no_punc)\n",
    "newfdist.most_common(10)"
   ]
  },
  {
   "cell_type": "code",
   "execution_count": 12,
   "id": "fca30088",
   "metadata": {},
   "outputs": [
    {
     "data": {
      "image/png": "[encoded data removed]",
      "text/plain": [
       "<Figure size 640x480 with 1 Axes>"
      ]
     },
     "metadata": {},
     "output_type": "display_data"
    },
    {
     "data": {
      "text/plain": [
       "<AxesSubplot: xlabel='Samples', ylabel='Counts'>"
      ]
     },
     "execution_count": 12,
     "metadata": {},
     "output_type": "execute_result"
    }
   ],
   "source": [
    "newfdist.plot(20)"
   ]
  },
  {
   "cell_type": "code",
   "execution_count": 13,
   "id": "1adca62c",
   "metadata": {},
   "outputs": [
    {
     "name": "stdout",
     "output_type": "stream",
     "text": [
      "['i', 'me', 'my', 'myself', 'we', 'our', 'ours', 'ourselves', 'you', \"you're\", \"you've\", \"you'll\", \"you'd\", 'your', 'yours', 'yourself', 'yourselves', 'he', 'him', 'his', 'himself', 'she', \"she's\", 'her', 'hers', 'herself', 'it', \"it's\", 'its', 'itself', 'they', 'them', 'their', 'theirs', 'themselves', 'what', 'which', 'who', 'whom', 'this', 'that', \"that'll\", 'these', 'those', 'am', 'is', 'are', 'was', 'were', 'be', 'been', 'being', 'have', 'has', 'had', 'having', 'do', 'does', 'did', 'doing', 'a', 'an', 'the', 'and', 'but', 'if', 'or', 'because', 'as', 'until', 'while', 'of', 'at', 'by', 'for', 'with', 'about', 'against', 'between', 'into', 'through', 'during', 'before', 'after', 'above', 'below', 'to', 'from', 'up', 'down', 'in', 'out', 'on', 'off', 'over', 'under', 'again', 'further', 'then', 'once', 'here', 'there', 'when', 'where', 'why', 'how', 'all', 'any', 'both', 'each', 'few', 'more', 'most', 'other', 'some', 'such', 'no', 'nor', 'not', 'only', 'own', 'same', 'so', 'than', 'too', 'very', 's', 't', 'can', 'will', 'just', 'don', \"don't\", 'should', \"should've\", 'now', 'd', 'll', 'm', 'o', 're', 've', 'y', 'ain', 'aren', \"aren't\", 'couldn', \"couldn't\", 'didn', \"didn't\", 'doesn', \"doesn't\", 'hadn', \"hadn't\", 'hasn', \"hasn't\", 'haven', \"haven't\", 'isn', \"isn't\", 'ma', 'mightn', \"mightn't\", 'mustn', \"mustn't\", 'needn', \"needn't\", 'shan', \"shan't\", 'shouldn', \"shouldn't\", 'wasn', \"wasn't\", 'weren', \"weren't\", 'won', \"won't\", 'wouldn', \"wouldn't\"]\n"
     ]
    },
    {
     "name": "stderr",
     "output_type": "stream",
     "text": [
      "[nltk_data] Downloading package stopwords to\n",
      "[nltk_data]     C:\\Users\\DEEP\\AppData\\Roaming\\nltk_data...\n",
      "[nltk_data]   Package stopwords is already up-to-date!\n"
     ]
    }
   ],
   "source": [
    "#Notice that we still have many words that are not very useful in the analysis of our text file sample, \n",
    "#such as “and,” “but,” “so,” and others. Next, we need to remove coordinating conjunctions.\n",
    "from nltk.corpus import stopwords\n",
    "nltk.download('stopwords')\n",
    "stopwords=stopwords.words(\"english\")\n",
    "print(stopwords)"
   ]
  },
  {
   "cell_type": "code",
   "execution_count": 14,
   "id": "61de9fde",
   "metadata": {},
   "outputs": [
    {
     "name": "stdout",
     "output_type": "stream",
     "text": [
      "['upon', 'time', 'old', 'mother', 'pig', 'three', 'little', 'pigs', 'enough', 'food', 'feed', 'old', 'enough', 'sent', 'world', 'seek', 'fortunes', 'first', 'little', 'pig', 'lazy', 'want', 'work', 'built', 'house', 'straw', 'second', 'little', 'pig', 'worked', 'little', 'bit', 'harder', 'somewhat', 'lazy', 'built', 'house', 'sticks', 'sang', 'danced', 'played', 'together', 'rest', 'day', 'third', 'little', 'pig', 'worked', 'hard', 'day', 'built', 'house', 'bricks', 'sturdy', 'house', 'complete', 'fine', 'fireplace', 'chimney', 'looked', 'like', 'could', 'withstand', 'strongest', 'winds'] \n",
      " 65\n"
     ]
    }
   ],
   "source": [
    "#removing the stopwords:\n",
    "#create empty list to store clean words\n",
    "clean_words=[]\n",
    "for w in words_no_punc:\n",
    "    if w not in stopwords:\n",
    "        clean_words.append(w)\n",
    "print(clean_words,\"\\n\",len(clean_words))"
   ]
  },
  {
   "cell_type": "code",
   "execution_count": 15,
   "id": "d4e3bdd3",
   "metadata": {},
   "outputs": [
    {
     "data": {
      "text/plain": [
       "[('little', 5),\n",
       " ('pig', 4),\n",
       " ('house', 4),\n",
       " ('built', 3),\n",
       " ('old', 2),\n",
       " ('enough', 2),\n",
       " ('lazy', 2),\n",
       " ('worked', 2),\n",
       " ('day', 2),\n",
       " ('upon', 1)]"
      ]
     },
     "execution_count": 15,
     "metadata": {},
     "output_type": "execute_result"
    }
   ],
   "source": [
    "#final key distribution\n",
    "final_fdist=FreqDist(clean_words)\n",
    "final_fdist.most_common(10)"
   ]
  },
  {
   "cell_type": "code",
   "execution_count": 16,
   "id": "537c1275",
   "metadata": {},
   "outputs": [
    {
     "data": {
      "image/png": "[encoded data removed]",
      "text/plain": [
       "<Figure size 640x480 with 1 Axes>"
      ]
     },
     "metadata": {},
     "output_type": "display_data"
    },
    {
     "data": {
      "text/plain": [
       "<AxesSubplot: xlabel='Samples', ylabel='Counts'>"
      ]
     },
     "execution_count": 16,
     "metadata": {},
     "output_type": "execute_result"
    }
   ],
   "source": [
    "final_fdist.plot(20)"
   ]
  },
  {
   "cell_type": "code",
   "execution_count": 17,
   "id": "dbe39798",
   "metadata": {},
   "outputs": [
    {
     "data": {
      "text/plain": [
       "'\\nWord Cloud:\\nWord Cloud is a data visualization technique. In which words from a given text display on the main chart. \\nIn this technique, more frequent or essential words display in a larger and bolder font, while less \\nfrequent or essential words display in smaller or thinner fonts. It is a beneficial technique in NLP that \\ngives us a glance at what text should be analyzed.\\n\\nProperties:\\nfont_path: It specifies the path for the fonts we want to use.\\nwidth: It specifies the width of the canvas.\\nheight: It specifies the height of the canvas.\\nmin_font_size: It specifies the smallest font size to use.\\nmax_font_size: It specifies the largest font size to use.\\nfont_step: It specifies the step size for the font.\\nmax_words: It specifies the maximum number of words on the word cloud.\\nstopwords: Our program will eliminate these words.\\nbackground_color: It specifies the background color for canvas.\\nnormalize_plurals: It removes the trailing “s” from words.\\n'"
      ]
     },
     "execution_count": 17,
     "metadata": {},
     "output_type": "execute_result"
    }
   ],
   "source": [
    "'''\n",
    "Word Cloud:\n",
    "Word Cloud is a data visualization technique. In which words from a given text display on the main chart. \n",
    "In this technique, more frequent or essential words display in a larger and bolder font, while less \n",
    "frequent or essential words display in smaller or thinner fonts. It is a beneficial technique in NLP that \n",
    "gives us a glance at what text should be analyzed.\n",
    "\n",
    "Properties:\n",
    "font_path: It specifies the path for the fonts we want to use.\n",
    "width: It specifies the width of the canvas.\n",
    "height: It specifies the height of the canvas.\n",
    "min_font_size: It specifies the smallest font size to use.\n",
    "max_font_size: It specifies the largest font size to use.\n",
    "font_step: It specifies the step size for the font.\n",
    "max_words: It specifies the maximum number of words on the word cloud.\n",
    "stopwords: Our program will eliminate these words.\n",
    "background_color: It specifies the background color for canvas.\n",
    "normalize_plurals: It removes the trailing “s” from words.\n",
    "'''"
   ]
  },
  {
   "cell_type": "code",
   "execution_count": 18,
   "id": "71bdec2b",
   "metadata": {},
   "outputs": [
    {
     "ename": "ModuleNotFoundError",
     "evalue": "No module named 'wordcloud'",
     "output_type": "error",
     "traceback": [
      "\u001b[1;31m---------------------------------------------------------------------------\u001b[0m",
      "\u001b[1;31mModuleNotFoundError\u001b[0m                       Traceback (most recent call last)",
      "\u001b[1;32mc:\\Users\\DEEP\\Machine Learning\\jupyter\\Rinex\\MLa\\MLa1\\MLa1.ipynb Cell 20\u001b[0m line \u001b[0;36m1\n\u001b[1;32m----> <a href='vscode-notebook-cell:/c%3A/Users/DEEP/Machine%20Learning/jupyter/Rinex/MLa/MLa1/MLa1.ipynb#X25sZmlsZQ%3D%3D?line=0'>1</a>\u001b[0m \u001b[39mfrom\u001b[39;00m \u001b[39mwordcloud\u001b[39;00m \u001b[39mimport\u001b[39;00m WordCloud\n\u001b[0;32m      <a href='vscode-notebook-cell:/c%3A/Users/DEEP/Machine%20Learning/jupyter/Rinex/MLa/MLa1/MLa1.ipynb#X25sZmlsZQ%3D%3D?line=1'>2</a>\u001b[0m \u001b[39m#generating the word cloud\u001b[39;00m\n\u001b[0;32m      <a href='vscode-notebook-cell:/c%3A/Users/DEEP/Machine%20Learning/jupyter/Rinex/MLa/MLa1/MLa1.ipynb#X25sZmlsZQ%3D%3D?line=2'>3</a>\u001b[0m wordcloud\u001b[39m=\u001b[39mWordCloud()\u001b[39m.\u001b[39mgenerate(text)\n",
      "\u001b[1;31mModuleNotFoundError\u001b[0m: No module named 'wordcloud'"
     ]
    }
   ],
   "source": [
    "from wordcloud import WordCloud\n",
    "#generating the word cloud\n",
    "wordcloud=WordCloud().generate(text)\n",
    "#plot the word cloud\n",
    "plt.figure(figsize=(12,12))\n",
    "plt.imshow(wordcloud)\n",
    "#to remove axis value\n",
    "plt.axis(\"off\")\n",
    "plt.show()"
   ]
  },
  {
   "cell_type": "code",
   "execution_count": null,
   "id": "c29ab630",
   "metadata": {},
   "outputs": [
    {
     "data": {
      "image/png": "[encoded data removed]",
      "text/plain": [
       "<Figure size 576x576 with 1 Axes>"
      ]
     },
     "metadata": {
      "needs_background": "light"
     },
     "output_type": "display_data"
    },
    {
     "data": {
      "text/plain": [
       "'\\nWord CloudAdvantages:\\nThey are fast.\\nThey are engaging.\\nThey are simple to understand.\\nThey are casual and visually appealing.\\n\\nWord Cloud Disadvantages:\\nThey are non-perfect for non-clean data.\\nThey lack the context of words.\\n'"
      ]
     },
     "execution_count": 19,
     "metadata": {},
     "output_type": "execute_result"
    }
   ],
   "source": [
    "'''\n",
    "As shown in the graph above, the most frequent words display in larger fonts. The word cloud can be \n",
    "displayed in any shape or image. For instance: In this case, we are going to use the following circle \n",
    "image, but we can use any shape or any image.\n",
    "'''\n",
    "import numpy as np\n",
    "from PIL import Image\n",
    "#using a circle image as a mask\n",
    "#background of the image used must be white, otherwise, the system will consider the background as an \n",
    "#object. In addition, the background cannot be transparent, because transparent colors \n",
    "#will be considered black.\n",
    "char_mask=np.array(Image.open(\"circle.png\"))\n",
    "#generating the wordcloud\n",
    "circlewc=WordCloud(background_color=\"black\",mask=char_mask).generate(text)\n",
    "#plot the word cloud\n",
    "plt.figure(figsize=(8,8))\n",
    "plt.imshow(circlewc)\n",
    "plt.axis(\"off\")\n",
    "plt.show()\n",
    "\n",
    "'''\n",
    "Word CloudAdvantages:\n",
    "They are fast.\n",
    "They are engaging.\n",
    "They are simple to understand.\n",
    "They are casual and visually appealing.\n",
    "\n",
    "Word Cloud Disadvantages:\n",
    "They are non-perfect for non-clean data.\n",
    "They lack the context of words.\n",
    "'''"
   ]
  },
  {
   "cell_type": "code",
   "execution_count": null,
   "id": "5c8602e0",
   "metadata": {},
   "outputs": [
    {
     "data": {
      "text/plain": [
       "'\\nStemming:\\nWe use Stemming to normalize words. In English and many other languages, a single word can take multiple \\nforms depending upon context used. For instance, the verb “study” can take many forms like “studies,” \\n“studying,” “studied,” and others, depending on its context. When we tokenize words, an interpreter \\nconsiders these input words as different words even though their underlying meaning is the same. Moreover, \\nas we know that NLP is about analyzing the meaning of content, to resolve this problem, we use stemming.\\n\\nStemming normalizes the word by truncating the word to its stem word. For example, the words “studies,” \\n“studied,” “studying” will be reduced to “studi,” making all these word forms to refer to only one token. \\nNotice that stemming may not give us a dictionary, grammatical word for a particular set of words.\\n'"
      ]
     },
     "execution_count": 20,
     "metadata": {},
     "output_type": "execute_result"
    }
   ],
   "source": [
    "'''\n",
    "Stemming:\n",
    "We use Stemming to normalize words. In English and many other languages, a single word can take multiple \n",
    "forms depending upon context used. For instance, the verb “study” can take many forms like “studies,” \n",
    "“studying,” “studied,” and others, depending on its context. When we tokenize words, an interpreter \n",
    "considers these input words as different words even though their underlying meaning is the same. Moreover, \n",
    "as we know that NLP is about analyzing the meaning of content, to resolve this problem, we use stemming.\n",
    "\n",
    "Stemming normalizes the word by truncating the word to its stem word. For example, the words “studies,” \n",
    "“studied,” “studying” will be reduced to “studi,” making all these word forms to refer to only one token. \n",
    "Notice that stemming may not give us a dictionary, grammatical word for a particular set of words.\n",
    "'''"
   ]
  },
  {
   "cell_type": "code",
   "execution_count": null,
   "id": "45aa92c2",
   "metadata": {},
   "outputs": [
    {
     "data": {
      "text/plain": [
       "'\\n8. Lancaster Stemmer:\\nThe Lancaster stemmers are more aggressive and dynamic compared to the other two stemmers. The stemmer is \\nreally faster, but the algorithm is really confusing when dealing with small words. But they are not as \\nefficient as Snowball Stemmers. The Lancaster stemmers save the rules externally and basically uses an \\niterative algorithm. \\n'"
      ]
     },
     "execution_count": 21,
     "metadata": {},
     "output_type": "execute_result"
    }
   ],
   "source": [
    "'''\n",
    "1. Porter’s Stemmer algorithm \n",
    "It is one of the most popular stemming methods proposed in 1980. It is based on the idea that the suffixes \n",
    "in the English language are made up of a combination of smaller and simpler suffixes. This stemmer is known \n",
    "for its speed and simplicity. The main applications of Porter Stemmer include data mining and Information \n",
    "retrieval. However, its applications are only limited to English words. Also, the group of stems is mapped \n",
    "on to the same stem and the output stem is not necessarily a meaningful word. The algorithms are fairly \n",
    "lengthy in nature and are known to be the oldest stemmer.\n",
    "Example: EED -> EE means “if the word has at least one vowel and consonant plus EED ending, change the \n",
    "ending to EE” as ‘agreed’ becomes ‘agree’. \n",
    "Advantage: It produces the best output as compared to other stemmers and it has less error rate.\n",
    "Limitation:  Morphological variants produced are not always real words.\n",
    "'''\n",
    "'''\n",
    "2. Lovins Stemmer \n",
    "It is proposed by Lovins in 1968, that removes the longest suffix from a word then the word is recorded to \n",
    "convert this stem into valid words. Example: sitting -> sitt -> sit \n",
    "Advantage: It is fast and handles irregular plurals like 'teeth' and 'tooth' etc.\n",
    "Limitation: It is time consuming and frequently fails to form words from stem.\n",
    "'''\n",
    "'''\n",
    "3. Dawson Stemmer \n",
    "It is an extension of Lovins stemmer in which suffixes are stored in the reversed order indexed by their \n",
    "length and last letter. \n",
    "Advantage: It is fast in execution and covers more suffices.\n",
    "Limitation: It is very complex to implement.\n",
    "'''\n",
    "'''\n",
    "4. Krovetz Stemmer \n",
    "It was proposed in 1993 by Robert Krovetz. Following are the steps: \n",
    "1) Convert the plural form of a word to its singular form. \n",
    "2) Convert the past tense of a word to its present tense and remove the suffix ‘ing’. \n",
    "Example: ‘children’ -> ‘child’ \n",
    " \n",
    "Advantage: It is light in nature and can be used as pre-stemmer for other stemmers.\n",
    "Limitation: It is inefficient in case of large documents.\n",
    "'''\n",
    "'''\n",
    "5. Xerox Stemmer \n",
    "Example: \n",
    "‘children’ -> ‘child’\n",
    "‘understood’ -> ‘understand’\n",
    "‘whom’ -> ‘who’\n",
    "‘best’ -> ‘good’\n",
    "'''\n",
    "'''\n",
    "6. N-Gram Stemmer \n",
    "An n-gram is a set of n consecutive characters extracted from a word in which similar words will have a \n",
    "high proportion of n-grams in common. \n",
    "Example: ‘INTRODUCTIONS’ for n=2 becomes : *I, IN, NT, TR, RO, OD, DU, UC, CT, TI, IO, ON, NS, S*\n",
    "Advantage: It is based on string comparisons and it is language dependent.\n",
    "Limitation: It requires space to create and index the n-grams and it is not time efficient.\n",
    "'''\n",
    "'''\n",
    "7. Snowball Stemmer:\n",
    "When compared to the Porter Stemmer, the Snowball Stemmer can map non-English words too. Since it supports \n",
    "other languages the Snowball Stemmers can be called a multi-lingual stemmer. The Snowball stemmers are also \n",
    "imported from the nltk package. This stemmer is based on a programming language called ‘Snowball’ that \n",
    "processes small strings and is the most widely used stemmer. The Snowball stemmer is way more aggressive \n",
    "than Porter Stemmer and is also referred to as Porter2 Stemmer. Because of the improvements added when \n",
    "compared to the Porter Stemmer, the Snowball stemmer is having greater computational speed. \n",
    "'''\n",
    "'''\n",
    "8. Lancaster Stemmer:\n",
    "The Lancaster stemmers are more aggressive and dynamic compared to the other two stemmers. The stemmer is \n",
    "really faster, but the algorithm is really confusing when dealing with small words. But they are not as \n",
    "efficient as Snowball Stemmers. The Lancaster stemmers save the rules externally and basically uses an \n",
    "iterative algorithm. \n",
    "'''"
   ]
  },
  {
   "cell_type": "code",
   "execution_count": null,
   "id": "2d37ac57",
   "metadata": {},
   "outputs": [
    {
     "name": "stdout",
     "output_type": "stream",
     "text": [
      "Porter’s Stemmer Example 1:\n",
      "\n",
      "studi\n",
      "studi\n",
      "studi\n",
      "studi\n"
     ]
    }
   ],
   "source": [
    "#Porter’s Stemmer Example 1:\n",
    "from nltk.stem import PorterStemmer\n",
    "porter=PorterStemmer()\n",
    "word_list1=[\"Study\",\"Studying\",\"Studies\",\"Studied\"]\n",
    "print(\"Porter’s Stemmer Example 1:\\n\")\n",
    "for w in word_list1:\n",
    "    print(porter.stem(w))"
   ]
  },
  {
   "cell_type": "code",
   "execution_count": null,
   "id": "c6298402",
   "metadata": {},
   "outputs": [
    {
     "name": "stdout",
     "output_type": "stream",
     "text": [
      "\n",
      "Porter’s Stemmer Example 2:\n",
      "\n",
      "studi\n",
      "leav\n",
      "decreas\n",
      "play\n"
     ]
    }
   ],
   "source": [
    "#Porter’s Stemmer Example 2:\n",
    "print(\"\\nPorter’s Stemmer Example 2:\\n\")\n",
    "word_list2=[\"studies\",\"leaves\",\"decreases\",\"plays\"]\n",
    "for w in word_list2:\n",
    "    print(porter.stem(w))"
   ]
  },
  {
   "cell_type": "code",
   "execution_count": null,
   "id": "4f7750d1",
   "metadata": {},
   "outputs": [
    {
     "name": "stdout",
     "output_type": "stream",
     "text": [
      "SnowballStemmer:\n",
      "\n",
      "studi\n",
      "studi\n",
      "studi\n",
      "studi\n"
     ]
    }
   ],
   "source": [
    "#SnowballStemmer:\n",
    "from nltk.stem import SnowballStemmer\n",
    "print(\"SnowballStemmer:\\n\")\n",
    "snowball=SnowballStemmer(\"english\")\n",
    "for w in word_list1:\n",
    "    print(snowball.stem(w))"
   ]
  },
  {
   "cell_type": "code",
   "execution_count": null,
   "id": "6d24ac6d",
   "metadata": {},
   "outputs": [
    {
     "data": {
      "text/plain": [
       "('arabic',\n",
       " 'danish',\n",
       " 'dutch',\n",
       " 'english',\n",
       " 'finnish',\n",
       " 'french',\n",
       " 'german',\n",
       " 'hungarian',\n",
       " 'italian',\n",
       " 'norwegian',\n",
       " 'porter',\n",
       " 'portuguese',\n",
       " 'romanian',\n",
       " 'russian',\n",
       " 'spanish',\n",
       " 'swedish')"
      ]
     },
     "execution_count": 25,
     "metadata": {},
     "output_type": "execute_result"
    }
   ],
   "source": [
    "SnowballStemmer.languages"
   ]
  },
  {
   "cell_type": "code",
   "execution_count": null,
   "id": "e9ba1960",
   "metadata": {},
   "outputs": [
    {
     "data": {
      "text/plain": [
       "'\\nLemmatization:\\nLemmatization tries to achieve a similar base “stem” for a word. However, what makes it different is that \\nit finds the dictionary word instead of truncating the original word. Stemming does not consider the \\ncontext of the word. That is why it generates results faster, but it is less accurate than lemmatization.\\n\\nIf accuracy is not the project’s final goal, then stemming is an appropriate approach. If higher accuracy \\nis crucial and the project is not on a tight deadline, then the best option is amortization (Lemmatization \\nhas a lower processing speed, compared to stemming).\\n\\nLemmatization takes into account Part Of Speech (POS) values. Also, lemmatization may generate different \\noutputs for different values of POS. We generally have four choices for POS:\\n\\npart of speech in lemmatization are: verbs(v), noun(n), adjective(a), adverb(r)\\n'"
      ]
     },
     "execution_count": 26,
     "metadata": {},
     "output_type": "execute_result"
    }
   ],
   "source": [
    "'''\n",
    "Lemmatization:\n",
    "Lemmatization tries to achieve a similar base “stem” for a word. However, what makes it different is that \n",
    "it finds the dictionary word instead of truncating the original word. Stemming does not consider the \n",
    "context of the word. That is why it generates results faster, but it is less accurate than lemmatization.\n",
    "\n",
    "If accuracy is not the project’s final goal, then stemming is an appropriate approach. If higher accuracy \n",
    "is crucial and the project is not on a tight deadline, then the best option is amortization (Lemmatization \n",
    "has a lower processing speed, compared to stemming).\n",
    "\n",
    "Lemmatization takes into account Part Of Speech (POS) values. Also, lemmatization may generate different \n",
    "outputs for different values of POS. We generally have four choices for POS:\n",
    "\n",
    "part of speech in lemmatization are: verbs(v), noun(n), adjective(a), adverb(r)\n",
    "'''"
   ]
  },
  {
   "cell_type": "code",
   "execution_count": null,
   "id": "fbd5978c",
   "metadata": {},
   "outputs": [],
   "source": [
    "#Lemmantization implementation:\n",
    "from nltk import WordNetLemmatizer\n",
    "lemma=WordNetLemmatizer()"
   ]
  },
  {
   "cell_type": "code",
   "execution_count": null,
   "id": "77f1404b",
   "metadata": {},
   "outputs": [
    {
     "name": "stdout",
     "output_type": "stream",
     "text": [
      "study\n",
      "study\n",
      "study\n",
      "study\n"
     ]
    }
   ],
   "source": [
    "#1. A basic example demonstrating how a lemmatizer works\n",
    "#In the following example, we are taking the PoS tag as “verb,” and when we apply the lemmatization rules, \n",
    "#it gives us dictionary words instead of truncating the original word:\n",
    "list1=[\"study\",\"studying\",\"studies\",\"studied\"]\n",
    "for w in list1:\n",
    "    print(lemma.lemmatize(w,pos=\"v\"))"
   ]
  },
  {
   "cell_type": "code",
   "execution_count": null,
   "id": "9c39d3f8",
   "metadata": {},
   "outputs": [
    {
     "name": "stdout",
     "output_type": "stream",
     "text": [
      "study\n",
      "leaf\n",
      "decrease\n",
      "play\n"
     ]
    }
   ],
   "source": [
    "#2. Lemmatizer with default PoS value\n",
    "#The default value of PoS in lemmatization is a noun(n). In the following example, we can see that it’s \n",
    "#generating dictionary words:\n",
    "list2=[\"studies\",\"leaves\",\"decreases\",\"plays\"]\n",
    "for w in list2:\n",
    "    print(lemma.lemmatize(w))"
   ]
  },
  {
   "cell_type": "code",
   "execution_count": null,
   "id": "72e5ff39",
   "metadata": {},
   "outputs": [
    {
     "name": "stdout",
     "output_type": "stream",
     "text": [
      "be\n",
      "be\n",
      "be\n",
      "be\n",
      "be\n"
     ]
    }
   ],
   "source": [
    "#3. Another example demonstrating the power of lemmatizer\n",
    "list3=[\"am\",\"is\",\"are\",\"was\",\"were\"]\n",
    "for w in list3:\n",
    "    print(lemma.lemmatize(w,pos=\"v\"))"
   ]
  },
  {
   "cell_type": "code",
   "execution_count": null,
   "id": "6eba9b00",
   "metadata": {},
   "outputs": [
    {
     "name": "stdout",
     "output_type": "stream",
     "text": [
      "study\n",
      "study\n",
      "study\n",
      "study \n",
      "\n",
      "study\n",
      "studying\n",
      "studying\n",
      "studying \n",
      "\n",
      "study\n",
      "study\n",
      "studies\n",
      "studies \n",
      "\n",
      "study\n",
      "studied\n",
      "studied\n",
      "studied \n",
      "\n"
     ]
    }
   ],
   "source": [
    "#4. Lemmatizer with different POS values\n",
    "list4=[\"study\",\"studying\",\"studies\",\"studied\"]\n",
    "for w in list4:\n",
    "    print(lemma.lemmatize(w,pos=\"v\"))\n",
    "    print(lemma.lemmatize(w,pos=\"n\"))\n",
    "    print(lemma.lemmatize(w,pos=\"a\"))\n",
    "    print(lemma.lemmatize(w,pos=\"r\"),\"\\n\")"
   ]
  },
  {
   "cell_type": "code",
   "execution_count": null,
   "id": "447cbc8d",
   "metadata": {},
   "outputs": [
    {
     "name": "stdout",
     "output_type": "stream",
     "text": [
      "using PorterStemmer:  studi \n",
      "\n",
      "using WordNetLemmatizer:  study \n",
      "\n"
     ]
    }
   ],
   "source": [
    "'''\n",
    "Difference between Stemmer and Lemmatizer:\n",
    "Stemming: Notice how on stemming, the word “studies” gets truncated to “studi.”\n",
    "Lemmatizing: During lemmatization, the word “studies” displays its dictionary word “study.”\n",
    "'''\n",
    "from nltk.stem import PorterStemmer\n",
    "ps=PorterStemmer()\n",
    "print(\"using PorterStemmer: \",ps.stem('studies'),\"\\n\")\n",
    "from nltk import WordNetLemmatizer\n",
    "lem=WordNetLemmatizer()\n",
    "print(\"using WordNetLemmatizer: \",lem.lemmatize('studies'),\"\\n\")"
   ]
  },
  {
   "cell_type": "code",
   "execution_count": null,
   "id": "29190ac1",
   "metadata": {},
   "outputs": [
    {
     "data": {
      "text/plain": [
       "'\\n“can you help me with the can?”\\nParts of speech(PoS) tagging is crucial for syntactic and semantic analysis. Therefore, for something like \\nthe sentence above, the word “can” has several semantic meanings. The first “can” is used for question \\nformation. The second “can” at the end of the sentence is used to represent a container. The first “can” \\nis a verb, and the second “can” is a noun. Giving the word a specific meaning allows the program to handle \\nit correctly in both semantic and syntactic analysis.\\n\\nsome quick vocabulary: \\nCorpus : Body of text, singular. Corpora is the plural of this. \\nLexicon : Words and their meanings. \\nToken : Each “entity” that is a part of whatever was split up based on rules.\\nIn corpus linguistics, part-of-speech tagging (POS tagging or PoS tagging or POST), also called \\ngrammatical tagging or word-category disambiguation.\\n\\nHere’s a list of the tags, what they mean, and some examples:\\n\\nCC coordinating conjunction \\nCD cardinal digit \\nDT determiner \\nEX existential there (like: “there is” … think of it like “there exists”) \\nFW foreign word \\nIN preposition/subordinating conjunction \\nJJ adjective – ‘big’ \\nJJR adjective, comparative – ‘bigger’ \\nJJS adjective, superlative – ‘biggest’ \\nLS list marker 1) \\nMD modal – could, will \\nNN noun, singular ‘- desk’ \\nNNS noun plural – ‘desks’ \\nNNP proper noun, singular – ‘Harrison’ \\nNNPS proper noun, plural – ‘Americans’ \\nPDT predeterminer – ‘all the kids’ \\nPOS possessive ending parent’s \\nPRP personal pronoun –  I, he, she \\nPRP$ possessive pronoun – my, his, hers \\nRB adverb – very, silently, \\nRBR adverb, comparative – better \\nRBS adverb, superlative – best \\nRP particle – give up \\nTO – to go ‘to’ the store. \\nUH interjection – errrrrrrrm \\nVB verb, base form – take \\nVBD verb, past tense – took \\nVBG verb, gerund/present participle – taking \\nVBN verb, past participle – taken \\nVBP verb, sing. present, non-3d – take \\nVBZ verb, 3rd person sing. present – takes \\nWDT wh-determiner – which \\nWP wh-pronoun – who, what \\nWP$ possessive wh-pronoun, eg- whose \\nWRB wh-adverb, eg- where, when\\n'"
      ]
     },
     "execution_count": 33,
     "metadata": {},
     "output_type": "execute_result"
    }
   ],
   "source": [
    "'''\n",
    "“can you help me with the can?”\n",
    "Parts of speech(PoS) tagging is crucial for syntactic and semantic analysis. Therefore, for something like \n",
    "the sentence above, the word “can” has several semantic meanings. The first “can” is used for question \n",
    "formation. The second “can” at the end of the sentence is used to represent a container. The first “can” \n",
    "is a verb, and the second “can” is a noun. Giving the word a specific meaning allows the program to handle \n",
    "it correctly in both semantic and syntactic analysis.\n",
    "\n",
    "some quick vocabulary: \n",
    "Corpus : Body of text, singular. Corpora is the plural of this. \n",
    "Lexicon : Words and their meanings. \n",
    "Token : Each “entity” that is a part of whatever was split up based on rules.\n",
    "In corpus linguistics, part-of-speech tagging (POS tagging or PoS tagging or POST), also called \n",
    "grammatical tagging or word-category disambiguation.\n",
    "\n",
    "Here’s a list of the tags, what they mean, and some examples:\n",
    "\n",
    "CC coordinating conjunction \n",
    "CD cardinal digit \n",
    "DT determiner \n",
    "EX existential there (like: “there is” … think of it like “there exists”) \n",
    "FW foreign word \n",
    "IN preposition/subordinating conjunction \n",
    "JJ adjective – ‘big’ \n",
    "JJR adjective, comparative – ‘bigger’ \n",
    "JJS adjective, superlative – ‘biggest’ \n",
    "LS list marker 1) \n",
    "MD modal – could, will \n",
    "NN noun, singular ‘- desk’ \n",
    "NNS noun plural – ‘desks’ \n",
    "NNP proper noun, singular – ‘Harrison’ \n",
    "NNPS proper noun, plural – ‘Americans’ \n",
    "PDT predeterminer – ‘all the kids’ \n",
    "POS possessive ending parent’s \n",
    "PRP personal pronoun –  I, he, she \n",
    "PRP$ possessive pronoun – my, his, hers \n",
    "RB adverb – very, silently, \n",
    "RBR adverb, comparative – better \n",
    "RBS adverb, superlative – best \n",
    "RP particle – give up \n",
    "TO – to go ‘to’ the store. \n",
    "UH interjection – errrrrrrrm \n",
    "VB verb, base form – take \n",
    "VBD verb, past tense – took \n",
    "VBG verb, gerund/present participle – taking \n",
    "VBN verb, past participle – taken \n",
    "VBP verb, sing. present, non-3d – take \n",
    "VBZ verb, 3rd person sing. present – takes \n",
    "WDT wh-determiner – which \n",
    "WP wh-pronoun – who, what \n",
    "WP$ possessive wh-pronoun, eg- whose \n",
    "WRB wh-adverb, eg- where, when\n",
    "'''"
   ]
  },
  {
   "cell_type": "code",
   "execution_count": null,
   "id": "8ca0567d",
   "metadata": {},
   "outputs": [
    {
     "name": "stdout",
     "output_type": "stream",
     "text": [
      "[('Sukanya', 'NNP'), (',', ','), ('Rajib', 'NNP'), ('Naba', 'NNP'), ('good', 'JJ'), ('friends', 'NNS'), ('.', '.')]\n",
      "[('Sukanya', 'NNP'), ('getting', 'VBG'), ('married', 'VBN'), ('next', 'JJ'), ('year', 'NN'), ('.', '.')]\n",
      "[('Marriage', 'NN'), ('big', 'JJ'), ('step', 'NN'), ('one', 'CD'), ('’', 'NN'), ('life.It', 'NN'), ('exciting', 'VBG'), ('frightening', 'NN'), ('.', '.')]\n",
      "[('But', 'CC'), ('friendship', 'NN'), ('sacred', 'VBD'), ('bond', 'NN'), ('people.It', 'NN'), ('special', 'JJ'), ('kind', 'NN'), ('love', 'VB'), ('us', 'PRP'), ('.', '.')]\n",
      "[('Many', 'JJ'), ('must', 'MD'), ('tried', 'VB'), ('searching', 'VBG'), ('friend', 'NN'), ('never', 'RB'), ('found', 'VBD'), ('right', 'JJ'), ('one', 'CD'), ('.', '.')]\n"
     ]
    },
    {
     "data": {
      "text/plain": [
       "'\\nBasically, the goal of a POS tagger is to assign linguistic (mostly grammatical) information to \\nsub-sentential units. Such units are called tokens and, most of the time, correspond to words and \\nsymbols (e.g. punctuation).\\n'"
      ]
     },
     "execution_count": 34,
     "metadata": {},
     "output_type": "execute_result"
    }
   ],
   "source": [
    "import nltk\n",
    "from nltk.corpus import stopwords \n",
    "from nltk.tokenize import word_tokenize, sent_tokenize \n",
    "stop_words=set(stopwords.words('english'))\n",
    "txt=\"Sukanya, Rajib and Naba are my good friends. \" \\\n",
    "    \"Sukanya is getting married next year. \" \\\n",
    "    \"Marriage is a big step in one’s life.\" \\\n",
    "    \"It is both exciting and frightening. \" \\\n",
    "    \"But friendship is a sacred bond between people.\" \\\n",
    "    \"It is a special kind of love between us. \" \\\n",
    "    \"Many of you must have tried searching for a friend \"\\\n",
    "    \"but never found the right one.\"\n",
    "#sent_tokenize is one of instances of PunktSentenceTokenizer from the nltk.tokenize.punkt module\n",
    "tokenized=sent_tokenize(txt)\n",
    "for i in tokenized:\n",
    "    #Word tokenizers is used to find the words and punctuation in a string\n",
    "    wordlist=nltk.word_tokenize(i)\n",
    "    #removing stopwords from the wordlist\n",
    "    wordlist=[w for w in wordlist if not w in stop_words]\n",
    "    #using a tagger which is a part-of-speech tagger or POS-tagger\n",
    "    tagged=nltk.pos_tag(wordlist)\n",
    "    print(tagged)\n",
    "'''\n",
    "Basically, the goal of a POS tagger is to assign linguistic (mostly grammatical) information to \n",
    "sub-sentential units. Such units are called tokens and, most of the time, correspond to words and \n",
    "symbols (e.g. punctuation).\n",
    "'''"
   ]
  },
  {
   "cell_type": "code",
   "execution_count": null,
   "id": "8ed9ab7b",
   "metadata": {},
   "outputs": [
    {
     "data": {
      "text/plain": [
       "'\\nMeaningful groups of words are called phrases. There are five significant categories of phrases.\\nNoun Phrases (NP).\\nVerb Phrases (VP).\\nAdjective Phrases (ADJP).\\nAdverb Phrases (ADVP).\\nPrepositional Phrases (PP).\\n\\nPhrase structure rules:\\nS(Sentence) → NP VP.\\nNP → {Determiner, Noun, Pronoun, Proper name}.\\nVP → V (NP)(PP)(Adverb).\\nPP → Pronoun (NP).\\nAP → Adjective (PP).\\n'"
      ]
     },
     "execution_count": 35,
     "metadata": {},
     "output_type": "execute_result"
    }
   ],
   "source": [
    "'''\n",
    "Chunking:\n",
    "Chunking means to extract meaningful phrases from unstructured text. By tokenizing a book into words, \n",
    "it’s sometimes hard to infer meaningful information. It works on top of Part of Speech(PoS) tagging. \n",
    "Chunking takes PoS tags as input and provides chunks as output. Chunking literally means a group of words, \n",
    "which breaks simple text into phrases that are more meaningful than individual words.\n",
    "process of chunking: sentences->clauses->phrases->words->POS tagging->chunking\n",
    "'''\n",
    "'''\n",
    "Meaningful groups of words are called phrases. There are five significant categories of phrases.\n",
    "Noun Phrases (NP).\n",
    "Verb Phrases (VP).\n",
    "Adjective Phrases (ADJP).\n",
    "Adverb Phrases (ADVP).\n",
    "Prepositional Phrases (PP).\n",
    "\n",
    "Phrase structure rules:\n",
    "S(Sentence) → NP VP.\n",
    "NP → {Determiner, Noun, Pronoun, Proper name}.\n",
    "VP → V (NP)(PP)(Adverb).\n",
    "PP → Pronoun (NP).\n",
    "AP → Adjective (PP).\n",
    "'''\n",
    "#example:"
   ]
  },
  {
   "cell_type": "markdown",
   "id": "b6a10640",
   "metadata": {},
   "source": [
    "<img src=\"https://cdn-images-1.medium.com/max/1200/0*5XsP_0a508EurdxH.png\" alt=\"chunking process\" title=\"chunking\" />\n"
   ]
  },
  {
   "cell_type": "code",
   "execution_count": null,
   "id": "a6301128",
   "metadata": {},
   "outputs": [
    {
     "name": "stdout",
     "output_type": "stream",
     "text": [
      "[('A', 'DT'), ('very', 'RB'), ('beautiful', 'JJ'), ('young', 'JJ'), ('lady', 'NN'), ('is', 'VBZ'), ('walking', 'VBG'), ('on', 'IN'), ('the', 'DT'), ('beach', 'NN')] \n",
      "\n",
      "(S\n",
      "  A/DT\n",
      "  very/RB\n",
      "  (NP beautiful/JJ young/JJ lady/NN)\n",
      "  is/VBZ\n",
      "  walking/VBG\n",
      "  on/IN\n",
      "  (NP the/DT beach/NN)) \n",
      "\n"
     ]
    }
   ],
   "source": [
    "'''\n",
    "To extract a noun phrase from the text, define what kind of noun phrase we are looking for, or in other \n",
    "words, we have to set the grammar for a noun phrase. Then we can define other rules to extract some other \n",
    "phrases. Next, use RegexpParser( ) to parse the grammar. we can also visualize the text with \n",
    "the .draw( ) function.\n",
    "'''\n",
    "#POS tagging\n",
    "sentence=\"A very beautiful young lady is walking on the beach\"\n",
    "#tokenizing words\n",
    "tokenized_words=word_tokenize(sentence)\n",
    "for words in tokenized_words:\n",
    "    tagged_words=nltk.pos_tag(tokenized_words)\n",
    "print(tagged_words,\"\\n\")\n",
    "#extracting nouns from phrase text\n",
    "# ? is for optional character\n",
    "# * is for 0 or more repetations\n",
    "grammar=\"NP:{<DT>?<JJ>*<NN>}\"\n",
    "#creating a parser\n",
    "parser=nltk.RegexpParser(grammar)\n",
    "#parsing the text\n",
    "output=parser.parse(tagged_words)\n",
    "print(output,\"\\n\")\n",
    "#to visualize\n",
    "output.draw()"
   ]
  },
  {
   "cell_type": "code",
   "execution_count": null,
   "id": "f50c8503",
   "metadata": {},
   "outputs": [
    {
     "name": "stdout",
     "output_type": "stream",
     "text": [
      "(S\n",
      "  (NP A/DT very/RB)\n",
      "  beautiful/JJ\n",
      "  young/JJ\n",
      "  (NP lady/NN is/VBZ walking/VBG on/IN the/DT beach/NN)) \n",
      "\n"
     ]
    }
   ],
   "source": [
    "'''\n",
    "Chinking:\n",
    "Chinking excludes a part from our chunk. There are certain situations where we need to exclude a part of \n",
    "the text from the whole text or chunk. In complex extractions, it is possible that chunking can output \n",
    "unuseful data. In such case scenarios, we can use chinking to exclude some parts from that chunked text.\n",
    "In the following example, we are going to take the whole string as a chunk, and then we are going to \n",
    "exclude adjectives from it by using chinking. We generally use chinking when we have a lot of unuseful \n",
    "data even after chunking. Hence, by using this method, we can easily set that apart, also to write \n",
    "chinking grammar, we have to use inverted curly braces, i.e.:} write chinking grammar here {\n",
    "'''\n",
    "#* is for 0 or more repetations\n",
    "#+ is for 1 or more repetations\n",
    "#here we are taking the whole string and then excluding adjectives from that chunk\n",
    "grammar=r\"\"\" NP: {<.*>+}\n",
    "            }<JJ>+{\"\"\"\n",
    "#creating the parser\n",
    "parser=nltk.RegexpParser(grammar)\n",
    "#parsing string\n",
    "output=parser.parse(tagged_words)\n",
    "print(output,\"\\n\")\n",
    "#to visualize\n",
    "output.draw()"
   ]
  },
  {
   "cell_type": "code",
   "execution_count": null,
   "id": "322d2e08",
   "metadata": {},
   "outputs": [
    {
     "data": {
      "text/plain": [
       "'\\nNamed Entity Recognition (NER):\\nNamed entity recognition can automatically scan entire articles and pull out some fundamental entities like people, organizations, places, date, time, money, and GPE discussed in them.\\n\\nUse-Cases:\\nContent classification for news channels.\\nSummarizing resumes.\\nOptimizing search engine algorithms.\\nRecommendation systems.\\nCustomer support.\\n\\nCommonly used types of named entity:\\n'"
      ]
     },
     "execution_count": 38,
     "metadata": {},
     "output_type": "execute_result"
    }
   ],
   "source": [
    "'''\n",
    "Named Entity Recognition (NER):\n",
    "Named entity recognition can automatically scan entire articles and pull out some fundamental entities like people, organizations, places, date, time, money, and GPE discussed in them.\n",
    "\n",
    "Use-Cases:\n",
    "Content classification for news channels.\n",
    "Summarizing resumes.\n",
    "Optimizing search engine algorithms.\n",
    "Recommendation systems.\n",
    "Customer support.\n",
    "\n",
    "Commonly used types of named entity:\n",
    "'''"
   ]
  },
  {
   "cell_type": "markdown",
   "id": "69501487",
   "metadata": {},
   "source": [
    "<img src=\"https://cdn-images-1.medium.com/max/1200/0*CZhqg9H6H1FTwKMo.png\" alt=\"types of named entity\" title=\"chinking\" />\n"
   ]
  },
  {
   "cell_type": "code",
   "execution_count": null,
   "id": "5562789d",
   "metadata": {},
   "outputs": [
    {
     "name": "stdout",
     "output_type": "stream",
     "text": [
      "(S\n",
      "  (NE Mr./NNP Smith/NNP)\n",
      "  made/VBD\n",
      "  a/DT\n",
      "  deal/NN\n",
      "  on/IN\n",
      "  a/DT\n",
      "  beach/NN\n",
      "  of/IN\n",
      "  (NE Switzerland/NNP)\n",
      "  near/IN\n",
      "  (NE WHO/NNP)\n",
      "  ./.)\n"
     ]
    }
   ],
   "source": [
    "# Implementation: There are two options :\n",
    "#1. binary = True\n",
    "#When the binary value is True, then it will only show whether a particular entity is named entity or not. \n",
    "#It will not show any further details on it.\n",
    "line=\"Mr. Smith made a deal on a beach of Switzerland near WHO.\"\n",
    "#tokenize words\n",
    "tokenized_w=word_tokenize(line)\n",
    "#POS tagging\n",
    "for w in tokenized_w:\n",
    "    tagged_w=nltk.pos_tag(tokenized_w)\n",
    "#NER\n",
    "ner1=nltk.ne_chunk(tagged_w,binary=True)\n",
    "print(ner1)\n",
    "#to visualize\n",
    "ner1.draw()"
   ]
  },
  {
   "cell_type": "code",
   "execution_count": null,
   "id": "e54a04c8",
   "metadata": {},
   "outputs": [
    {
     "name": "stdout",
     "output_type": "stream",
     "text": [
      "(S\n",
      "  (PERSON Mr./NNP)\n",
      "  (PERSON Smith/NNP)\n",
      "  made/VBD\n",
      "  a/DT\n",
      "  deal/NN\n",
      "  on/IN\n",
      "  a/DT\n",
      "  beach/NN\n",
      "  of/IN\n",
      "  (GPE Switzerland/NNP)\n",
      "  near/IN\n",
      "  (ORGANIZATION WHO/NNP)\n",
      "  ./.)\n"
     ]
    }
   ],
   "source": [
    "#2. binary = False\n",
    "#When the binary value equals False, it shows in detail the type of named entities \n",
    "#NER\n",
    "ner2=nltk.ne_chunk(tagged_w,binary=False)\n",
    "print(ner2)\n",
    "#to visualize\n",
    "ner2.draw()"
   ]
  },
  {
   "cell_type": "code",
   "execution_count": null,
   "id": "9058c575",
   "metadata": {},
   "outputs": [],
   "source": [
    "'''\n",
    "WordNet:\n",
    "Wordnet is a lexical database for the English language. Wordnet is a part of the NLTK corpus. We can use \n",
    "Wordnet to find meanings of words, synonyms, antonyms, and many other words.\n",
    "'''\n",
    "from nltk.corpus import wordnet"
   ]
  },
  {
   "cell_type": "code",
   "execution_count": null,
   "id": "0160c034",
   "metadata": {},
   "outputs": [
    {
     "name": "stdout",
     "output_type": "stream",
     "text": [
      "Synset('fun.n.01')\n",
      "Synset('fun.n.02')\n",
      "Synset('fun.n.03')\n",
      "Synset('playfulness.n.02')\n"
     ]
    }
   ],
   "source": [
    "#1. We can check how many different definitions of a word are available in Wordnet.\n",
    "for words in wordnet.synsets(\"Fun\"):\n",
    "    print(words)"
   ]
  },
  {
   "cell_type": "code",
   "execution_count": null,
   "id": "dcb29e3e",
   "metadata": {},
   "outputs": [
    {
     "name": "stdout",
     "output_type": "stream",
     "text": [
      "Lemma('fun.n.01.fun')\n",
      "Lemma('fun.n.01.merriment')\n",
      "Lemma('fun.n.01.playfulness')\n",
      "\n",
      "\n",
      "Lemma('fun.n.02.fun')\n",
      "Lemma('fun.n.02.play')\n",
      "Lemma('fun.n.02.sport')\n",
      "\n",
      "\n",
      "Lemma('fun.n.03.fun')\n",
      "\n",
      "\n",
      "Lemma('playfulness.n.02.playfulness')\n",
      "Lemma('playfulness.n.02.fun')\n",
      "\n",
      "\n"
     ]
    }
   ],
   "source": [
    "#2. We can also check the meaning of those different definitions.\n",
    "#how many different meanings or Gathering the meaning of the different definitions by using Wordnet.\n",
    "for words in wordnet.synsets(\"Fun\"):\n",
    "    for lemma in words.lemmas():\n",
    "        print(lemma)\n",
    "    print(\"\\n\")"
   ]
  },
  {
   "cell_type": "code",
   "execution_count": null,
   "id": "df516199",
   "metadata": {},
   "outputs": [
    {
     "name": "stdout",
     "output_type": "stream",
     "text": [
      "play.n.01\n",
      "a dramatic work intended for performance by actors on a stage\n",
      "['he wrote several plays but only one was produced on Broadway']\n"
     ]
    }
   ],
   "source": [
    "#3. All details for a word.\n",
    "#Finding all the details for a specific word.\n",
    "word=wordnet.synsets(\"Play\")[0]\n",
    "#checking name\n",
    "print(word.name())\n",
    "#checking definition\n",
    "print(word.definition())\n",
    "#checking examples\n",
    "print(word.examples())\n"
   ]
  },
  {
   "cell_type": "code",
   "execution_count": null,
   "id": "c950ddcb",
   "metadata": {},
   "outputs": [
    {
     "name": "stdout",
     "output_type": "stream",
     "text": [
      "fun.n.01\n",
      "activities that are enjoyable or amusing\n",
      "['I do it for the fun of it', 'he is fun to have around']\n",
      "Lemma('fun.n.01.fun')\n",
      "Lemma('fun.n.01.merriment')\n",
      "Lemma('fun.n.01.playfulness')\n",
      "\n",
      "\n",
      "fun.n.02\n",
      "verbal wit or mockery (often at another's expense but not to be taken seriously)\n",
      "['he became a figure of fun', 'he said it in sport']\n",
      "Lemma('fun.n.02.fun')\n",
      "Lemma('fun.n.02.play')\n",
      "Lemma('fun.n.02.sport')\n",
      "\n",
      "\n",
      "fun.n.03\n",
      "violent and excited activity\n",
      "['she asked for money and then the fun began', 'they began to fight like fun']\n",
      "Lemma('fun.n.03.fun')\n",
      "\n",
      "\n",
      "playfulness.n.02\n",
      "a disposition to find (or make) causes for amusement\n",
      "['her playfulness surprised me', 'he was fun to be with']\n",
      "Lemma('playfulness.n.02.playfulness')\n",
      "Lemma('playfulness.n.02.fun')\n",
      "\n",
      "\n"
     ]
    }
   ],
   "source": [
    "#4. All details for all meanings of a word.\n",
    "#Finding all details for all the meanings of a specific word.\n",
    "for words in wordnet.synsets(\"Fun\"):\n",
    "    print(words.name())\n",
    "    print(words.definition())\n",
    "    print(words.examples())\n",
    "    for lemma in words.lemmas():\n",
    "        print(lemma)\n",
    "    print(\"\\n\")"
   ]
  },
  {
   "cell_type": "code",
   "execution_count": null,
   "id": "148cafb0",
   "metadata": {},
   "outputs": [
    {
     "name": "stdout",
     "output_type": "stream",
     "text": [
      "[Synset('dramatic_composition.n.01')]\n"
     ]
    }
   ],
   "source": [
    "#5. Hypernyms: Hypernyms gives us a more abstract term for a word.\n",
    "word=wordnet.synsets(\"Play\")[0]\n",
    "#find more abstract terms\n",
    "print(word.hypernyms())"
   ]
  },
  {
   "cell_type": "code",
   "execution_count": null,
   "id": "c91778e8",
   "metadata": {},
   "outputs": [
    {
     "data": {
      "text/plain": [
       "[Synset('grand_guignol.n.01'),\n",
       " Synset('miracle_play.n.01'),\n",
       " Synset('morality_play.n.01'),\n",
       " Synset('mystery_play.n.01'),\n",
       " Synset('passion_play.n.01'),\n",
       " Synset('playlet.n.01'),\n",
       " Synset('satyr_play.n.01'),\n",
       " Synset('theater_of_the_absurd.n.01')]"
      ]
     },
     "execution_count": 47,
     "metadata": {},
     "output_type": "execute_result"
    }
   ],
   "source": [
    "#6. Hyponyms: Hyponyms gives us a more specific term for a word.\n",
    "word=wordnet.synsets(\"Play\")[0]\n",
    "#find more specific terms\n",
    "word.hyponyms()"
   ]
  },
  {
   "cell_type": "code",
   "execution_count": null,
   "id": "e4e35433",
   "metadata": {},
   "outputs": [
    {
     "name": "stdout",
     "output_type": "stream",
     "text": [
      "play\n"
     ]
    }
   ],
   "source": [
    "#7. Get a name only.\n",
    "word=wordnet.synsets(\"Play\")[0]\n",
    "#get only name\n",
    "print(word.lemmas()[0].name())"
   ]
  },
  {
   "cell_type": "code",
   "execution_count": null,
   "id": "8ce0bb94",
   "metadata": {},
   "outputs": [
    {
     "data": {
      "text/plain": [
       "['fun',\n",
       " 'merriment',\n",
       " 'playfulness',\n",
       " 'fun',\n",
       " 'play',\n",
       " 'sport',\n",
       " 'fun',\n",
       " 'playfulness',\n",
       " 'fun']"
      ]
     },
     "execution_count": 49,
     "metadata": {},
     "output_type": "execute_result"
    }
   ],
   "source": [
    "#8. Synonyms\n",
    "#finding synonyms\n",
    "#empty lsit to store synonyms\n",
    "synonyms=[]\n",
    "for words in wordnet.synsets(\"Fun\"):\n",
    "    for lemma in words.lemmas():\n",
    "        synonyms.append(lemma.name())\n",
    "synonyms"
   ]
  },
  {
   "cell_type": "code",
   "execution_count": null,
   "id": "cb0a84a5",
   "metadata": {},
   "outputs": [
    {
     "data": {
      "text/plain": [
       "['unnatural', 'artificial', 'supernatural', 'sharp']"
      ]
     },
     "execution_count": 50,
     "metadata": {},
     "output_type": "execute_result"
    }
   ],
   "source": [
    "#9. Antonyms\n",
    "#finding Antonyms\n",
    "#empty list to store Antonyms\n",
    "antonyms=[]\n",
    "for words in wordnet.synsets(\"Natural\"):\n",
    "    for lemma in words.lemmas():\n",
    "        if lemma.antonyms():\n",
    "            antonyms.append(lemma.antonyms()[0].name())\n",
    "antonyms"
   ]
  },
  {
   "cell_type": "code",
   "execution_count": null,
   "id": "30ae8aac",
   "metadata": {},
   "outputs": [
    {
     "name": "stdout",
     "output_type": "stream",
     "text": [
      "69.56521739130434\n"
     ]
    }
   ],
   "source": [
    "#10. Finding the similarity between words.\n",
    "#similarity in words or Finding the similarity ratio between words using Wordnet.\n",
    "word1=wordnet.synsets(\"ship\",\"n\")[0]\n",
    "word2=wordnet.synsets(\"bike\",\"n\")[0]\n",
    "#check similarity\n",
    "print(word1.wup_similarity(word2)*100)"
   ]
  },
  {
   "cell_type": "code",
   "execution_count": null,
   "id": "985a1e11",
   "metadata": {},
   "outputs": [
    {
     "data": {
      "text/plain": [
       "'\\nApplications:\\nNatural language processing.\\nInformation retrieval from documents.\\nClassifications of documents.\\n\\nLimitations:\\nSemantic meaning: It does not consider the semantic meaning of a word. It ignores the context in \\nwhich the word is used.\\nVector size: For large documents, the vector size increase, which may result in higher computational time.\\nPreprocessing: In preprocessing, we need to perform data cleansing before using it.\\n'"
      ]
     },
     "execution_count": 52,
     "metadata": {},
     "output_type": "execute_result"
    }
   ],
   "source": [
    "'''\n",
    "What is the Bag-of-Words method?\n",
    "It is a method of extracting essential features from row text so that we can use it for machine learning \n",
    "models. We call it “Bag” of words because we discard the order of occurrences of words. A bag of words \n",
    "model converts the raw text into words, and it also counts the frequency for the words in the text. In \n",
    "summary, a bag of words is a collection of words that represent a sentence along with the word count where \n",
    "the order of occurrences is not relevant.\n",
    "\n",
    "Structure of a bag of words: raw->clean text->tokenize->build vocab->generate vectors\n",
    "'''\n",
    "'''\n",
    "1. Raw Text: This is the original text on which we want to perform analysis.\n",
    "2. Clean Text: Since our raw text contains some unnecessary data like punctuation marks and stopwords, \n",
    "   so we need to clean up our text. Clean text is the text after removing such words.\n",
    "3. Tokenize: Tokenization represents the sentence as a group of tokens or words.\n",
    "4. Building Vocab: It contains total words used in the text after removing unnecessary data.\n",
    "5. Generate Vocab: It contains the words along with their frequencies in the sentences.\n",
    "'''\n",
    "\n",
    "'''\n",
    "Applications:\n",
    "Natural language processing.\n",
    "Information retrieval from documents.\n",
    "Classifications of documents.\n",
    "\n",
    "Limitations:\n",
    "Semantic meaning: It does not consider the semantic meaning of a word. It ignores the context in \n",
    "which the word is used.\n",
    "Vector size: For large documents, the vector size increase, which may result in higher computational time.\n",
    "Preprocessing: In preprocessing, we need to perform data cleansing before using it.\n",
    "'''"
   ]
  },
  {
   "cell_type": "code",
   "execution_count": null,
   "id": "28d09f9d",
   "metadata": {},
   "outputs": [
    {
     "data": {
      "text/plain": [
       "'\\nFor instance:\\n\\nSentences:\\n\\nJim and Pam traveled by bus.\\nThe train was late.\\nThe flight was full. Traveling by flight is expensive.\\n'"
      ]
     },
     "execution_count": 53,
     "metadata": {},
     "output_type": "execute_result"
    }
   ],
   "source": [
    "'''\n",
    "For instance:\n",
    "\n",
    "Sentences:\n",
    "\n",
    "Jim and Pam traveled by bus.\n",
    "The train was late.\n",
    "The flight was full. Traveling by flight is expensive.\n",
    "'''"
   ]
  },
  {
   "cell_type": "markdown",
   "id": "089918a4",
   "metadata": {},
   "source": [
    "<center>creating basic structure</center>\n",
    "<img src=\"https://cdn-images-1.medium.com/max/1200/0*6uySQ0MYWTowhp4C.png\" alt=\"creating basic structure\" title=\"structure\" />\n"
   ]
  },
  {
   "cell_type": "markdown",
   "id": "9e8a735b",
   "metadata": {},
   "source": [
    "<center>Words with frequencies</center>\n",
    "<img src=\"https://cdn-images-1.medium.com/max/1200/0*hfAuZhm0-pETOmFR.png\" alt=\"Words with frequencies\" title=\"structure\" />\n"
   ]
  },
  {
   "cell_type": "markdown",
   "id": "a81f847b",
   "metadata": {},
   "source": [
    "<center>Combining all the words</center>\n",
    "<img src=\"https://cdn-images-1.medium.com/max/1200/0*OWJN3fZAlPhhRRDM.png\" alt=\"Combining all the words\" title=\"structure\" />\n"
   ]
  },
  {
   "cell_type": "markdown",
   "id": "dbf03d28",
   "metadata": {},
   "source": [
    "<center>Final model</center>\n",
    "<img src=\"https://cdn-images-1.medium.com/max/1200/0*2FsPqVBihclU51kT.png\" alt=\"Final model\" title=\"structure\" />\n"
   ]
  },
  {
   "cell_type": "code",
   "execution_count": null,
   "id": "45af657e",
   "metadata": {},
   "outputs": [
    {
     "name": "stdout",
     "output_type": "stream",
     "text": [
      "{'jim': 7, 'and': 0, 'pam': 9, 'travelled': 12, 'by': 2, 'bus': 1, 'the': 10, 'train': 11, 'was': 14, 'late': 8, 'flight': 4, 'full': 5, 'travelling': 13, 'is': 6, 'expensive': 3} \n",
      "\n",
      "['and', 'bus', 'by', 'expensive', 'flight', 'full', 'is', 'jim', 'late', 'pam', 'the', 'train', 'travelled', 'travelling', 'was'] \n",
      "\n",
      "[[1 1 1 0 0 0 0 1 0 1 0 0 1 0 0]\n",
      " [0 0 0 0 0 0 0 0 1 0 1 1 0 0 1]\n",
      " [0 0 1 1 2 1 1 0 0 0 1 0 0 1 1]]\n"
     ]
    },
    {
     "name": "stderr",
     "output_type": "stream",
     "text": [
      "C:\\Users\\DEEP\\anaconda3\\lib\\site-packages\\sklearn\\utils\\deprecation.py:87: FutureWarning: Function get_feature_names is deprecated; get_feature_names is deprecated in 1.0 and will be removed in 1.2. Please use get_feature_names_out instead.\n",
      "  warnings.warn(msg, category=FutureWarning)\n"
     ]
    }
   ],
   "source": [
    "#implementation\n",
    "from sklearn.feature_extraction.text import CountVectorizer\n",
    "sentences=[\"Jim and Pam travelled by bus\",\n",
    "           \"The train was late\",\n",
    "           \"The flight was full. Travelling by flight is expensive\"]\n",
    "#create an object\n",
    "cv=CountVectorizer()\n",
    "#generating output for Bag of Words\n",
    "B_O_W=cv.fit_transform(sentences).toarray()\n",
    "#Total words with their index in model\n",
    "print(cv.vocabulary_,\"\\n\")\n",
    "#features\n",
    "print(cv.get_feature_names(),\"\\n\")\n",
    "#show the output\n",
    "print(B_O_W)"
   ]
  },
  {
   "cell_type": "code",
   "execution_count": null,
   "id": "a5027a06",
   "metadata": {},
   "outputs": [
    {
     "data": {
      "text/plain": [
       "'\\nTF-IDF\\nTF-IDF stands for Term Frequency\\u200a—\\u200aInverse Document Frequency, which is a scoring measure generally used \\nin information retrieval (IR) and summarization. The TF-IDF score shows how important or relevant a term \\nis in a given document.\\n\\nThe intuition behind TF and IDF:\\nIf a particular word appears multiple times in a document, then it might have higher importance than the \\nother words that appear fewer times (TF). At the same time, if a particular word appears many times in a \\ndocument, but it is also present many times in some other documents, then maybe that word is frequent, so \\nwe cannot assign much importance to it. (IDF). For instance, we have a database of thousands of dog \\ndescriptions, and the user wants to search for “a cute dog” from our database. The job of our search \\nengine would be to display the closest response to the user query. How would a search engine do that? The \\nsearch engine will possibly use TF-IDF to calculate the score for all of our descriptions, and the result \\nwith the higher score will be displayed as a response to the user. Now, this is the case when there is no \\nexact match for the user’s query. If there is an exact match for the user query, then that result will be \\ndisplayed first. Then, let’s suppose there are four descriptions available in our database.\\n\\nThe furry dog.\\nA cute doggo.\\nA big dog.\\nThe lovely doggo.\\n\\nNotice that the first description contains 2 out of 3 words from our user query, and the second description \\ncontains 1 word from the query. The third description also contains 1 word, and the forth description \\ncontains no words from the user query. As we can sense that the closest answer to our query will be \\ndescription number two, as it contains the essential word “cute” from the user’s query, this is how TF-IDF \\ncalculates the value.\\n\\nNotice that the term frequency values are the same for all of the sentences since none of the words in any \\nsentences repeat in the same sentence. So, in this case, the value of TF will not be instrumental. Next, \\nwe are going to use IDF values to get the closest answer to the query. Notice that the word dog or doggo \\ncan appear in many many documents. Therefore, the IDF value is going to be very low. Eventually, the \\nTF-IDF value will also be lower. However, if we check the word “cute” in the dog descriptions, then it \\nwill come up relatively fewer times, so it increases the TF-IDF value. So the word “cute” has more \\ndiscriminative power than “dog” or “doggo.” Then, our search engine will find the descriptions that have \\nthe word “cute” in it, and in the end, that is what the user was looking for.\\n\\nSimply put, the higher the TF*IDF score, the rarer or unique or valuable the term and vice versa.\\n'"
      ]
     },
     "execution_count": 55,
     "metadata": {},
     "output_type": "execute_result"
    }
   ],
   "source": [
    "'''\n",
    "TF-IDF\n",
    "TF-IDF stands for Term Frequency — Inverse Document Frequency, which is a scoring measure generally used \n",
    "in information retrieval (IR) and summarization. The TF-IDF score shows how important or relevant a term \n",
    "is in a given document.\n",
    "\n",
    "The intuition behind TF and IDF:\n",
    "If a particular word appears multiple times in a document, then it might have higher importance than the \n",
    "other words that appear fewer times (TF). At the same time, if a particular word appears many times in a \n",
    "document, but it is also present many times in some other documents, then maybe that word is frequent, so \n",
    "we cannot assign much importance to it. (IDF). For instance, we have a database of thousands of dog \n",
    "descriptions, and the user wants to search for “a cute dog” from our database. The job of our search \n",
    "engine would be to display the closest response to the user query. How would a search engine do that? The \n",
    "search engine will possibly use TF-IDF to calculate the score for all of our descriptions, and the result \n",
    "with the higher score will be displayed as a response to the user. Now, this is the case when there is no \n",
    "exact match for the user’s query. If there is an exact match for the user query, then that result will be \n",
    "displayed first. Then, let’s suppose there are four descriptions available in our database.\n",
    "\n",
    "The furry dog.\n",
    "A cute doggo.\n",
    "A big dog.\n",
    "The lovely doggo.\n",
    "\n",
    "Notice that the first description contains 2 out of 3 words from our user query, and the second description \n",
    "contains 1 word from the query. The third description also contains 1 word, and the forth description \n",
    "contains no words from the user query. As we can sense that the closest answer to our query will be \n",
    "description number two, as it contains the essential word “cute” from the user’s query, this is how TF-IDF \n",
    "calculates the value.\n",
    "\n",
    "Notice that the term frequency values are the same for all of the sentences since none of the words in any \n",
    "sentences repeat in the same sentence. So, in this case, the value of TF will not be instrumental. Next, \n",
    "we are going to use IDF values to get the closest answer to the query. Notice that the word dog or doggo \n",
    "can appear in many many documents. Therefore, the IDF value is going to be very low. Eventually, the \n",
    "TF-IDF value will also be lower. However, if we check the word “cute” in the dog descriptions, then it \n",
    "will come up relatively fewer times, so it increases the TF-IDF value. So the word “cute” has more \n",
    "discriminative power than “dog” or “doggo.” Then, our search engine will find the descriptions that have \n",
    "the word “cute” in it, and in the end, that is what the user was looking for.\n",
    "\n",
    "Simply put, the higher the TF*IDF score, the rarer or unique or valuable the term and vice versa.\n",
    "'''"
   ]
  },
  {
   "cell_type": "code",
   "execution_count": null,
   "id": "4a9e1a84",
   "metadata": {},
   "outputs": [
    {
     "data": {
      "text/plain": [
       "'\\nExample:\\n\\nSentence 1: This is the first document.\\n\\nSentence 2: This document is the second document.\\n'"
      ]
     },
     "execution_count": 56,
     "metadata": {},
     "output_type": "execute_result"
    }
   ],
   "source": [
    "'''\n",
    "Example:\n",
    "\n",
    "Sentence 1: This is the first document.\n",
    "\n",
    "Sentence 2: This document is the second document.\n",
    "'''"
   ]
  },
  {
   "cell_type": "markdown",
   "id": "669b0490",
   "metadata": {},
   "source": [
    "<center>a. Represent the words of the sentences in the table.</center>\n",
    "<img src=\"https://cdn-images-1.medium.com/max/1200/0*0imyRGXWp6fn-q14.png\" />\n",
    "<img src=\"https://cdn-images-1.medium.com/max/1200/0*a436JBrJTQuhi81Y.png\" /><br><br><br>\n",
    "\n",
    "<center>b. Displaying the frequency of words.</center>\n",
    "<img src=\"https://cdn-images-1.medium.com/max/1200/0*099C0l1lb4MM7Pp4.png\" /><br><br><br>\n",
    "\n",
    "<center>c. Calculating TF using a formula.</center>\n",
    "<img src=\"https://cdn-images-1.medium.com/max/1200/0*y9-71yYfG91r3umz.png\" />\n",
    "<img src=\"https://cdn-images-1.medium.com/max/1200/0*K2S7sYa7zEKwI3g-.png\" />\n",
    "<img src=\"https://cdn-images-1.medium.com/max/1200/0*O2N_qzk-kh7-H-TQ.png\" /><br><br><br>\n",
    "\n",
    "<center>d. Calculating IDF values from the formula.</center>\n",
    "<img src=\"https://cdn-images-1.medium.com/max/1200/0*SSrUhrX1iNa3d8B2.png\" /><br><br><br>\n",
    "\n",
    "<center>e. Calculating TF-IDF: TF-IDF is the multiplication of TF*IDF.</center>\n",
    "<img src=\"https://cdn-images-1.medium.com/max/1200/0*v1uxl3zcd-PxlQt9.png\" />\n",
    "<img src=\"https://cdn-images-1.medium.com/max/1200/0*XVqyo184bsL1Wl8E.png\" />\n",
    "<center>In this case, notice that the import words that discriminate both the sentences are “first” in sentence-1 and “second” in sentence-2 as we can see, those words have a relatively higher value than other words. However, there any many variations for smoothing out the values for large documents. The most common variation is to use a log value for TF-IDF. Let’s calculate the TF-IDF value again by using the new IDF value.</center><br><br><br>\n",
    "\n",
    "<center>f. Calculating IDF value using log.</center>\n",
    "<img src=\"https://cdn-images-1.medium.com/max/1200/0*FJtaWg30HwMWHSOZ.png\" /><br><br><br>\n",
    "\n",
    "<center>g. Calculating TF-IDF.</center>\n",
    "<img src=\"https://cdn-images-1.medium.com/max/1200/0*0vuIV5YUjXHAYdy5.png\" />\n",
    "<center>As seen above, “first” and “second” values are important words that help us to distinguish between those two sentences. Now that we saw the basics of TF-IDF. Next, we are going to use the sklearn library to implement TF-IDF in Python. A different formula calculates the actual output from our program. First, we will see an overview of our calculations and formulas, and then we will implement it in Python.</center>"
   ]
  },
  {
   "cell_type": "markdown",
   "id": "a0cc70c9",
   "metadata": {},
   "source": [
    "<center>Actual Calculations:</center>\n",
    "<center>a. Term Frequency (TF):</center>\n",
    "<img src=\"https://cdn-images-1.medium.com/max/1200/0*KOsiy9oFAlxrWxgm.png\" /><br><br><br>\n",
    "\n",
    "<center>b. Inverse Document Frequency (IDF):</center>\n",
    "<img src=\"https://cdn-images-1.medium.com/max/1200/0*DSpyWpadsYx_1fzK.png\" />\n",
    "<img src=\"https://cdn-images-1.medium.com/max/1200/0*19CoaalTK8QabWam.png\" /><br><br><br>\n",
    "\n",
    "<center>c. Calculating final TF-IDF values:</center>\n",
    "<img src=\"https://cdn-images-1.medium.com/max/1200/0*UE4oV5Mcg4FIZMZ9.png\" />\n",
    "<img src=\"https://cdn-images-1.medium.com/max/1200/0*fLJrZYNnzWKRURfp.png\" /><br><br><br>"
   ]
  },
  {
   "cell_type": "code",
   "execution_count": null,
   "id": "458abfe8",
   "metadata": {},
   "outputs": [
    {
     "name": "stdout",
     "output_type": "stream",
     "text": [
      "{'this': 5, 'is': 2, 'the': 4, 'first': 1, 'document': 0, 'second': 3} \n",
      "\n",
      " ['document', 'first', 'is', 'second', 'the', 'this'] \n",
      "\n",
      " [[1.         1.40546511 1.         0.         1.         1.        ]\n",
      " [2.         0.         1.         1.40546511 1.         1.        ]]\n"
     ]
    }
   ],
   "source": [
    "#implementation\n",
    "from sklearn.feature_extraction.text import TfidfVectorizer\n",
    "sentences=['This is the first document','This document is the second document']\n",
    "vectorizer=TfidfVectorizer(norm=None)\n",
    "x=vectorizer.fit_transform(sentences).toarray()\n",
    "print(vectorizer.vocabulary_,\"\\n\\n\",vectorizer.get_feature_names(),\"\\n\\n\",x)"
   ]
  }
 ],
 "metadata": {
  "kernelspec": {
   "display_name": "Python 3 (ipykernel)",
   "language": "python",
   "name": "python3"
  },
  "language_info": {
   "codemirror_mode": {
    "name": "ipython",
    "version": 3
   },
   "file_extension": ".py",
   "mimetype": "text/x-python",
   "name": "python",
   "nbconvert_exporter": "python",
   "pygments_lexer": "ipython3",
   "version": "3.11.5"
  }
 },
 "nbformat": 4,
 "nbformat_minor": 5
}
