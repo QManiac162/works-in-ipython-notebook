{
 "cells": [
  {
   "cell_type": "code",
   "execution_count": 2,
   "id": "d08f8baa",
   "metadata": {},
   "outputs": [
    {
     "data": {
      "text/plain": [
       "'\\n#mini project 2\\nCreate an 8x8 checker board using numpy and opencv.\\nOne can use loops(for,while) to get the answer.\\n\\nSubmit it in pdf document to mail.ameenmanna@gmail.com\\n\\nReport details\\n1.Intro\\n2.Start with the content of mini project\\n3.At the last page - put a screenshot of the output\\n\\nLAST DATE: August 25th,2022\\n'"
      ]
     },
     "execution_count": 2,
     "metadata": {},
     "output_type": "execute_result"
    }
   ],
   "source": [
    "'''\n",
    "#mini project 2\n",
    "Create an 8x8 checker board using numpy and opencv.\n",
    "One can use loops(for,while) to get the answer.\n",
    "\n",
    "Submit it in pdf document to mail.ameenmanna@gmail.com\n",
    "\n",
    "Report details\n",
    "1.Intro\n",
    "2.Start with the content of mini project\n",
    "3.At the last page - put a screenshot of the output\n",
    "\n",
    "LAST DATE: August 25th,2022\n",
    "'''\n",
    "#Done by: Deep Samanta\n",
    "#2nd year mechanical engineering b-tech\n",
    "#National Institute of Technology Durgapur"
   ]
  },
  {
   "cell_type": "code",
   "execution_count": 3,
   "id": "c7d537d3",
   "metadata": {},
   "outputs": [
    {
     "data": {
      "text/plain": [
       "'\\nOpenCV-Python is a library of Python bindings designed to solve computer vision problems. \\ncv2.imshow() method is used to display an image in a window. The window automatically fits to the \\nimage size.\\nSyntax: cv2.imshow(window_name, image)\\nParameters: \\nwindow_name: A string representing the name of the window in which image to be displayed. \\nimage: It is the image that is to be displayed.\\nReturn Value: It doesn’t returns anything.\\n'"
      ]
     },
     "execution_count": 3,
     "metadata": {},
     "output_type": "execute_result"
    }
   ],
   "source": [
    "'''\n",
    "OpenCV-Python is a library of Python bindings designed to solve computer vision problems. \n",
    "cv2.imshow() method is used to display an image in a window. The window automatically fits to the \n",
    "image size.\n",
    "Syntax: cv2.imshow(window_name, image)\n",
    "Parameters: \n",
    "window_name: A string representing the name of the window in which image to be displayed. \n",
    "image: It is the image that is to be displayed.\n",
    "Return Value: It doesn’t returns anything.\n",
    "'''"
   ]
  },
  {
   "cell_type": "code",
   "execution_count": 4,
   "id": "11f8b172",
   "metadata": {},
   "outputs": [],
   "source": [
    "#using opencv\n",
    "#using white background\n",
    "import numpy as np\n",
    "import cv2 as cv\n",
    "checkboard_opencv=np.ones((800,800,3))\n",
    "for i in range(0,800,100):\n",
    "    for j in range(0,800,100):\n",
    "        if(i%200==0 and j%200==0):\n",
    "            checkboard_opencv[j:j+100,i:i+100]=0,0,0\n",
    "        if(i%200!=0 and j%200!=0):\n",
    "            checkboard_opencv[j:j+100,i:i+100]=0,0,0\n",
    "cv.imshow('white background checkboard',checkboard_opencv)\n",
    "cv.waitKey(0)\n",
    "cv.destroyAllWindows()"
   ]
  },
  {
   "cell_type": "code",
   "execution_count": 5,
   "id": "d453811f",
   "metadata": {},
   "outputs": [],
   "source": [
    "#using black background\n",
    "checkboard_opencv=np.zeros((800,800,3))\n",
    "for i in range(0,800,100):\n",
    "    for j in range(0,800,100):\n",
    "        if(i%200==0 and j%200==0):\n",
    "            checkboard_opencv[j:j+100,i:i+100]=255,255,255\n",
    "        if(i%200!=0 and j%200!=0):\n",
    "            checkboard_opencv[j:j+100,i:i+100]=255,255,255\n",
    "cv.imshow('black background checkboard',checkboard_opencv)\n",
    "cv.waitKey(0)\n",
    "cv.destroyAllWindows()"
   ]
  },
  {
   "cell_type": "code",
   "execution_count": 6,
   "id": "7912d19d",
   "metadata": {},
   "outputs": [
    {
     "data": {
      "text/plain": [
       "'\\nnumpy library:  used for working with arrays. Here we make use of list and 2D array\\nto develope the matrix structure and then at each index of matrix, we assign certain\\nvalues which are actually color code pixel and better visualised with matplotlib\\n\\nmatplotlib libraray: is used to display the color code into actual colors rather than\\nnumbers onto the screen based on its location of matrix\\n'"
      ]
     },
     "execution_count": 6,
     "metadata": {},
     "output_type": "execute_result"
    }
   ],
   "source": [
    "'''\n",
    "numpy library:  used for working with arrays. Here we make use of list and 2D array\n",
    "to develope the matrix structure and then at each index of matrix, we assign certain\n",
    "values which are actually color code pixel and better visualised with matplotlib\n",
    "\n",
    "matplotlib libraray: is used to display the color code into actual colors rather than\n",
    "numbers onto the screen based on its location of matrix\n",
    "'''"
   ]
  },
  {
   "cell_type": "code",
   "execution_count": 7,
   "id": "0cd37b97",
   "metadata": {},
   "outputs": [],
   "source": [
    "#using numpy \n",
    "import numpy as np\n",
    "from matplotlib import pyplot as plt\n",
    "def color(n):\n",
    "    if(n%2==0):\n",
    "        return [0,0,0]\n",
    "    else:\n",
    "        return [255,255,255]\n",
    "index1=[]\n",
    "row1,row2=0,1\n",
    "for i in range(0,68):\n",
    "    if(row1<8):\n",
    "        index1.append(row1)\n",
    "        row1=row1+1\n",
    "    elif(row2<9):\n",
    "        index1.append(row2)\n",
    "        row2=row2+1\n",
    "    else:\n",
    "        row1,row2=0,1\n",
    "matrix=map(color, index1)\n",
    "checkboard_numpy=np.array(list(matrix))"
   ]
  },
  {
   "cell_type": "code",
   "execution_count": 8,
   "id": "c3c4331b",
   "metadata": {},
   "outputs": [
    {
     "data": {
      "text/plain": [
       "<matplotlib.image.AxesImage at 0x268c99da3d0>"
      ]
     },
     "execution_count": 8,
     "metadata": {},
     "output_type": "execute_result"
    },
    {
     "data": {
      "image/png": "[encoded data removed]",
      "text/plain": [
       "<Figure size 432x288 with 1 Axes>"
      ]
     },
     "metadata": {
      "needs_background": "light"
     },
     "output_type": "display_data"
    }
   ],
   "source": [
    "index2=[]\n",
    "for i in range(0,57,8):\n",
    "    index2.append(i)\n",
    "def position(n):\n",
    "        return [n,n+1,n+2,n+3,n+4,n+5,n+6,n+7]\n",
    "arrange=map(position, index2)\n",
    "matrix_arrange=np.array(list(arrange))\n",
    "matrix_arrange\n",
    "checkboard_numpy[matrix_arrange]\n",
    "plt.imshow(checkboard_numpy[matrix_arrange])"
   ]
  }
 ],
 "metadata": {
  "kernelspec": {
   "display_name": "Python 3 (ipykernel)",
   "language": "python",
   "name": "python3"
  },
  "language_info": {
   "codemirror_mode": {
    "name": "ipython",
    "version": 3
   },
   "file_extension": ".py",
   "mimetype": "text/x-python",
   "name": "python",
   "nbconvert_exporter": "python",
   "pygments_lexer": "ipython3",
   "version": "3.9.12"
  }
 },
 "nbformat": 4,
 "nbformat_minor": 5
}
